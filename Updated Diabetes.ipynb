{
 "cells": [
  {
   "cell_type": "code",
   "execution_count": 1,
   "metadata": {},
   "outputs": [],
   "source": [
    "import numpy as np\n",
    "import pandas as pd \n",
    "import matplotlib.pyplot as plt \n",
    "%matplotlib inline  \n",
    "import plotly.offline as py\n",
    "import plotly.express as px"
   ]
  },
  {
   "cell_type": "code",
   "execution_count": 2,
   "metadata": {},
   "outputs": [
    {
     "data": {
      "text/html": [
       "        <script type=\"text/javascript\">\n",
       "        window.PlotlyConfig = {MathJaxConfig: 'local'};\n",
       "        if (window.MathJax) {MathJax.Hub.Config({SVG: {font: \"STIX-Web\"}});}\n",
       "        if (typeof require !== 'undefined') {\n",
       "        require.undef(\"plotly\");\n",
       "        requirejs.config({\n",
       "            paths: {\n",
       "                'plotly': ['https://cdn.plot.ly/plotly-latest.min']\n",
       "            }\n",
       "        });\n",
       "        require(['plotly'], function(Plotly) {\n",
       "            window._Plotly = Plotly;\n",
       "        });\n",
       "        }\n",
       "        </script>\n",
       "        "
      ]
     },
     "metadata": {},
     "output_type": "display_data"
    }
   ],
   "source": [
    "import plotly.graph_objs as go\n",
    "from plotly.offline import download_plotlyjs,init_notebook_mode,plot, iplot\n",
    "import plotly.tools as tls\n",
    "import plotly.figure_factory as ff\n",
    "py.init_notebook_mode(connected=True)"
   ]
  },
  {
   "cell_type": "code",
   "execution_count": 3,
   "metadata": {},
   "outputs": [],
   "source": [
    "from mlxtend.preprocessing import minmax_scaling "
   ]
  },
  {
   "cell_type": "code",
   "execution_count": 4,
   "metadata": {},
   "outputs": [],
   "source": [
    "import tensorflow as tf"
   ]
  },
  {
   "cell_type": "code",
   "execution_count": 5,
   "metadata": {},
   "outputs": [],
   "source": [
    "import os\n",
    "for dirname, _, filenames in os.walk('/kaggle/input'):\n",
    "    for filename in filenames:\n",
    "        print(os.path.join(dirname, filename))"
   ]
  },
  {
   "cell_type": "code",
   "execution_count": 7,
   "metadata": {},
   "outputs": [],
   "source": [
    "data = pd.read_csv(\"diabetes.csv\")"
   ]
  },
  {
   "cell_type": "code",
   "execution_count": 8,
   "metadata": {},
   "outputs": [
    {
     "name": "stdout",
     "output_type": "stream",
     "text": [
      "<class 'pandas.core.frame.DataFrame'>\n",
      "RangeIndex: 768 entries, 0 to 767\n",
      "Data columns (total 9 columns):\n",
      " #   Column                    Non-Null Count  Dtype  \n",
      "---  ------                    --------------  -----  \n",
      " 0   Pregnancies               768 non-null    int64  \n",
      " 1   Glucose                   768 non-null    int64  \n",
      " 2   BloodPressure             768 non-null    int64  \n",
      " 3   SkinThickness             768 non-null    int64  \n",
      " 4   Insulin                   768 non-null    int64  \n",
      " 5   BMI                       768 non-null    float64\n",
      " 6   DiabetesPedigreeFunction  768 non-null    float64\n",
      " 7   Age                       768 non-null    int64  \n",
      " 8   Outcome                   768 non-null    int64  \n",
      "dtypes: float64(2), int64(7)\n",
      "memory usage: 54.1 KB\n"
     ]
    },
    {
     "data": {
      "text/plain": [
       "None"
      ]
     },
     "metadata": {},
     "output_type": "display_data"
    },
    {
     "data": {
      "text/html": [
       "<div>\n",
       "<style scoped>\n",
       "    .dataframe tbody tr th:only-of-type {\n",
       "        vertical-align: middle;\n",
       "    }\n",
       "\n",
       "    .dataframe tbody tr th {\n",
       "        vertical-align: top;\n",
       "    }\n",
       "\n",
       "    .dataframe thead th {\n",
       "        text-align: right;\n",
       "    }\n",
       "</style>\n",
       "<table border=\"1\" class=\"dataframe\">\n",
       "  <thead>\n",
       "    <tr style=\"text-align: right;\">\n",
       "      <th></th>\n",
       "      <th>Pregnancies</th>\n",
       "      <th>Glucose</th>\n",
       "      <th>BloodPressure</th>\n",
       "      <th>SkinThickness</th>\n",
       "      <th>Insulin</th>\n",
       "      <th>BMI</th>\n",
       "      <th>DiabetesPedigreeFunction</th>\n",
       "      <th>Age</th>\n",
       "      <th>Outcome</th>\n",
       "    </tr>\n",
       "  </thead>\n",
       "  <tbody>\n",
       "    <tr>\n",
       "      <th>0</th>\n",
       "      <td>6</td>\n",
       "      <td>148</td>\n",
       "      <td>72</td>\n",
       "      <td>35</td>\n",
       "      <td>0</td>\n",
       "      <td>33.6</td>\n",
       "      <td>0.627</td>\n",
       "      <td>50</td>\n",
       "      <td>1</td>\n",
       "    </tr>\n",
       "    <tr>\n",
       "      <th>1</th>\n",
       "      <td>1</td>\n",
       "      <td>85</td>\n",
       "      <td>66</td>\n",
       "      <td>29</td>\n",
       "      <td>0</td>\n",
       "      <td>26.6</td>\n",
       "      <td>0.351</td>\n",
       "      <td>31</td>\n",
       "      <td>0</td>\n",
       "    </tr>\n",
       "    <tr>\n",
       "      <th>2</th>\n",
       "      <td>8</td>\n",
       "      <td>183</td>\n",
       "      <td>64</td>\n",
       "      <td>0</td>\n",
       "      <td>0</td>\n",
       "      <td>23.3</td>\n",
       "      <td>0.672</td>\n",
       "      <td>32</td>\n",
       "      <td>1</td>\n",
       "    </tr>\n",
       "    <tr>\n",
       "      <th>3</th>\n",
       "      <td>1</td>\n",
       "      <td>89</td>\n",
       "      <td>66</td>\n",
       "      <td>23</td>\n",
       "      <td>94</td>\n",
       "      <td>28.1</td>\n",
       "      <td>0.167</td>\n",
       "      <td>21</td>\n",
       "      <td>0</td>\n",
       "    </tr>\n",
       "    <tr>\n",
       "      <th>4</th>\n",
       "      <td>0</td>\n",
       "      <td>137</td>\n",
       "      <td>40</td>\n",
       "      <td>35</td>\n",
       "      <td>168</td>\n",
       "      <td>43.1</td>\n",
       "      <td>2.288</td>\n",
       "      <td>33</td>\n",
       "      <td>1</td>\n",
       "    </tr>\n",
       "  </tbody>\n",
       "</table>\n",
       "</div>"
      ],
      "text/plain": [
       "   Pregnancies  Glucose  BloodPressure  SkinThickness  Insulin   BMI  \\\n",
       "0            6      148             72             35        0  33.6   \n",
       "1            1       85             66             29        0  26.6   \n",
       "2            8      183             64              0        0  23.3   \n",
       "3            1       89             66             23       94  28.1   \n",
       "4            0      137             40             35      168  43.1   \n",
       "\n",
       "   DiabetesPedigreeFunction  Age  Outcome  \n",
       "0                     0.627   50        1  \n",
       "1                     0.351   31        0  \n",
       "2                     0.672   32        1  \n",
       "3                     0.167   21        0  \n",
       "4                     2.288   33        1  "
      ]
     },
     "metadata": {},
     "output_type": "display_data"
    }
   ],
   "source": [
    "display(data.info(),data.head())"
   ]
  },
  {
   "cell_type": "code",
   "execution_count": 10,
   "metadata": {},
   "outputs": [],
   "source": [
    "data[['Glucose','BloodPressure','SkinThickness','Insulin','BMI','DiabetesPedigreeFunction','Age']] = data[['Glucose','BloodPressure','SkinThickness','Insulin','BMI','DiabetesPedigreeFunction','Age']].replace(0,np.NaN)    "
   ]
  },
  {
   "cell_type": "code",
   "execution_count": 11,
   "metadata": {},
   "outputs": [
    {
     "data": {
      "text/plain": [
       "Pregnancies                   0\n",
       "Glucose                       5\n",
       "BloodPressure                35\n",
       "SkinThickness               227\n",
       "Insulin                     374\n",
       "BMI                          11\n",
       "DiabetesPedigreeFunction      0\n",
       "Age                           0\n",
       "Outcome                       0\n",
       "dtype: int64"
      ]
     },
     "execution_count": 11,
     "metadata": {},
     "output_type": "execute_result"
    }
   ],
   "source": [
    "data.isnull().sum()"
   ]
  },
  {
   "cell_type": "code",
   "execution_count": 12,
   "metadata": {},
   "outputs": [],
   "source": [
    "def missing_plot(dataset, key) :\n",
    "    null_feat = pd.DataFrame(len(dataset[key]) - dataset.isnull().sum(), columns = ['Count'])\n",
    "    percentage_null = pd.DataFrame((dataset.isnull().sum())/len(dataset[key])*100, columns = ['Count'])\n",
    "    percentage_null = percentage_null.round(2)\n",
    "\n",
    "    trace = go.Bar(x = null_feat.index, y = null_feat['Count'] ,opacity = 0.8, text = percentage_null['Count'],  textposition = 'auto',marker=dict(color = '#7EC0EE',\n",
    "            line=dict(color='#000000',width=1.5)))\n",
    "\n",
    "    layout = dict(title =  \"Missing Values (count & %)\")\n",
    "\n",
    "    fig = dict(data = [trace], layout=layout)\n",
    "    py.iplot(fig)"
   ]
  },
  {
   "cell_type": "code",
   "execution_count": 13,
   "metadata": {},
   "outputs": [
    {
     "data": {
      "application/vnd.plotly.v1+json": {
       "config": {
        "linkText": "Export to plot.ly",
        "plotlyServerURL": "https://plot.ly",
        "showLink": false
       },
       "data": [
        {
         "marker": {
          "color": "#7EC0EE",
          "line": {
           "color": "#000000",
           "width": 1.5
          }
         },
         "opacity": 0.8,
         "text": [
          0,
          0.65,
          4.56,
          29.56,
          48.7,
          1.43,
          0,
          0,
          0
         ],
         "textposition": "auto",
         "type": "bar",
         "x": [
          "Pregnancies",
          "Glucose",
          "BloodPressure",
          "SkinThickness",
          "Insulin",
          "BMI",
          "DiabetesPedigreeFunction",
          "Age",
          "Outcome"
         ],
         "y": [
          768,
          763,
          733,
          541,
          394,
          757,
          768,
          768,
          768
         ]
        }
       ],
       "layout": {
        "template": {
         "data": {
          "bar": [
           {
            "error_x": {
             "color": "#2a3f5f"
            },
            "error_y": {
             "color": "#2a3f5f"
            },
            "marker": {
             "line": {
              "color": "#E5ECF6",
              "width": 0.5
             }
            },
            "type": "bar"
           }
          ],
          "barpolar": [
           {
            "marker": {
             "line": {
              "color": "#E5ECF6",
              "width": 0.5
             }
            },
            "type": "barpolar"
           }
          ],
          "carpet": [
           {
            "aaxis": {
             "endlinecolor": "#2a3f5f",
             "gridcolor": "white",
             "linecolor": "white",
             "minorgridcolor": "white",
             "startlinecolor": "#2a3f5f"
            },
            "baxis": {
             "endlinecolor": "#2a3f5f",
             "gridcolor": "white",
             "linecolor": "white",
             "minorgridcolor": "white",
             "startlinecolor": "#2a3f5f"
            },
            "type": "carpet"
           }
          ],
          "choropleth": [
           {
            "colorbar": {
             "outlinewidth": 0,
             "ticks": ""
            },
            "type": "choropleth"
           }
          ],
          "contour": [
           {
            "colorbar": {
             "outlinewidth": 0,
             "ticks": ""
            },
            "colorscale": [
             [
              0,
              "#0d0887"
             ],
             [
              0.1111111111111111,
              "#46039f"
             ],
             [
              0.2222222222222222,
              "#7201a8"
             ],
             [
              0.3333333333333333,
              "#9c179e"
             ],
             [
              0.4444444444444444,
              "#bd3786"
             ],
             [
              0.5555555555555556,
              "#d8576b"
             ],
             [
              0.6666666666666666,
              "#ed7953"
             ],
             [
              0.7777777777777778,
              "#fb9f3a"
             ],
             [
              0.8888888888888888,
              "#fdca26"
             ],
             [
              1,
              "#f0f921"
             ]
            ],
            "type": "contour"
           }
          ],
          "contourcarpet": [
           {
            "colorbar": {
             "outlinewidth": 0,
             "ticks": ""
            },
            "type": "contourcarpet"
           }
          ],
          "heatmap": [
           {
            "colorbar": {
             "outlinewidth": 0,
             "ticks": ""
            },
            "colorscale": [
             [
              0,
              "#0d0887"
             ],
             [
              0.1111111111111111,
              "#46039f"
             ],
             [
              0.2222222222222222,
              "#7201a8"
             ],
             [
              0.3333333333333333,
              "#9c179e"
             ],
             [
              0.4444444444444444,
              "#bd3786"
             ],
             [
              0.5555555555555556,
              "#d8576b"
             ],
             [
              0.6666666666666666,
              "#ed7953"
             ],
             [
              0.7777777777777778,
              "#fb9f3a"
             ],
             [
              0.8888888888888888,
              "#fdca26"
             ],
             [
              1,
              "#f0f921"
             ]
            ],
            "type": "heatmap"
           }
          ],
          "heatmapgl": [
           {
            "colorbar": {
             "outlinewidth": 0,
             "ticks": ""
            },
            "colorscale": [
             [
              0,
              "#0d0887"
             ],
             [
              0.1111111111111111,
              "#46039f"
             ],
             [
              0.2222222222222222,
              "#7201a8"
             ],
             [
              0.3333333333333333,
              "#9c179e"
             ],
             [
              0.4444444444444444,
              "#bd3786"
             ],
             [
              0.5555555555555556,
              "#d8576b"
             ],
             [
              0.6666666666666666,
              "#ed7953"
             ],
             [
              0.7777777777777778,
              "#fb9f3a"
             ],
             [
              0.8888888888888888,
              "#fdca26"
             ],
             [
              1,
              "#f0f921"
             ]
            ],
            "type": "heatmapgl"
           }
          ],
          "histogram": [
           {
            "marker": {
             "colorbar": {
              "outlinewidth": 0,
              "ticks": ""
             }
            },
            "type": "histogram"
           }
          ],
          "histogram2d": [
           {
            "colorbar": {
             "outlinewidth": 0,
             "ticks": ""
            },
            "colorscale": [
             [
              0,
              "#0d0887"
             ],
             [
              0.1111111111111111,
              "#46039f"
             ],
             [
              0.2222222222222222,
              "#7201a8"
             ],
             [
              0.3333333333333333,
              "#9c179e"
             ],
             [
              0.4444444444444444,
              "#bd3786"
             ],
             [
              0.5555555555555556,
              "#d8576b"
             ],
             [
              0.6666666666666666,
              "#ed7953"
             ],
             [
              0.7777777777777778,
              "#fb9f3a"
             ],
             [
              0.8888888888888888,
              "#fdca26"
             ],
             [
              1,
              "#f0f921"
             ]
            ],
            "type": "histogram2d"
           }
          ],
          "histogram2dcontour": [
           {
            "colorbar": {
             "outlinewidth": 0,
             "ticks": ""
            },
            "colorscale": [
             [
              0,
              "#0d0887"
             ],
             [
              0.1111111111111111,
              "#46039f"
             ],
             [
              0.2222222222222222,
              "#7201a8"
             ],
             [
              0.3333333333333333,
              "#9c179e"
             ],
             [
              0.4444444444444444,
              "#bd3786"
             ],
             [
              0.5555555555555556,
              "#d8576b"
             ],
             [
              0.6666666666666666,
              "#ed7953"
             ],
             [
              0.7777777777777778,
              "#fb9f3a"
             ],
             [
              0.8888888888888888,
              "#fdca26"
             ],
             [
              1,
              "#f0f921"
             ]
            ],
            "type": "histogram2dcontour"
           }
          ],
          "mesh3d": [
           {
            "colorbar": {
             "outlinewidth": 0,
             "ticks": ""
            },
            "type": "mesh3d"
           }
          ],
          "parcoords": [
           {
            "line": {
             "colorbar": {
              "outlinewidth": 0,
              "ticks": ""
             }
            },
            "type": "parcoords"
           }
          ],
          "pie": [
           {
            "automargin": true,
            "type": "pie"
           }
          ],
          "scatter": [
           {
            "marker": {
             "colorbar": {
              "outlinewidth": 0,
              "ticks": ""
             }
            },
            "type": "scatter"
           }
          ],
          "scatter3d": [
           {
            "line": {
             "colorbar": {
              "outlinewidth": 0,
              "ticks": ""
             }
            },
            "marker": {
             "colorbar": {
              "outlinewidth": 0,
              "ticks": ""
             }
            },
            "type": "scatter3d"
           }
          ],
          "scattercarpet": [
           {
            "marker": {
             "colorbar": {
              "outlinewidth": 0,
              "ticks": ""
             }
            },
            "type": "scattercarpet"
           }
          ],
          "scattergeo": [
           {
            "marker": {
             "colorbar": {
              "outlinewidth": 0,
              "ticks": ""
             }
            },
            "type": "scattergeo"
           }
          ],
          "scattergl": [
           {
            "marker": {
             "colorbar": {
              "outlinewidth": 0,
              "ticks": ""
             }
            },
            "type": "scattergl"
           }
          ],
          "scattermapbox": [
           {
            "marker": {
             "colorbar": {
              "outlinewidth": 0,
              "ticks": ""
             }
            },
            "type": "scattermapbox"
           }
          ],
          "scatterpolar": [
           {
            "marker": {
             "colorbar": {
              "outlinewidth": 0,
              "ticks": ""
             }
            },
            "type": "scatterpolar"
           }
          ],
          "scatterpolargl": [
           {
            "marker": {
             "colorbar": {
              "outlinewidth": 0,
              "ticks": ""
             }
            },
            "type": "scatterpolargl"
           }
          ],
          "scatterternary": [
           {
            "marker": {
             "colorbar": {
              "outlinewidth": 0,
              "ticks": ""
             }
            },
            "type": "scatterternary"
           }
          ],
          "surface": [
           {
            "colorbar": {
             "outlinewidth": 0,
             "ticks": ""
            },
            "colorscale": [
             [
              0,
              "#0d0887"
             ],
             [
              0.1111111111111111,
              "#46039f"
             ],
             [
              0.2222222222222222,
              "#7201a8"
             ],
             [
              0.3333333333333333,
              "#9c179e"
             ],
             [
              0.4444444444444444,
              "#bd3786"
             ],
             [
              0.5555555555555556,
              "#d8576b"
             ],
             [
              0.6666666666666666,
              "#ed7953"
             ],
             [
              0.7777777777777778,
              "#fb9f3a"
             ],
             [
              0.8888888888888888,
              "#fdca26"
             ],
             [
              1,
              "#f0f921"
             ]
            ],
            "type": "surface"
           }
          ],
          "table": [
           {
            "cells": {
             "fill": {
              "color": "#EBF0F8"
             },
             "line": {
              "color": "white"
             }
            },
            "header": {
             "fill": {
              "color": "#C8D4E3"
             },
             "line": {
              "color": "white"
             }
            },
            "type": "table"
           }
          ]
         },
         "layout": {
          "annotationdefaults": {
           "arrowcolor": "#2a3f5f",
           "arrowhead": 0,
           "arrowwidth": 1
          },
          "coloraxis": {
           "colorbar": {
            "outlinewidth": 0,
            "ticks": ""
           }
          },
          "colorscale": {
           "diverging": [
            [
             0,
             "#8e0152"
            ],
            [
             0.1,
             "#c51b7d"
            ],
            [
             0.2,
             "#de77ae"
            ],
            [
             0.3,
             "#f1b6da"
            ],
            [
             0.4,
             "#fde0ef"
            ],
            [
             0.5,
             "#f7f7f7"
            ],
            [
             0.6,
             "#e6f5d0"
            ],
            [
             0.7,
             "#b8e186"
            ],
            [
             0.8,
             "#7fbc41"
            ],
            [
             0.9,
             "#4d9221"
            ],
            [
             1,
             "#276419"
            ]
           ],
           "sequential": [
            [
             0,
             "#0d0887"
            ],
            [
             0.1111111111111111,
             "#46039f"
            ],
            [
             0.2222222222222222,
             "#7201a8"
            ],
            [
             0.3333333333333333,
             "#9c179e"
            ],
            [
             0.4444444444444444,
             "#bd3786"
            ],
            [
             0.5555555555555556,
             "#d8576b"
            ],
            [
             0.6666666666666666,
             "#ed7953"
            ],
            [
             0.7777777777777778,
             "#fb9f3a"
            ],
            [
             0.8888888888888888,
             "#fdca26"
            ],
            [
             1,
             "#f0f921"
            ]
           ],
           "sequentialminus": [
            [
             0,
             "#0d0887"
            ],
            [
             0.1111111111111111,
             "#46039f"
            ],
            [
             0.2222222222222222,
             "#7201a8"
            ],
            [
             0.3333333333333333,
             "#9c179e"
            ],
            [
             0.4444444444444444,
             "#bd3786"
            ],
            [
             0.5555555555555556,
             "#d8576b"
            ],
            [
             0.6666666666666666,
             "#ed7953"
            ],
            [
             0.7777777777777778,
             "#fb9f3a"
            ],
            [
             0.8888888888888888,
             "#fdca26"
            ],
            [
             1,
             "#f0f921"
            ]
           ]
          },
          "colorway": [
           "#636efa",
           "#EF553B",
           "#00cc96",
           "#ab63fa",
           "#FFA15A",
           "#19d3f3",
           "#FF6692",
           "#B6E880",
           "#FF97FF",
           "#FECB52"
          ],
          "font": {
           "color": "#2a3f5f"
          },
          "geo": {
           "bgcolor": "white",
           "lakecolor": "white",
           "landcolor": "#E5ECF6",
           "showlakes": true,
           "showland": true,
           "subunitcolor": "white"
          },
          "hoverlabel": {
           "align": "left"
          },
          "hovermode": "closest",
          "mapbox": {
           "style": "light"
          },
          "paper_bgcolor": "white",
          "plot_bgcolor": "#E5ECF6",
          "polar": {
           "angularaxis": {
            "gridcolor": "white",
            "linecolor": "white",
            "ticks": ""
           },
           "bgcolor": "#E5ECF6",
           "radialaxis": {
            "gridcolor": "white",
            "linecolor": "white",
            "ticks": ""
           }
          },
          "scene": {
           "xaxis": {
            "backgroundcolor": "#E5ECF6",
            "gridcolor": "white",
            "gridwidth": 2,
            "linecolor": "white",
            "showbackground": true,
            "ticks": "",
            "zerolinecolor": "white"
           },
           "yaxis": {
            "backgroundcolor": "#E5ECF6",
            "gridcolor": "white",
            "gridwidth": 2,
            "linecolor": "white",
            "showbackground": true,
            "ticks": "",
            "zerolinecolor": "white"
           },
           "zaxis": {
            "backgroundcolor": "#E5ECF6",
            "gridcolor": "white",
            "gridwidth": 2,
            "linecolor": "white",
            "showbackground": true,
            "ticks": "",
            "zerolinecolor": "white"
           }
          },
          "shapedefaults": {
           "line": {
            "color": "#2a3f5f"
           }
          },
          "ternary": {
           "aaxis": {
            "gridcolor": "white",
            "linecolor": "white",
            "ticks": ""
           },
           "baxis": {
            "gridcolor": "white",
            "linecolor": "white",
            "ticks": ""
           },
           "bgcolor": "#E5ECF6",
           "caxis": {
            "gridcolor": "white",
            "linecolor": "white",
            "ticks": ""
           }
          },
          "title": {
           "x": 0.05
          },
          "xaxis": {
           "automargin": true,
           "gridcolor": "white",
           "linecolor": "white",
           "ticks": "",
           "title": {
            "standoff": 15
           },
           "zerolinecolor": "white",
           "zerolinewidth": 2
          },
          "yaxis": {
           "automargin": true,
           "gridcolor": "white",
           "linecolor": "white",
           "ticks": "",
           "title": {
            "standoff": 15
           },
           "zerolinecolor": "white",
           "zerolinewidth": 2
          }
         }
        },
        "title": {
         "text": "Missing Values (count & %)"
        }
       }
      },
      "text/html": [
       "<div>\n",
       "        \n",
       "        \n",
       "            <div id=\"a8be8f09-ec8c-4a85-a110-21be023bd415\" class=\"plotly-graph-div\" style=\"height:525px; width:100%;\"></div>\n",
       "            <script type=\"text/javascript\">\n",
       "                require([\"plotly\"], function(Plotly) {\n",
       "                    window.PLOTLYENV=window.PLOTLYENV || {};\n",
       "                    \n",
       "                if (document.getElementById(\"a8be8f09-ec8c-4a85-a110-21be023bd415\")) {\n",
       "                    Plotly.newPlot(\n",
       "                        'a8be8f09-ec8c-4a85-a110-21be023bd415',\n",
       "                        [{\"marker\": {\"color\": \"#7EC0EE\", \"line\": {\"color\": \"#000000\", \"width\": 1.5}}, \"opacity\": 0.8, \"text\": [0.0, 0.65, 4.56, 29.56, 48.7, 1.43, 0.0, 0.0, 0.0], \"textposition\": \"auto\", \"type\": \"bar\", \"x\": [\"Pregnancies\", \"Glucose\", \"BloodPressure\", \"SkinThickness\", \"Insulin\", \"BMI\", \"DiabetesPedigreeFunction\", \"Age\", \"Outcome\"], \"y\": [768, 763, 733, 541, 394, 757, 768, 768, 768]}],\n",
       "                        {\"template\": {\"data\": {\"bar\": [{\"error_x\": {\"color\": \"#2a3f5f\"}, \"error_y\": {\"color\": \"#2a3f5f\"}, \"marker\": {\"line\": {\"color\": \"#E5ECF6\", \"width\": 0.5}}, \"type\": \"bar\"}], \"barpolar\": [{\"marker\": {\"line\": {\"color\": \"#E5ECF6\", \"width\": 0.5}}, \"type\": \"barpolar\"}], \"carpet\": [{\"aaxis\": {\"endlinecolor\": \"#2a3f5f\", \"gridcolor\": \"white\", \"linecolor\": \"white\", \"minorgridcolor\": \"white\", \"startlinecolor\": \"#2a3f5f\"}, \"baxis\": {\"endlinecolor\": \"#2a3f5f\", \"gridcolor\": \"white\", \"linecolor\": \"white\", \"minorgridcolor\": \"white\", \"startlinecolor\": \"#2a3f5f\"}, \"type\": \"carpet\"}], \"choropleth\": [{\"colorbar\": {\"outlinewidth\": 0, \"ticks\": \"\"}, \"type\": \"choropleth\"}], \"contour\": [{\"colorbar\": {\"outlinewidth\": 0, \"ticks\": \"\"}, \"colorscale\": [[0.0, \"#0d0887\"], [0.1111111111111111, \"#46039f\"], [0.2222222222222222, \"#7201a8\"], [0.3333333333333333, \"#9c179e\"], [0.4444444444444444, \"#bd3786\"], [0.5555555555555556, \"#d8576b\"], [0.6666666666666666, \"#ed7953\"], [0.7777777777777778, \"#fb9f3a\"], [0.8888888888888888, \"#fdca26\"], [1.0, \"#f0f921\"]], \"type\": \"contour\"}], \"contourcarpet\": [{\"colorbar\": {\"outlinewidth\": 0, \"ticks\": \"\"}, \"type\": \"contourcarpet\"}], \"heatmap\": [{\"colorbar\": {\"outlinewidth\": 0, \"ticks\": \"\"}, \"colorscale\": [[0.0, \"#0d0887\"], [0.1111111111111111, \"#46039f\"], [0.2222222222222222, \"#7201a8\"], [0.3333333333333333, \"#9c179e\"], [0.4444444444444444, \"#bd3786\"], [0.5555555555555556, \"#d8576b\"], [0.6666666666666666, \"#ed7953\"], [0.7777777777777778, \"#fb9f3a\"], [0.8888888888888888, \"#fdca26\"], [1.0, \"#f0f921\"]], \"type\": \"heatmap\"}], \"heatmapgl\": [{\"colorbar\": {\"outlinewidth\": 0, \"ticks\": \"\"}, \"colorscale\": [[0.0, \"#0d0887\"], [0.1111111111111111, \"#46039f\"], [0.2222222222222222, \"#7201a8\"], [0.3333333333333333, \"#9c179e\"], [0.4444444444444444, \"#bd3786\"], [0.5555555555555556, \"#d8576b\"], [0.6666666666666666, \"#ed7953\"], [0.7777777777777778, \"#fb9f3a\"], [0.8888888888888888, \"#fdca26\"], [1.0, \"#f0f921\"]], \"type\": \"heatmapgl\"}], \"histogram\": [{\"marker\": {\"colorbar\": {\"outlinewidth\": 0, \"ticks\": \"\"}}, \"type\": \"histogram\"}], \"histogram2d\": [{\"colorbar\": {\"outlinewidth\": 0, \"ticks\": \"\"}, \"colorscale\": [[0.0, \"#0d0887\"], [0.1111111111111111, \"#46039f\"], [0.2222222222222222, \"#7201a8\"], [0.3333333333333333, \"#9c179e\"], [0.4444444444444444, \"#bd3786\"], [0.5555555555555556, \"#d8576b\"], [0.6666666666666666, \"#ed7953\"], [0.7777777777777778, \"#fb9f3a\"], [0.8888888888888888, \"#fdca26\"], [1.0, \"#f0f921\"]], \"type\": \"histogram2d\"}], \"histogram2dcontour\": [{\"colorbar\": {\"outlinewidth\": 0, \"ticks\": \"\"}, \"colorscale\": [[0.0, \"#0d0887\"], [0.1111111111111111, \"#46039f\"], [0.2222222222222222, \"#7201a8\"], [0.3333333333333333, \"#9c179e\"], [0.4444444444444444, \"#bd3786\"], [0.5555555555555556, \"#d8576b\"], [0.6666666666666666, \"#ed7953\"], [0.7777777777777778, \"#fb9f3a\"], [0.8888888888888888, \"#fdca26\"], [1.0, \"#f0f921\"]], \"type\": \"histogram2dcontour\"}], \"mesh3d\": [{\"colorbar\": {\"outlinewidth\": 0, \"ticks\": \"\"}, \"type\": \"mesh3d\"}], \"parcoords\": [{\"line\": {\"colorbar\": {\"outlinewidth\": 0, \"ticks\": \"\"}}, \"type\": \"parcoords\"}], \"pie\": [{\"automargin\": true, \"type\": \"pie\"}], \"scatter\": [{\"marker\": {\"colorbar\": {\"outlinewidth\": 0, \"ticks\": \"\"}}, \"type\": \"scatter\"}], \"scatter3d\": [{\"line\": {\"colorbar\": {\"outlinewidth\": 0, \"ticks\": \"\"}}, \"marker\": {\"colorbar\": {\"outlinewidth\": 0, \"ticks\": \"\"}}, \"type\": \"scatter3d\"}], \"scattercarpet\": [{\"marker\": {\"colorbar\": {\"outlinewidth\": 0, \"ticks\": \"\"}}, \"type\": \"scattercarpet\"}], \"scattergeo\": [{\"marker\": {\"colorbar\": {\"outlinewidth\": 0, \"ticks\": \"\"}}, \"type\": \"scattergeo\"}], \"scattergl\": [{\"marker\": {\"colorbar\": {\"outlinewidth\": 0, \"ticks\": \"\"}}, \"type\": \"scattergl\"}], \"scattermapbox\": [{\"marker\": {\"colorbar\": {\"outlinewidth\": 0, \"ticks\": \"\"}}, \"type\": \"scattermapbox\"}], \"scatterpolar\": [{\"marker\": {\"colorbar\": {\"outlinewidth\": 0, \"ticks\": \"\"}}, \"type\": \"scatterpolar\"}], \"scatterpolargl\": [{\"marker\": {\"colorbar\": {\"outlinewidth\": 0, \"ticks\": \"\"}}, \"type\": \"scatterpolargl\"}], \"scatterternary\": [{\"marker\": {\"colorbar\": {\"outlinewidth\": 0, \"ticks\": \"\"}}, \"type\": \"scatterternary\"}], \"surface\": [{\"colorbar\": {\"outlinewidth\": 0, \"ticks\": \"\"}, \"colorscale\": [[0.0, \"#0d0887\"], [0.1111111111111111, \"#46039f\"], [0.2222222222222222, \"#7201a8\"], [0.3333333333333333, \"#9c179e\"], [0.4444444444444444, \"#bd3786\"], [0.5555555555555556, \"#d8576b\"], [0.6666666666666666, \"#ed7953\"], [0.7777777777777778, \"#fb9f3a\"], [0.8888888888888888, \"#fdca26\"], [1.0, \"#f0f921\"]], \"type\": \"surface\"}], \"table\": [{\"cells\": {\"fill\": {\"color\": \"#EBF0F8\"}, \"line\": {\"color\": \"white\"}}, \"header\": {\"fill\": {\"color\": \"#C8D4E3\"}, \"line\": {\"color\": \"white\"}}, \"type\": \"table\"}]}, \"layout\": {\"annotationdefaults\": {\"arrowcolor\": \"#2a3f5f\", \"arrowhead\": 0, \"arrowwidth\": 1}, \"coloraxis\": {\"colorbar\": {\"outlinewidth\": 0, \"ticks\": \"\"}}, \"colorscale\": {\"diverging\": [[0, \"#8e0152\"], [0.1, \"#c51b7d\"], [0.2, \"#de77ae\"], [0.3, \"#f1b6da\"], [0.4, \"#fde0ef\"], [0.5, \"#f7f7f7\"], [0.6, \"#e6f5d0\"], [0.7, \"#b8e186\"], [0.8, \"#7fbc41\"], [0.9, \"#4d9221\"], [1, \"#276419\"]], \"sequential\": [[0.0, \"#0d0887\"], [0.1111111111111111, \"#46039f\"], [0.2222222222222222, \"#7201a8\"], [0.3333333333333333, \"#9c179e\"], [0.4444444444444444, \"#bd3786\"], [0.5555555555555556, \"#d8576b\"], [0.6666666666666666, \"#ed7953\"], [0.7777777777777778, \"#fb9f3a\"], [0.8888888888888888, \"#fdca26\"], [1.0, \"#f0f921\"]], \"sequentialminus\": [[0.0, \"#0d0887\"], [0.1111111111111111, \"#46039f\"], [0.2222222222222222, \"#7201a8\"], [0.3333333333333333, \"#9c179e\"], [0.4444444444444444, \"#bd3786\"], [0.5555555555555556, \"#d8576b\"], [0.6666666666666666, \"#ed7953\"], [0.7777777777777778, \"#fb9f3a\"], [0.8888888888888888, \"#fdca26\"], [1.0, \"#f0f921\"]]}, \"colorway\": [\"#636efa\", \"#EF553B\", \"#00cc96\", \"#ab63fa\", \"#FFA15A\", \"#19d3f3\", \"#FF6692\", \"#B6E880\", \"#FF97FF\", \"#FECB52\"], \"font\": {\"color\": \"#2a3f5f\"}, \"geo\": {\"bgcolor\": \"white\", \"lakecolor\": \"white\", \"landcolor\": \"#E5ECF6\", \"showlakes\": true, \"showland\": true, \"subunitcolor\": \"white\"}, \"hoverlabel\": {\"align\": \"left\"}, \"hovermode\": \"closest\", \"mapbox\": {\"style\": \"light\"}, \"paper_bgcolor\": \"white\", \"plot_bgcolor\": \"#E5ECF6\", \"polar\": {\"angularaxis\": {\"gridcolor\": \"white\", \"linecolor\": \"white\", \"ticks\": \"\"}, \"bgcolor\": \"#E5ECF6\", \"radialaxis\": {\"gridcolor\": \"white\", \"linecolor\": \"white\", \"ticks\": \"\"}}, \"scene\": {\"xaxis\": {\"backgroundcolor\": \"#E5ECF6\", \"gridcolor\": \"white\", \"gridwidth\": 2, \"linecolor\": \"white\", \"showbackground\": true, \"ticks\": \"\", \"zerolinecolor\": \"white\"}, \"yaxis\": {\"backgroundcolor\": \"#E5ECF6\", \"gridcolor\": \"white\", \"gridwidth\": 2, \"linecolor\": \"white\", \"showbackground\": true, \"ticks\": \"\", \"zerolinecolor\": \"white\"}, \"zaxis\": {\"backgroundcolor\": \"#E5ECF6\", \"gridcolor\": \"white\", \"gridwidth\": 2, \"linecolor\": \"white\", \"showbackground\": true, \"ticks\": \"\", \"zerolinecolor\": \"white\"}}, \"shapedefaults\": {\"line\": {\"color\": \"#2a3f5f\"}}, \"ternary\": {\"aaxis\": {\"gridcolor\": \"white\", \"linecolor\": \"white\", \"ticks\": \"\"}, \"baxis\": {\"gridcolor\": \"white\", \"linecolor\": \"white\", \"ticks\": \"\"}, \"bgcolor\": \"#E5ECF6\", \"caxis\": {\"gridcolor\": \"white\", \"linecolor\": \"white\", \"ticks\": \"\"}}, \"title\": {\"x\": 0.05}, \"xaxis\": {\"automargin\": true, \"gridcolor\": \"white\", \"linecolor\": \"white\", \"ticks\": \"\", \"title\": {\"standoff\": 15}, \"zerolinecolor\": \"white\", \"zerolinewidth\": 2}, \"yaxis\": {\"automargin\": true, \"gridcolor\": \"white\", \"linecolor\": \"white\", \"ticks\": \"\", \"title\": {\"standoff\": 15}, \"zerolinecolor\": \"white\", \"zerolinewidth\": 2}}}, \"title\": {\"text\": \"Missing Values (count & %)\"}},\n",
       "                        {\"responsive\": true}\n",
       "                    ).then(function(){\n",
       "                            \n",
       "var gd = document.getElementById('a8be8f09-ec8c-4a85-a110-21be023bd415');\n",
       "var x = new MutationObserver(function (mutations, observer) {{\n",
       "        var display = window.getComputedStyle(gd).display;\n",
       "        if (!display || display === 'none') {{\n",
       "            console.log([gd, 'removed!']);\n",
       "            Plotly.purge(gd);\n",
       "            observer.disconnect();\n",
       "        }}\n",
       "}});\n",
       "\n",
       "// Listen for the removal of the full notebook cells\n",
       "var notebookContainer = gd.closest('#notebook-container');\n",
       "if (notebookContainer) {{\n",
       "    x.observe(notebookContainer, {childList: true});\n",
       "}}\n",
       "\n",
       "// Listen for the clearing of the current output cell\n",
       "var outputEl = gd.closest('.output');\n",
       "if (outputEl) {{\n",
       "    x.observe(outputEl, {childList: true});\n",
       "}}\n",
       "\n",
       "                        })\n",
       "                };\n",
       "                });\n",
       "            </script>\n",
       "        </div>"
      ]
     },
     "metadata": {},
     "output_type": "display_data"
    }
   ],
   "source": [
    "missing_plot(data,'Outcome')"
   ]
  },
  {
   "cell_type": "code",
   "execution_count": 14,
   "metadata": {},
   "outputs": [],
   "source": [
    "def find_median(var):\n",
    "    temp = data[data[var].notnull()]\n",
    "    temp = data[[var,'Outcome']].groupby('Outcome')[[var]].median().reset_index()\n",
    "    return temp"
   ]
  },
  {
   "cell_type": "code",
   "execution_count": 19,
   "metadata": {},
   "outputs": [],
   "source": [
    "def density_plot(var,size_bin):\n",
    "    tmp1 = Diabeties[var]\n",
    "    tmp2 = Healthy[var]\n",
    "    \n",
    "    hist_data = [tmp1,tmp2]\n",
    "    labels = ['Diabeties','Healthy']\n",
    "    color = ['skyblue','indigo']\n",
    "    fig = ff.create_distplot(hist_data,labels,colors = color,show_hist=True,bin_size=size_bin,curve_type='kde')\n",
    "    \n",
    "    fig['layout'].update(title = var)\n",
    "\n",
    "    py.iplot(fig, filename = 'Density plot')\n",
    "    "
   ]
  },
  {
   "cell_type": "code",
   "execution_count": 21,
   "metadata": {},
   "outputs": [
    {
     "data": {
      "text/html": [
       "<div>\n",
       "<style scoped>\n",
       "    .dataframe tbody tr th:only-of-type {\n",
       "        vertical-align: middle;\n",
       "    }\n",
       "\n",
       "    .dataframe tbody tr th {\n",
       "        vertical-align: top;\n",
       "    }\n",
       "\n",
       "    .dataframe thead th {\n",
       "        text-align: right;\n",
       "    }\n",
       "</style>\n",
       "<table border=\"1\" class=\"dataframe\">\n",
       "  <thead>\n",
       "    <tr style=\"text-align: right;\">\n",
       "      <th></th>\n",
       "      <th>Outcome</th>\n",
       "      <th>Insulin</th>\n",
       "    </tr>\n",
       "  </thead>\n",
       "  <tbody>\n",
       "    <tr>\n",
       "      <th>0</th>\n",
       "      <td>0</td>\n",
       "      <td>102.5</td>\n",
       "    </tr>\n",
       "    <tr>\n",
       "      <th>1</th>\n",
       "      <td>1</td>\n",
       "      <td>169.5</td>\n",
       "    </tr>\n",
       "  </tbody>\n",
       "</table>\n",
       "</div>"
      ],
      "text/plain": [
       "   Outcome  Insulin\n",
       "0        0    102.5\n",
       "1        1    169.5"
      ]
     },
     "execution_count": 21,
     "metadata": {},
     "output_type": "execute_result"
    }
   ],
   "source": [
    "find_median('Insulin')"
   ]
  },
  {
   "cell_type": "code",
   "execution_count": 22,
   "metadata": {},
   "outputs": [],
   "source": [
    "data.loc[(data['Outcome'] == 0) & (data['Insulin'].isnull()), 'Insulin'] = 102.5\n",
    "data.loc[(data['Outcome'] == 1) & (data['Insulin'].isnull()), 'Insulin'] = 169.5"
   ]
  },
  {
   "cell_type": "code",
   "execution_count": 24,
   "metadata": {},
   "outputs": [
    {
     "data": {
      "text/html": [
       "<div>\n",
       "<style scoped>\n",
       "    .dataframe tbody tr th:only-of-type {\n",
       "        vertical-align: middle;\n",
       "    }\n",
       "\n",
       "    .dataframe tbody tr th {\n",
       "        vertical-align: top;\n",
       "    }\n",
       "\n",
       "    .dataframe thead th {\n",
       "        text-align: right;\n",
       "    }\n",
       "</style>\n",
       "<table border=\"1\" class=\"dataframe\">\n",
       "  <thead>\n",
       "    <tr style=\"text-align: right;\">\n",
       "      <th></th>\n",
       "      <th>Outcome</th>\n",
       "      <th>SkinThickness</th>\n",
       "    </tr>\n",
       "  </thead>\n",
       "  <tbody>\n",
       "    <tr>\n",
       "      <th>0</th>\n",
       "      <td>0</td>\n",
       "      <td>27.0</td>\n",
       "    </tr>\n",
       "    <tr>\n",
       "      <th>1</th>\n",
       "      <td>1</td>\n",
       "      <td>32.0</td>\n",
       "    </tr>\n",
       "  </tbody>\n",
       "</table>\n",
       "</div>"
      ],
      "text/plain": [
       "   Outcome  SkinThickness\n",
       "0        0           27.0\n",
       "1        1           32.0"
      ]
     },
     "execution_count": 24,
     "metadata": {},
     "output_type": "execute_result"
    }
   ],
   "source": [
    "find_median('SkinThickness')"
   ]
  },
  {
   "cell_type": "code",
   "execution_count": 25,
   "metadata": {},
   "outputs": [],
   "source": [
    "data.loc[(data['Outcome'] == 0) & (data['SkinThickness'].isnull()), 'SkinThickness'] = 27.0\n",
    "data.loc[(data['Outcome'] == 1) & (data['SkinThickness'].isnull()), 'SkinThickness'] = 32.0"
   ]
  },
  {
   "cell_type": "code",
   "execution_count": 26,
   "metadata": {},
   "outputs": [
    {
     "data": {
      "text/html": [
       "<div>\n",
       "<style scoped>\n",
       "    .dataframe tbody tr th:only-of-type {\n",
       "        vertical-align: middle;\n",
       "    }\n",
       "\n",
       "    .dataframe tbody tr th {\n",
       "        vertical-align: top;\n",
       "    }\n",
       "\n",
       "    .dataframe thead th {\n",
       "        text-align: right;\n",
       "    }\n",
       "</style>\n",
       "<table border=\"1\" class=\"dataframe\">\n",
       "  <thead>\n",
       "    <tr style=\"text-align: right;\">\n",
       "      <th></th>\n",
       "      <th>Outcome</th>\n",
       "      <th>BloodPressure</th>\n",
       "    </tr>\n",
       "  </thead>\n",
       "  <tbody>\n",
       "    <tr>\n",
       "      <th>0</th>\n",
       "      <td>0</td>\n",
       "      <td>70.0</td>\n",
       "    </tr>\n",
       "    <tr>\n",
       "      <th>1</th>\n",
       "      <td>1</td>\n",
       "      <td>74.5</td>\n",
       "    </tr>\n",
       "  </tbody>\n",
       "</table>\n",
       "</div>"
      ],
      "text/plain": [
       "   Outcome  BloodPressure\n",
       "0        0           70.0\n",
       "1        1           74.5"
      ]
     },
     "execution_count": 26,
     "metadata": {},
     "output_type": "execute_result"
    }
   ],
   "source": [
    "find_median('BloodPressure')"
   ]
  },
  {
   "cell_type": "code",
   "execution_count": 27,
   "metadata": {},
   "outputs": [],
   "source": [
    "data.loc[(data['Outcome'] == 0) & (data['BloodPressure'].isnull()), 'BloodPressure'] = 27.0\n",
    "data.loc[(data['Outcome'] == 1) & (data['BloodPressure'].isnull()), 'BloodPressure'] = 32.0"
   ]
  },
  {
   "cell_type": "code",
   "execution_count": 28,
   "metadata": {},
   "outputs": [
    {
     "data": {
      "text/html": [
       "<div>\n",
       "<style scoped>\n",
       "    .dataframe tbody tr th:only-of-type {\n",
       "        vertical-align: middle;\n",
       "    }\n",
       "\n",
       "    .dataframe tbody tr th {\n",
       "        vertical-align: top;\n",
       "    }\n",
       "\n",
       "    .dataframe thead th {\n",
       "        text-align: right;\n",
       "    }\n",
       "</style>\n",
       "<table border=\"1\" class=\"dataframe\">\n",
       "  <thead>\n",
       "    <tr style=\"text-align: right;\">\n",
       "      <th></th>\n",
       "      <th>Outcome</th>\n",
       "      <th>BMI</th>\n",
       "    </tr>\n",
       "  </thead>\n",
       "  <tbody>\n",
       "    <tr>\n",
       "      <th>0</th>\n",
       "      <td>0</td>\n",
       "      <td>30.1</td>\n",
       "    </tr>\n",
       "    <tr>\n",
       "      <th>1</th>\n",
       "      <td>1</td>\n",
       "      <td>34.3</td>\n",
       "    </tr>\n",
       "  </tbody>\n",
       "</table>\n",
       "</div>"
      ],
      "text/plain": [
       "   Outcome   BMI\n",
       "0        0  30.1\n",
       "1        1  34.3"
      ]
     },
     "execution_count": 28,
     "metadata": {},
     "output_type": "execute_result"
    }
   ],
   "source": [
    "find_median('BMI')"
   ]
  },
  {
   "cell_type": "code",
   "execution_count": 29,
   "metadata": {},
   "outputs": [],
   "source": [
    "data.loc[(data['Outcome'] == 0) & (data['BMI'].isnull()), 'BMI'] = 30.1\n",
    "data.loc[(data['Outcome'] == 1) & (data['BMI'].isnull()), 'BMI'] = 34.3"
   ]
  },
  {
   "cell_type": "code",
   "execution_count": 30,
   "metadata": {},
   "outputs": [
    {
     "data": {
      "text/html": [
       "<div>\n",
       "<style scoped>\n",
       "    .dataframe tbody tr th:only-of-type {\n",
       "        vertical-align: middle;\n",
       "    }\n",
       "\n",
       "    .dataframe tbody tr th {\n",
       "        vertical-align: top;\n",
       "    }\n",
       "\n",
       "    .dataframe thead th {\n",
       "        text-align: right;\n",
       "    }\n",
       "</style>\n",
       "<table border=\"1\" class=\"dataframe\">\n",
       "  <thead>\n",
       "    <tr style=\"text-align: right;\">\n",
       "      <th></th>\n",
       "      <th>Outcome</th>\n",
       "      <th>Glucose</th>\n",
       "    </tr>\n",
       "  </thead>\n",
       "  <tbody>\n",
       "    <tr>\n",
       "      <th>0</th>\n",
       "      <td>0</td>\n",
       "      <td>107.0</td>\n",
       "    </tr>\n",
       "    <tr>\n",
       "      <th>1</th>\n",
       "      <td>1</td>\n",
       "      <td>140.0</td>\n",
       "    </tr>\n",
       "  </tbody>\n",
       "</table>\n",
       "</div>"
      ],
      "text/plain": [
       "   Outcome  Glucose\n",
       "0        0    107.0\n",
       "1        1    140.0"
      ]
     },
     "execution_count": 30,
     "metadata": {},
     "output_type": "execute_result"
    }
   ],
   "source": [
    "find_median('Glucose')"
   ]
  },
  {
   "cell_type": "code",
   "execution_count": 31,
   "metadata": {},
   "outputs": [],
   "source": [
    "data.loc[(data['Outcome'] == 0) & (data['Glucose'].isnull()) , 'Glucose'] = 107.0\n",
    "data.loc[(data['Outcome'] == 1) & (data['Glucose'].isnull()) , 'Glucose'] = 140.0"
   ]
  },
  {
   "cell_type": "code",
   "execution_count": 32,
   "metadata": {},
   "outputs": [
    {
     "data": {
      "text/plain": [
       "Pregnancies                 0\n",
       "Glucose                     0\n",
       "BloodPressure               0\n",
       "SkinThickness               0\n",
       "Insulin                     0\n",
       "BMI                         0\n",
       "DiabetesPedigreeFunction    0\n",
       "Age                         0\n",
       "Outcome                     0\n",
       "dtype: int64"
      ]
     },
     "metadata": {},
     "output_type": "display_data"
    }
   ],
   "source": [
    "display(data.isnull().sum())"
   ]
  },
  {
   "cell_type": "code",
   "execution_count": 33,
   "metadata": {},
   "outputs": [],
   "source": [
    "def correlation_plot():\n",
    "    #correlation\n",
    "    correlation = data.corr()\n",
    "    #tick labels\n",
    "    matrix_cols = correlation.columns.tolist()\n",
    "    #convert to array\n",
    "    corr_array  = np.array(correlation)\n",
    "    trace = go.Heatmap(z = corr_array,\n",
    "                       x = matrix_cols,\n",
    "                       y = matrix_cols,\n",
    "                       colorscale='Viridis',\n",
    "                       colorbar   = dict() \n",
    "                      )\n",
    "    layout = go.Layout(dict(title = 'Correlation Matrix for variables',\n",
    "                            #autosize = False,\n",
    "                            #height  = 1400,\n",
    "                            #width   = 1600,\n",
    "                            margin  = dict(r = 0 ,l = 100,\n",
    "                                           t = 0,b = 100,\n",
    "                                         ),\n",
    "                            yaxis   = dict(tickfont = dict(size = 9)),\n",
    "                            xaxis   = dict(tickfont = dict(size = 9)),\n",
    "                           )\n",
    "                      )\n",
    "    fig = go.Figure(data = [trace],layout = layout)\n",
    "    py.iplot(fig)"
   ]
  },
  {
   "cell_type": "code",
   "execution_count": 34,
   "metadata": {},
   "outputs": [
    {
     "data": {
      "application/vnd.plotly.v1+json": {
       "config": {
        "linkText": "Export to plot.ly",
        "plotlyServerURL": "https://plot.ly",
        "showLink": false
       },
       "data": [
        {
         "colorscale": [
          [
           0,
           "#440154"
          ],
          [
           0.1111111111111111,
           "#482878"
          ],
          [
           0.2222222222222222,
           "#3e4989"
          ],
          [
           0.3333333333333333,
           "#31688e"
          ],
          [
           0.4444444444444444,
           "#26828e"
          ],
          [
           0.5555555555555556,
           "#1f9e89"
          ],
          [
           0.6666666666666666,
           "#35b779"
          ],
          [
           0.7777777777777778,
           "#6ece58"
          ],
          [
           0.8888888888888888,
           "#b5de2b"
          ],
          [
           1,
           "#fde725"
          ]
         ],
         "type": "heatmap",
         "x": [
          "Pregnancies",
          "Glucose",
          "BloodPressure",
          "SkinThickness",
          "Insulin",
          "BMI",
          "DiabetesPedigreeFunction",
          "Age",
          "Outcome"
         ],
         "y": [
          "Pregnancies",
          "Glucose",
          "BloodPressure",
          "SkinThickness",
          "Insulin",
          "BMI",
          "DiabetesPedigreeFunction",
          "Age",
          "Outcome"
         ],
         "z": [
          [
           1,
           0.13015501757069872,
           0.17621408638958716,
           0.08902816614765814,
           0.058766823130505554,
           0.023889984008087006,
           -0.033522672962613256,
           0.5443412284023388,
           0.2218981530339883
          ],
          [
           0.13015501757069872,
           1,
           0.19761438765018258,
           0.2292894708868494,
           0.49001541528582326,
           0.23617117347680328,
           0.138353289556067,
           0.2689101489720844,
           0.495990476602317
          ],
          [
           0.17621408638958716,
           0.19761438765018258,
           1,
           0.1598326198838874,
           0.0690826990125328,
           0.2413411510421609,
           0.031514578390121395,
           0.28875568845353267,
           0.1114483526733676
          ],
          [
           0.08902816614765814,
           0.2292894708868494,
           0.1598326198838874,
           1,
           0.20012859487047743,
           0.5660863090344179,
           0.10628038216694165,
           0.12953726947386635,
           0.2951376469199466
          ],
          [
           0.058766823130505554,
           0.49001541528582326,
           0.0690826990125328,
           0.20012859487047743,
           1,
           0.2384428346149072,
           0.14687804971281085,
           0.1236291321850515,
           0.37708066169970006
          ],
          [
           0.023889984008087006,
           0.23617117347680328,
           0.2413411510421609,
           0.5660863090344179,
           0.2384428346149072,
           1,
           0.1527705795681894,
           0.027849106342803576,
           0.3155766876691502
          ],
          [
           -0.033522672962613256,
           0.138353289556067,
           0.031514578390121395,
           0.10628038216694165,
           0.14687804971281085,
           0.1527705795681894,
           1,
           0.033561312434805604,
           0.17384406565296076
          ],
          [
           0.5443412284023388,
           0.2689101489720844,
           0.28875568845353267,
           0.12953726947386635,
           0.1236291321850515,
           0.027849106342803576,
           0.033561312434805604,
           1,
           0.23835598302719743
          ],
          [
           0.2218981530339883,
           0.495990476602317,
           0.1114483526733676,
           0.2951376469199466,
           0.37708066169970006,
           0.3155766876691502,
           0.17384406565296076,
           0.23835598302719743,
           1
          ]
         ]
        }
       ],
       "layout": {
        "margin": {
         "b": 100,
         "l": 100,
         "r": 0,
         "t": 0
        },
        "template": {
         "data": {
          "bar": [
           {
            "error_x": {
             "color": "#2a3f5f"
            },
            "error_y": {
             "color": "#2a3f5f"
            },
            "marker": {
             "line": {
              "color": "#E5ECF6",
              "width": 0.5
             }
            },
            "type": "bar"
           }
          ],
          "barpolar": [
           {
            "marker": {
             "line": {
              "color": "#E5ECF6",
              "width": 0.5
             }
            },
            "type": "barpolar"
           }
          ],
          "carpet": [
           {
            "aaxis": {
             "endlinecolor": "#2a3f5f",
             "gridcolor": "white",
             "linecolor": "white",
             "minorgridcolor": "white",
             "startlinecolor": "#2a3f5f"
            },
            "baxis": {
             "endlinecolor": "#2a3f5f",
             "gridcolor": "white",
             "linecolor": "white",
             "minorgridcolor": "white",
             "startlinecolor": "#2a3f5f"
            },
            "type": "carpet"
           }
          ],
          "choropleth": [
           {
            "colorbar": {
             "outlinewidth": 0,
             "ticks": ""
            },
            "type": "choropleth"
           }
          ],
          "contour": [
           {
            "colorbar": {
             "outlinewidth": 0,
             "ticks": ""
            },
            "colorscale": [
             [
              0,
              "#0d0887"
             ],
             [
              0.1111111111111111,
              "#46039f"
             ],
             [
              0.2222222222222222,
              "#7201a8"
             ],
             [
              0.3333333333333333,
              "#9c179e"
             ],
             [
              0.4444444444444444,
              "#bd3786"
             ],
             [
              0.5555555555555556,
              "#d8576b"
             ],
             [
              0.6666666666666666,
              "#ed7953"
             ],
             [
              0.7777777777777778,
              "#fb9f3a"
             ],
             [
              0.8888888888888888,
              "#fdca26"
             ],
             [
              1,
              "#f0f921"
             ]
            ],
            "type": "contour"
           }
          ],
          "contourcarpet": [
           {
            "colorbar": {
             "outlinewidth": 0,
             "ticks": ""
            },
            "type": "contourcarpet"
           }
          ],
          "heatmap": [
           {
            "colorbar": {
             "outlinewidth": 0,
             "ticks": ""
            },
            "colorscale": [
             [
              0,
              "#0d0887"
             ],
             [
              0.1111111111111111,
              "#46039f"
             ],
             [
              0.2222222222222222,
              "#7201a8"
             ],
             [
              0.3333333333333333,
              "#9c179e"
             ],
             [
              0.4444444444444444,
              "#bd3786"
             ],
             [
              0.5555555555555556,
              "#d8576b"
             ],
             [
              0.6666666666666666,
              "#ed7953"
             ],
             [
              0.7777777777777778,
              "#fb9f3a"
             ],
             [
              0.8888888888888888,
              "#fdca26"
             ],
             [
              1,
              "#f0f921"
             ]
            ],
            "type": "heatmap"
           }
          ],
          "heatmapgl": [
           {
            "colorbar": {
             "outlinewidth": 0,
             "ticks": ""
            },
            "colorscale": [
             [
              0,
              "#0d0887"
             ],
             [
              0.1111111111111111,
              "#46039f"
             ],
             [
              0.2222222222222222,
              "#7201a8"
             ],
             [
              0.3333333333333333,
              "#9c179e"
             ],
             [
              0.4444444444444444,
              "#bd3786"
             ],
             [
              0.5555555555555556,
              "#d8576b"
             ],
             [
              0.6666666666666666,
              "#ed7953"
             ],
             [
              0.7777777777777778,
              "#fb9f3a"
             ],
             [
              0.8888888888888888,
              "#fdca26"
             ],
             [
              1,
              "#f0f921"
             ]
            ],
            "type": "heatmapgl"
           }
          ],
          "histogram": [
           {
            "marker": {
             "colorbar": {
              "outlinewidth": 0,
              "ticks": ""
             }
            },
            "type": "histogram"
           }
          ],
          "histogram2d": [
           {
            "colorbar": {
             "outlinewidth": 0,
             "ticks": ""
            },
            "colorscale": [
             [
              0,
              "#0d0887"
             ],
             [
              0.1111111111111111,
              "#46039f"
             ],
             [
              0.2222222222222222,
              "#7201a8"
             ],
             [
              0.3333333333333333,
              "#9c179e"
             ],
             [
              0.4444444444444444,
              "#bd3786"
             ],
             [
              0.5555555555555556,
              "#d8576b"
             ],
             [
              0.6666666666666666,
              "#ed7953"
             ],
             [
              0.7777777777777778,
              "#fb9f3a"
             ],
             [
              0.8888888888888888,
              "#fdca26"
             ],
             [
              1,
              "#f0f921"
             ]
            ],
            "type": "histogram2d"
           }
          ],
          "histogram2dcontour": [
           {
            "colorbar": {
             "outlinewidth": 0,
             "ticks": ""
            },
            "colorscale": [
             [
              0,
              "#0d0887"
             ],
             [
              0.1111111111111111,
              "#46039f"
             ],
             [
              0.2222222222222222,
              "#7201a8"
             ],
             [
              0.3333333333333333,
              "#9c179e"
             ],
             [
              0.4444444444444444,
              "#bd3786"
             ],
             [
              0.5555555555555556,
              "#d8576b"
             ],
             [
              0.6666666666666666,
              "#ed7953"
             ],
             [
              0.7777777777777778,
              "#fb9f3a"
             ],
             [
              0.8888888888888888,
              "#fdca26"
             ],
             [
              1,
              "#f0f921"
             ]
            ],
            "type": "histogram2dcontour"
           }
          ],
          "mesh3d": [
           {
            "colorbar": {
             "outlinewidth": 0,
             "ticks": ""
            },
            "type": "mesh3d"
           }
          ],
          "parcoords": [
           {
            "line": {
             "colorbar": {
              "outlinewidth": 0,
              "ticks": ""
             }
            },
            "type": "parcoords"
           }
          ],
          "pie": [
           {
            "automargin": true,
            "type": "pie"
           }
          ],
          "scatter": [
           {
            "marker": {
             "colorbar": {
              "outlinewidth": 0,
              "ticks": ""
             }
            },
            "type": "scatter"
           }
          ],
          "scatter3d": [
           {
            "line": {
             "colorbar": {
              "outlinewidth": 0,
              "ticks": ""
             }
            },
            "marker": {
             "colorbar": {
              "outlinewidth": 0,
              "ticks": ""
             }
            },
            "type": "scatter3d"
           }
          ],
          "scattercarpet": [
           {
            "marker": {
             "colorbar": {
              "outlinewidth": 0,
              "ticks": ""
             }
            },
            "type": "scattercarpet"
           }
          ],
          "scattergeo": [
           {
            "marker": {
             "colorbar": {
              "outlinewidth": 0,
              "ticks": ""
             }
            },
            "type": "scattergeo"
           }
          ],
          "scattergl": [
           {
            "marker": {
             "colorbar": {
              "outlinewidth": 0,
              "ticks": ""
             }
            },
            "type": "scattergl"
           }
          ],
          "scattermapbox": [
           {
            "marker": {
             "colorbar": {
              "outlinewidth": 0,
              "ticks": ""
             }
            },
            "type": "scattermapbox"
           }
          ],
          "scatterpolar": [
           {
            "marker": {
             "colorbar": {
              "outlinewidth": 0,
              "ticks": ""
             }
            },
            "type": "scatterpolar"
           }
          ],
          "scatterpolargl": [
           {
            "marker": {
             "colorbar": {
              "outlinewidth": 0,
              "ticks": ""
             }
            },
            "type": "scatterpolargl"
           }
          ],
          "scatterternary": [
           {
            "marker": {
             "colorbar": {
              "outlinewidth": 0,
              "ticks": ""
             }
            },
            "type": "scatterternary"
           }
          ],
          "surface": [
           {
            "colorbar": {
             "outlinewidth": 0,
             "ticks": ""
            },
            "colorscale": [
             [
              0,
              "#0d0887"
             ],
             [
              0.1111111111111111,
              "#46039f"
             ],
             [
              0.2222222222222222,
              "#7201a8"
             ],
             [
              0.3333333333333333,
              "#9c179e"
             ],
             [
              0.4444444444444444,
              "#bd3786"
             ],
             [
              0.5555555555555556,
              "#d8576b"
             ],
             [
              0.6666666666666666,
              "#ed7953"
             ],
             [
              0.7777777777777778,
              "#fb9f3a"
             ],
             [
              0.8888888888888888,
              "#fdca26"
             ],
             [
              1,
              "#f0f921"
             ]
            ],
            "type": "surface"
           }
          ],
          "table": [
           {
            "cells": {
             "fill": {
              "color": "#EBF0F8"
             },
             "line": {
              "color": "white"
             }
            },
            "header": {
             "fill": {
              "color": "#C8D4E3"
             },
             "line": {
              "color": "white"
             }
            },
            "type": "table"
           }
          ]
         },
         "layout": {
          "annotationdefaults": {
           "arrowcolor": "#2a3f5f",
           "arrowhead": 0,
           "arrowwidth": 1
          },
          "coloraxis": {
           "colorbar": {
            "outlinewidth": 0,
            "ticks": ""
           }
          },
          "colorscale": {
           "diverging": [
            [
             0,
             "#8e0152"
            ],
            [
             0.1,
             "#c51b7d"
            ],
            [
             0.2,
             "#de77ae"
            ],
            [
             0.3,
             "#f1b6da"
            ],
            [
             0.4,
             "#fde0ef"
            ],
            [
             0.5,
             "#f7f7f7"
            ],
            [
             0.6,
             "#e6f5d0"
            ],
            [
             0.7,
             "#b8e186"
            ],
            [
             0.8,
             "#7fbc41"
            ],
            [
             0.9,
             "#4d9221"
            ],
            [
             1,
             "#276419"
            ]
           ],
           "sequential": [
            [
             0,
             "#0d0887"
            ],
            [
             0.1111111111111111,
             "#46039f"
            ],
            [
             0.2222222222222222,
             "#7201a8"
            ],
            [
             0.3333333333333333,
             "#9c179e"
            ],
            [
             0.4444444444444444,
             "#bd3786"
            ],
            [
             0.5555555555555556,
             "#d8576b"
            ],
            [
             0.6666666666666666,
             "#ed7953"
            ],
            [
             0.7777777777777778,
             "#fb9f3a"
            ],
            [
             0.8888888888888888,
             "#fdca26"
            ],
            [
             1,
             "#f0f921"
            ]
           ],
           "sequentialminus": [
            [
             0,
             "#0d0887"
            ],
            [
             0.1111111111111111,
             "#46039f"
            ],
            [
             0.2222222222222222,
             "#7201a8"
            ],
            [
             0.3333333333333333,
             "#9c179e"
            ],
            [
             0.4444444444444444,
             "#bd3786"
            ],
            [
             0.5555555555555556,
             "#d8576b"
            ],
            [
             0.6666666666666666,
             "#ed7953"
            ],
            [
             0.7777777777777778,
             "#fb9f3a"
            ],
            [
             0.8888888888888888,
             "#fdca26"
            ],
            [
             1,
             "#f0f921"
            ]
           ]
          },
          "colorway": [
           "#636efa",
           "#EF553B",
           "#00cc96",
           "#ab63fa",
           "#FFA15A",
           "#19d3f3",
           "#FF6692",
           "#B6E880",
           "#FF97FF",
           "#FECB52"
          ],
          "font": {
           "color": "#2a3f5f"
          },
          "geo": {
           "bgcolor": "white",
           "lakecolor": "white",
           "landcolor": "#E5ECF6",
           "showlakes": true,
           "showland": true,
           "subunitcolor": "white"
          },
          "hoverlabel": {
           "align": "left"
          },
          "hovermode": "closest",
          "mapbox": {
           "style": "light"
          },
          "paper_bgcolor": "white",
          "plot_bgcolor": "#E5ECF6",
          "polar": {
           "angularaxis": {
            "gridcolor": "white",
            "linecolor": "white",
            "ticks": ""
           },
           "bgcolor": "#E5ECF6",
           "radialaxis": {
            "gridcolor": "white",
            "linecolor": "white",
            "ticks": ""
           }
          },
          "scene": {
           "xaxis": {
            "backgroundcolor": "#E5ECF6",
            "gridcolor": "white",
            "gridwidth": 2,
            "linecolor": "white",
            "showbackground": true,
            "ticks": "",
            "zerolinecolor": "white"
           },
           "yaxis": {
            "backgroundcolor": "#E5ECF6",
            "gridcolor": "white",
            "gridwidth": 2,
            "linecolor": "white",
            "showbackground": true,
            "ticks": "",
            "zerolinecolor": "white"
           },
           "zaxis": {
            "backgroundcolor": "#E5ECF6",
            "gridcolor": "white",
            "gridwidth": 2,
            "linecolor": "white",
            "showbackground": true,
            "ticks": "",
            "zerolinecolor": "white"
           }
          },
          "shapedefaults": {
           "line": {
            "color": "#2a3f5f"
           }
          },
          "ternary": {
           "aaxis": {
            "gridcolor": "white",
            "linecolor": "white",
            "ticks": ""
           },
           "baxis": {
            "gridcolor": "white",
            "linecolor": "white",
            "ticks": ""
           },
           "bgcolor": "#E5ECF6",
           "caxis": {
            "gridcolor": "white",
            "linecolor": "white",
            "ticks": ""
           }
          },
          "title": {
           "x": 0.05
          },
          "xaxis": {
           "automargin": true,
           "gridcolor": "white",
           "linecolor": "white",
           "ticks": "",
           "title": {
            "standoff": 15
           },
           "zerolinecolor": "white",
           "zerolinewidth": 2
          },
          "yaxis": {
           "automargin": true,
           "gridcolor": "white",
           "linecolor": "white",
           "ticks": "",
           "title": {
            "standoff": 15
           },
           "zerolinecolor": "white",
           "zerolinewidth": 2
          }
         }
        },
        "title": {
         "text": "Correlation Matrix for variables"
        },
        "xaxis": {
         "tickfont": {
          "size": 9
         }
        },
        "yaxis": {
         "tickfont": {
          "size": 9
         }
        }
       }
      },
      "text/html": [
       "<div>\n",
       "        \n",
       "        \n",
       "            <div id=\"e974da86-9e17-4092-b9c5-20b6fcb3dcd4\" class=\"plotly-graph-div\" style=\"height:525px; width:100%;\"></div>\n",
       "            <script type=\"text/javascript\">\n",
       "                require([\"plotly\"], function(Plotly) {\n",
       "                    window.PLOTLYENV=window.PLOTLYENV || {};\n",
       "                    \n",
       "                if (document.getElementById(\"e974da86-9e17-4092-b9c5-20b6fcb3dcd4\")) {\n",
       "                    Plotly.newPlot(\n",
       "                        'e974da86-9e17-4092-b9c5-20b6fcb3dcd4',\n",
       "                        [{\"colorscale\": [[0.0, \"#440154\"], [0.1111111111111111, \"#482878\"], [0.2222222222222222, \"#3e4989\"], [0.3333333333333333, \"#31688e\"], [0.4444444444444444, \"#26828e\"], [0.5555555555555556, \"#1f9e89\"], [0.6666666666666666, \"#35b779\"], [0.7777777777777778, \"#6ece58\"], [0.8888888888888888, \"#b5de2b\"], [1.0, \"#fde725\"]], \"type\": \"heatmap\", \"x\": [\"Pregnancies\", \"Glucose\", \"BloodPressure\", \"SkinThickness\", \"Insulin\", \"BMI\", \"DiabetesPedigreeFunction\", \"Age\", \"Outcome\"], \"y\": [\"Pregnancies\", \"Glucose\", \"BloodPressure\", \"SkinThickness\", \"Insulin\", \"BMI\", \"DiabetesPedigreeFunction\", \"Age\", \"Outcome\"], \"z\": [[1.0, 0.13015501757069872, 0.17621408638958716, 0.08902816614765814, 0.058766823130505554, 0.023889984008087006, -0.033522672962613256, 0.5443412284023388, 0.2218981530339883], [0.13015501757069872, 1.0, 0.19761438765018258, 0.2292894708868494, 0.49001541528582326, 0.23617117347680328, 0.138353289556067, 0.2689101489720844, 0.495990476602317], [0.17621408638958716, 0.19761438765018258, 1.0, 0.1598326198838874, 0.0690826990125328, 0.2413411510421609, 0.031514578390121395, 0.28875568845353267, 0.1114483526733676], [0.08902816614765814, 0.2292894708868494, 0.1598326198838874, 1.0, 0.20012859487047743, 0.5660863090344179, 0.10628038216694165, 0.12953726947386635, 0.2951376469199466], [0.058766823130505554, 0.49001541528582326, 0.0690826990125328, 0.20012859487047743, 1.0, 0.2384428346149072, 0.14687804971281085, 0.1236291321850515, 0.37708066169970006], [0.023889984008087006, 0.23617117347680328, 0.2413411510421609, 0.5660863090344179, 0.2384428346149072, 1.0, 0.1527705795681894, 0.027849106342803576, 0.3155766876691502], [-0.033522672962613256, 0.138353289556067, 0.031514578390121395, 0.10628038216694165, 0.14687804971281085, 0.1527705795681894, 1.0, 0.033561312434805604, 0.17384406565296076], [0.5443412284023388, 0.2689101489720844, 0.28875568845353267, 0.12953726947386635, 0.1236291321850515, 0.027849106342803576, 0.033561312434805604, 1.0, 0.23835598302719743], [0.2218981530339883, 0.495990476602317, 0.1114483526733676, 0.2951376469199466, 0.37708066169970006, 0.3155766876691502, 0.17384406565296076, 0.23835598302719743, 1.0]]}],\n",
       "                        {\"margin\": {\"b\": 100, \"l\": 100, \"r\": 0, \"t\": 0}, \"template\": {\"data\": {\"bar\": [{\"error_x\": {\"color\": \"#2a3f5f\"}, \"error_y\": {\"color\": \"#2a3f5f\"}, \"marker\": {\"line\": {\"color\": \"#E5ECF6\", \"width\": 0.5}}, \"type\": \"bar\"}], \"barpolar\": [{\"marker\": {\"line\": {\"color\": \"#E5ECF6\", \"width\": 0.5}}, \"type\": \"barpolar\"}], \"carpet\": [{\"aaxis\": {\"endlinecolor\": \"#2a3f5f\", \"gridcolor\": \"white\", \"linecolor\": \"white\", \"minorgridcolor\": \"white\", \"startlinecolor\": \"#2a3f5f\"}, \"baxis\": {\"endlinecolor\": \"#2a3f5f\", \"gridcolor\": \"white\", \"linecolor\": \"white\", \"minorgridcolor\": \"white\", \"startlinecolor\": \"#2a3f5f\"}, \"type\": \"carpet\"}], \"choropleth\": [{\"colorbar\": {\"outlinewidth\": 0, \"ticks\": \"\"}, \"type\": \"choropleth\"}], \"contour\": [{\"colorbar\": {\"outlinewidth\": 0, \"ticks\": \"\"}, \"colorscale\": [[0.0, \"#0d0887\"], [0.1111111111111111, \"#46039f\"], [0.2222222222222222, \"#7201a8\"], [0.3333333333333333, \"#9c179e\"], [0.4444444444444444, \"#bd3786\"], [0.5555555555555556, \"#d8576b\"], [0.6666666666666666, \"#ed7953\"], [0.7777777777777778, \"#fb9f3a\"], [0.8888888888888888, \"#fdca26\"], [1.0, \"#f0f921\"]], \"type\": \"contour\"}], \"contourcarpet\": [{\"colorbar\": {\"outlinewidth\": 0, \"ticks\": \"\"}, \"type\": \"contourcarpet\"}], \"heatmap\": [{\"colorbar\": {\"outlinewidth\": 0, \"ticks\": \"\"}, \"colorscale\": [[0.0, \"#0d0887\"], [0.1111111111111111, \"#46039f\"], [0.2222222222222222, \"#7201a8\"], [0.3333333333333333, \"#9c179e\"], [0.4444444444444444, \"#bd3786\"], [0.5555555555555556, \"#d8576b\"], [0.6666666666666666, \"#ed7953\"], [0.7777777777777778, \"#fb9f3a\"], [0.8888888888888888, \"#fdca26\"], [1.0, \"#f0f921\"]], \"type\": \"heatmap\"}], \"heatmapgl\": [{\"colorbar\": {\"outlinewidth\": 0, \"ticks\": \"\"}, \"colorscale\": [[0.0, \"#0d0887\"], [0.1111111111111111, \"#46039f\"], [0.2222222222222222, \"#7201a8\"], [0.3333333333333333, \"#9c179e\"], [0.4444444444444444, \"#bd3786\"], [0.5555555555555556, \"#d8576b\"], [0.6666666666666666, \"#ed7953\"], [0.7777777777777778, \"#fb9f3a\"], [0.8888888888888888, \"#fdca26\"], [1.0, \"#f0f921\"]], \"type\": \"heatmapgl\"}], \"histogram\": [{\"marker\": {\"colorbar\": {\"outlinewidth\": 0, \"ticks\": \"\"}}, \"type\": \"histogram\"}], \"histogram2d\": [{\"colorbar\": {\"outlinewidth\": 0, \"ticks\": \"\"}, \"colorscale\": [[0.0, \"#0d0887\"], [0.1111111111111111, \"#46039f\"], [0.2222222222222222, \"#7201a8\"], [0.3333333333333333, \"#9c179e\"], [0.4444444444444444, \"#bd3786\"], [0.5555555555555556, \"#d8576b\"], [0.6666666666666666, \"#ed7953\"], [0.7777777777777778, \"#fb9f3a\"], [0.8888888888888888, \"#fdca26\"], [1.0, \"#f0f921\"]], \"type\": \"histogram2d\"}], \"histogram2dcontour\": [{\"colorbar\": {\"outlinewidth\": 0, \"ticks\": \"\"}, \"colorscale\": [[0.0, \"#0d0887\"], [0.1111111111111111, \"#46039f\"], [0.2222222222222222, \"#7201a8\"], [0.3333333333333333, \"#9c179e\"], [0.4444444444444444, \"#bd3786\"], [0.5555555555555556, \"#d8576b\"], [0.6666666666666666, \"#ed7953\"], [0.7777777777777778, \"#fb9f3a\"], [0.8888888888888888, \"#fdca26\"], [1.0, \"#f0f921\"]], \"type\": \"histogram2dcontour\"}], \"mesh3d\": [{\"colorbar\": {\"outlinewidth\": 0, \"ticks\": \"\"}, \"type\": \"mesh3d\"}], \"parcoords\": [{\"line\": {\"colorbar\": {\"outlinewidth\": 0, \"ticks\": \"\"}}, \"type\": \"parcoords\"}], \"pie\": [{\"automargin\": true, \"type\": \"pie\"}], \"scatter\": [{\"marker\": {\"colorbar\": {\"outlinewidth\": 0, \"ticks\": \"\"}}, \"type\": \"scatter\"}], \"scatter3d\": [{\"line\": {\"colorbar\": {\"outlinewidth\": 0, \"ticks\": \"\"}}, \"marker\": {\"colorbar\": {\"outlinewidth\": 0, \"ticks\": \"\"}}, \"type\": \"scatter3d\"}], \"scattercarpet\": [{\"marker\": {\"colorbar\": {\"outlinewidth\": 0, \"ticks\": \"\"}}, \"type\": \"scattercarpet\"}], \"scattergeo\": [{\"marker\": {\"colorbar\": {\"outlinewidth\": 0, \"ticks\": \"\"}}, \"type\": \"scattergeo\"}], \"scattergl\": [{\"marker\": {\"colorbar\": {\"outlinewidth\": 0, \"ticks\": \"\"}}, \"type\": \"scattergl\"}], \"scattermapbox\": [{\"marker\": {\"colorbar\": {\"outlinewidth\": 0, \"ticks\": \"\"}}, \"type\": \"scattermapbox\"}], \"scatterpolar\": [{\"marker\": {\"colorbar\": {\"outlinewidth\": 0, \"ticks\": \"\"}}, \"type\": \"scatterpolar\"}], \"scatterpolargl\": [{\"marker\": {\"colorbar\": {\"outlinewidth\": 0, \"ticks\": \"\"}}, \"type\": \"scatterpolargl\"}], \"scatterternary\": [{\"marker\": {\"colorbar\": {\"outlinewidth\": 0, \"ticks\": \"\"}}, \"type\": \"scatterternary\"}], \"surface\": [{\"colorbar\": {\"outlinewidth\": 0, \"ticks\": \"\"}, \"colorscale\": [[0.0, \"#0d0887\"], [0.1111111111111111, \"#46039f\"], [0.2222222222222222, \"#7201a8\"], [0.3333333333333333, \"#9c179e\"], [0.4444444444444444, \"#bd3786\"], [0.5555555555555556, \"#d8576b\"], [0.6666666666666666, \"#ed7953\"], [0.7777777777777778, \"#fb9f3a\"], [0.8888888888888888, \"#fdca26\"], [1.0, \"#f0f921\"]], \"type\": \"surface\"}], \"table\": [{\"cells\": {\"fill\": {\"color\": \"#EBF0F8\"}, \"line\": {\"color\": \"white\"}}, \"header\": {\"fill\": {\"color\": \"#C8D4E3\"}, \"line\": {\"color\": \"white\"}}, \"type\": \"table\"}]}, \"layout\": {\"annotationdefaults\": {\"arrowcolor\": \"#2a3f5f\", \"arrowhead\": 0, \"arrowwidth\": 1}, \"coloraxis\": {\"colorbar\": {\"outlinewidth\": 0, \"ticks\": \"\"}}, \"colorscale\": {\"diverging\": [[0, \"#8e0152\"], [0.1, \"#c51b7d\"], [0.2, \"#de77ae\"], [0.3, \"#f1b6da\"], [0.4, \"#fde0ef\"], [0.5, \"#f7f7f7\"], [0.6, \"#e6f5d0\"], [0.7, \"#b8e186\"], [0.8, \"#7fbc41\"], [0.9, \"#4d9221\"], [1, \"#276419\"]], \"sequential\": [[0.0, \"#0d0887\"], [0.1111111111111111, \"#46039f\"], [0.2222222222222222, \"#7201a8\"], [0.3333333333333333, \"#9c179e\"], [0.4444444444444444, \"#bd3786\"], [0.5555555555555556, \"#d8576b\"], [0.6666666666666666, \"#ed7953\"], [0.7777777777777778, \"#fb9f3a\"], [0.8888888888888888, \"#fdca26\"], [1.0, \"#f0f921\"]], \"sequentialminus\": [[0.0, \"#0d0887\"], [0.1111111111111111, \"#46039f\"], [0.2222222222222222, \"#7201a8\"], [0.3333333333333333, \"#9c179e\"], [0.4444444444444444, \"#bd3786\"], [0.5555555555555556, \"#d8576b\"], [0.6666666666666666, \"#ed7953\"], [0.7777777777777778, \"#fb9f3a\"], [0.8888888888888888, \"#fdca26\"], [1.0, \"#f0f921\"]]}, \"colorway\": [\"#636efa\", \"#EF553B\", \"#00cc96\", \"#ab63fa\", \"#FFA15A\", \"#19d3f3\", \"#FF6692\", \"#B6E880\", \"#FF97FF\", \"#FECB52\"], \"font\": {\"color\": \"#2a3f5f\"}, \"geo\": {\"bgcolor\": \"white\", \"lakecolor\": \"white\", \"landcolor\": \"#E5ECF6\", \"showlakes\": true, \"showland\": true, \"subunitcolor\": \"white\"}, \"hoverlabel\": {\"align\": \"left\"}, \"hovermode\": \"closest\", \"mapbox\": {\"style\": \"light\"}, \"paper_bgcolor\": \"white\", \"plot_bgcolor\": \"#E5ECF6\", \"polar\": {\"angularaxis\": {\"gridcolor\": \"white\", \"linecolor\": \"white\", \"ticks\": \"\"}, \"bgcolor\": \"#E5ECF6\", \"radialaxis\": {\"gridcolor\": \"white\", \"linecolor\": \"white\", \"ticks\": \"\"}}, \"scene\": {\"xaxis\": {\"backgroundcolor\": \"#E5ECF6\", \"gridcolor\": \"white\", \"gridwidth\": 2, \"linecolor\": \"white\", \"showbackground\": true, \"ticks\": \"\", \"zerolinecolor\": \"white\"}, \"yaxis\": {\"backgroundcolor\": \"#E5ECF6\", \"gridcolor\": \"white\", \"gridwidth\": 2, \"linecolor\": \"white\", \"showbackground\": true, \"ticks\": \"\", \"zerolinecolor\": \"white\"}, \"zaxis\": {\"backgroundcolor\": \"#E5ECF6\", \"gridcolor\": \"white\", \"gridwidth\": 2, \"linecolor\": \"white\", \"showbackground\": true, \"ticks\": \"\", \"zerolinecolor\": \"white\"}}, \"shapedefaults\": {\"line\": {\"color\": \"#2a3f5f\"}}, \"ternary\": {\"aaxis\": {\"gridcolor\": \"white\", \"linecolor\": \"white\", \"ticks\": \"\"}, \"baxis\": {\"gridcolor\": \"white\", \"linecolor\": \"white\", \"ticks\": \"\"}, \"bgcolor\": \"#E5ECF6\", \"caxis\": {\"gridcolor\": \"white\", \"linecolor\": \"white\", \"ticks\": \"\"}}, \"title\": {\"x\": 0.05}, \"xaxis\": {\"automargin\": true, \"gridcolor\": \"white\", \"linecolor\": \"white\", \"ticks\": \"\", \"title\": {\"standoff\": 15}, \"zerolinecolor\": \"white\", \"zerolinewidth\": 2}, \"yaxis\": {\"automargin\": true, \"gridcolor\": \"white\", \"linecolor\": \"white\", \"ticks\": \"\", \"title\": {\"standoff\": 15}, \"zerolinecolor\": \"white\", \"zerolinewidth\": 2}}}, \"title\": {\"text\": \"Correlation Matrix for variables\"}, \"xaxis\": {\"tickfont\": {\"size\": 9}}, \"yaxis\": {\"tickfont\": {\"size\": 9}}},\n",
       "                        {\"responsive\": true}\n",
       "                    ).then(function(){\n",
       "                            \n",
       "var gd = document.getElementById('e974da86-9e17-4092-b9c5-20b6fcb3dcd4');\n",
       "var x = new MutationObserver(function (mutations, observer) {{\n",
       "        var display = window.getComputedStyle(gd).display;\n",
       "        if (!display || display === 'none') {{\n",
       "            console.log([gd, 'removed!']);\n",
       "            Plotly.purge(gd);\n",
       "            observer.disconnect();\n",
       "        }}\n",
       "}});\n",
       "\n",
       "// Listen for the removal of the full notebook cells\n",
       "var notebookContainer = gd.closest('#notebook-container');\n",
       "if (notebookContainer) {{\n",
       "    x.observe(notebookContainer, {childList: true});\n",
       "}}\n",
       "\n",
       "// Listen for the clearing of the current output cell\n",
       "var outputEl = gd.closest('.output');\n",
       "if (outputEl) {{\n",
       "    x.observe(outputEl, {childList: true});\n",
       "}}\n",
       "\n",
       "                        })\n",
       "                };\n",
       "                });\n",
       "            </script>\n",
       "        </div>"
      ]
     },
     "metadata": {},
     "output_type": "display_data"
    }
   ],
   "source": [
    "correlation_plot()"
   ]
  },
  {
   "cell_type": "code",
   "execution_count": 35,
   "metadata": {},
   "outputs": [],
   "source": [
    "def plot_feat1_feat2(feat1, feat2) :  \n",
    "    D = data[(data['Outcome'] != 0)]\n",
    "    H = data[(data['Outcome'] == 0)]\n",
    "    trace0 = go.Scatter(\n",
    "        x = D[feat1],\n",
    "        y = D[feat2],\n",
    "        name = 'diabetic',\n",
    "        mode = 'markers', \n",
    "        opacity=0.8,\n",
    "        marker = dict(color = 'lightskyblue',\n",
    "            line = dict(\n",
    "                width = 1)))\n",
    "\n",
    "    trace1 = go.Scatter(\n",
    "        x = H[feat1],\n",
    "        y = H[feat2],\n",
    "        name = 'healthy',\n",
    "        opacity=0.8,\n",
    "        mode = 'markers',\n",
    "        marker = dict(color = 'indigo',\n",
    "            line = dict(\n",
    "                width = 1)))\n",
    "\n",
    "    layout = dict(title = feat1 +\" \"+\"vs\"+\" \"+ feat2,\n",
    "                  yaxis = dict(title = feat2,zeroline = False),\n",
    "                  xaxis = dict(title = feat1, zeroline = False)\n",
    "                 )\n",
    "\n",
    "    plots = [trace0, trace1]\n",
    "\n",
    "    fig = dict(data = plots, layout=layout)\n",
    "    py.iplot(fig)"
   ]
  },
  {
   "cell_type": "code",
   "execution_count": 36,
   "metadata": {},
   "outputs": [
    {
     "data": {
      "application/vnd.plotly.v1+json": {
       "config": {
        "linkText": "Export to plot.ly",
        "plotlyServerURL": "https://plot.ly",
        "showLink": false
       },
       "data": [
        {
         "marker": {
          "color": "lightskyblue",
          "line": {
           "width": 1
          }
         },
         "mode": "markers",
         "name": "diabetic",
         "opacity": 0.8,
         "type": "scatter",
         "x": [
          6,
          8,
          0,
          3,
          2,
          8,
          10,
          1,
          5,
          7,
          0,
          7,
          1,
          7,
          9,
          11,
          10,
          7,
          3,
          9,
          2,
          4,
          9,
          0,
          7,
          8,
          7,
          8,
          7,
          0,
          2,
          13,
          0,
          5,
          15,
          4,
          1,
          1,
          0,
          3,
          8,
          7,
          4,
          5,
          0,
          0,
          1,
          1,
          0,
          4,
          9,
          3,
          10,
          9,
          8,
          7,
          17,
          0,
          6,
          6,
          6,
          8,
          0,
          5,
          7,
          8,
          1,
          8,
          5,
          7,
          11,
          5,
          3,
          4,
          4,
          8,
          5,
          7,
          0,
          9,
          12,
          5,
          5,
          5,
          0,
          2,
          3,
          4,
          6,
          4,
          7,
          0,
          9,
          3,
          6,
          9,
          12,
          1,
          11,
          3,
          4,
          0,
          2,
          10,
          7,
          0,
          7,
          2,
          1,
          0,
          2,
          1,
          2,
          14,
          0,
          2,
          5,
          10,
          0,
          2,
          2,
          7,
          3,
          6,
          3,
          0,
          13,
          1,
          2,
          1,
          5,
          9,
          7,
          5,
          9,
          1,
          13,
          1,
          5,
          4,
          6,
          1,
          3,
          12,
          4,
          5,
          8,
          5,
          5,
          4,
          0,
          3,
          4,
          5,
          5,
          4,
          8,
          1,
          0,
          3,
          4,
          3,
          8,
          4,
          1,
          1,
          0,
          0,
          8,
          4,
          0,
          0,
          2,
          14,
          10,
          8,
          2,
          3,
          0,
          0,
          4,
          7,
          6,
          0,
          12,
          3,
          9,
          9,
          4,
          3,
          8,
          3,
          10,
          8,
          5,
          6,
          0,
          0,
          2,
          2,
          0,
          8,
          8,
          3,
          11,
          3,
          0,
          1,
          7,
          4,
          1,
          3,
          7,
          11,
          9,
          0,
          7,
          13,
          7,
          6,
          1,
          0,
          11,
          2,
          3,
          1,
          8,
          9,
          6,
          4,
          10,
          6,
          9,
          3,
          0,
          4,
          1,
          13,
          7,
          7,
          3,
          6,
          1,
          10,
          9,
          2,
          10,
          7,
          3,
          5,
          1,
          3,
          8,
          2,
          1,
          11,
          9,
          1,
          3,
          6,
          4,
          0,
          8,
          1,
          0,
          6,
          9,
          1
         ],
         "y": [
          50,
          32,
          33,
          26,
          53,
          54,
          34,
          59,
          51,
          32,
          31,
          31,
          32,
          41,
          29,
          51,
          41,
          43,
          28,
          46,
          27,
          56,
          54,
          25,
          31,
          58,
          41,
          39,
          42,
          38,
          28,
          42,
          26,
          37,
          43,
          60,
          31,
          33,
          24,
          24,
          46,
          39,
          61,
          38,
          25,
          23,
          26,
          40,
          62,
          33,
          33,
          30,
          42,
          42,
          43,
          36,
          47,
          32,
          41,
          36,
          29,
          36,
          26,
          37,
          41,
          60,
          33,
          31,
          25,
          36,
          40,
          29,
          23,
          26,
          29,
          57,
          52,
          41,
          24,
          36,
          38,
          25,
          32,
          41,
          21,
          66,
          24,
          22,
          46,
          26,
          51,
          23,
          32,
          22,
          33,
          49,
          44,
          21,
          51,
          27,
          35,
          25,
          28,
          38,
          29,
          28,
          47,
          52,
          29,
          25,
          31,
          24,
          29,
          46,
          30,
          25,
          28,
          47,
          25,
          30,
          27,
          43,
          29,
          59,
          25,
          36,
          43,
          30,
          23,
          41,
          44,
          33,
          41,
          37,
          49,
          28,
          44,
          29,
          29,
          67,
          29,
          45,
          25,
          58,
          32,
          35,
          45,
          58,
          27,
          31,
          22,
          25,
          31,
          35,
          41,
          46,
          39,
          28,
          21,
          22,
          37,
          28,
          36,
          31,
          38,
          43,
          29,
          41,
          33,
          30,
          25,
          22,
          23,
          38,
          51,
          38,
          29,
          35,
          31,
          24,
          45,
          55,
          41,
          35,
          46,
          28,
          53,
          45,
          23,
          32,
          43,
          27,
          56,
          37,
          53,
          54,
          28,
          33,
          21,
          62,
          21,
          52,
          41,
          52,
          45,
          44,
          22,
          38,
          54,
          36,
          22,
          36,
          40,
          50,
          50,
          24,
          34,
          38,
          32,
          50,
          33,
          22,
          42,
          25,
          27,
          22,
          43,
          40,
          40,
          70,
          40,
          31,
          53,
          25,
          26,
          27,
          46,
          44,
          43,
          43,
          31,
          49,
          52,
          30,
          45,
          23,
          38,
          34,
          31,
          52,
          42,
          34,
          22,
          24,
          42,
          48,
          45,
          27,
          36,
          50,
          22,
          26,
          45,
          37,
          52,
          66,
          43,
          47
         ]
        },
        {
         "marker": {
          "color": "indigo",
          "line": {
           "width": 1
          }
         },
         "mode": "markers",
         "name": "healthy",
         "opacity": 0.8,
         "type": "scatter",
         "x": [
          1,
          1,
          5,
          10,
          4,
          10,
          1,
          3,
          8,
          1,
          13,
          5,
          5,
          3,
          6,
          10,
          4,
          11,
          3,
          7,
          7,
          7,
          1,
          2,
          7,
          1,
          1,
          5,
          7,
          1,
          0,
          0,
          0,
          2,
          5,
          2,
          5,
          2,
          1,
          4,
          5,
          4,
          1,
          1,
          7,
          5,
          2,
          3,
          2,
          7,
          0,
          2,
          13,
          2,
          1,
          1,
          4,
          7,
          2,
          6,
          2,
          1,
          6,
          1,
          0,
          1,
          2,
          1,
          1,
          4,
          3,
          1,
          4,
          5,
          4,
          4,
          6,
          2,
          5,
          3,
          1,
          8,
          2,
          2,
          0,
          0,
          0,
          5,
          3,
          5,
          2,
          4,
          0,
          9,
          2,
          5,
          2,
          1,
          4,
          1,
          2,
          1,
          2,
          4,
          7,
          0,
          2,
          3,
          4,
          4,
          3,
          2,
          1,
          2,
          6,
          5,
          6,
          0,
          1,
          5,
          4,
          3,
          9,
          8,
          1,
          0,
          1,
          0,
          2,
          6,
          5,
          1,
          2,
          0,
          7,
          6,
          7,
          7,
          1,
          1,
          0,
          4,
          0,
          1,
          4,
          3,
          0,
          1,
          4,
          2,
          10,
          0,
          9,
          1,
          9,
          2,
          2,
          0,
          3,
          2,
          1,
          3,
          4,
          3,
          5,
          2,
          0,
          2,
          3,
          1,
          13,
          2,
          0,
          5,
          2,
          10,
          7,
          7,
          5,
          4,
          5,
          0,
          0,
          6,
          0,
          8,
          5,
          3,
          2,
          0,
          6,
          0,
          3,
          2,
          3,
          3,
          4,
          2,
          1,
          10,
          6,
          8,
          2,
          12,
          1,
          0,
          0,
          1,
          1,
          1,
          5,
          8,
          8,
          1,
          3,
          3,
          4,
          4,
          3,
          1,
          3,
          12,
          5,
          5,
          4,
          5,
          0,
          3,
          0,
          0,
          2,
          2,
          0,
          1,
          0,
          1,
          0,
          1,
          1,
          1,
          1,
          3,
          1,
          1,
          4,
          2,
          3,
          3,
          6,
          9,
          2,
          0,
          6,
          1,
          1,
          1,
          1,
          1,
          1,
          2,
          0,
          2,
          0,
          0,
          2,
          3,
          1,
          2,
          1,
          12,
          5,
          1,
          6,
          2,
          4,
          1,
          0,
          0,
          1,
          0,
          2,
          2,
          1,
          5,
          9,
          9,
          1,
          8,
          5,
          10,
          0,
          0,
          0,
          6,
          1,
          0,
          0,
          7,
          4,
          0,
          7,
          8,
          4,
          0,
          4,
          0,
          1,
          0,
          4,
          8,
          2,
          2,
          4,
          3,
          6,
          5,
          2,
          6,
          2,
          3,
          7,
          3,
          10,
          1,
          2,
          8,
          0,
          9,
          2,
          3,
          7,
          13,
          6,
          2,
          3,
          6,
          3,
          3,
          1,
          3,
          0,
          0,
          2,
          0,
          1,
          6,
          1,
          0,
          0,
          0,
          4,
          1,
          4,
          1,
          4,
          1,
          3,
          6,
          1,
          1,
          7,
          1,
          8,
          11,
          11,
          1,
          6,
          0,
          2,
          1,
          6,
          4,
          3,
          2,
          3,
          2,
          1,
          1,
          6,
          10,
          6,
          12,
          8,
          1,
          6,
          0,
          2,
          2,
          6,
          0,
          1,
          1,
          1,
          6,
          1,
          1,
          1,
          0,
          1,
          3,
          6,
          3,
          6,
          2,
          2,
          2,
          6,
          0,
          2,
          4,
          0,
          0,
          5,
          4,
          0,
          2,
          1,
          10,
          5,
          2,
          1,
          0,
          4,
          4,
          3,
          2,
          0,
          1,
          1,
          5,
          2,
          1,
          2,
          1,
          11,
          10,
          1,
          6,
          9,
          6,
          1,
          10,
          3,
          8,
          0,
          2,
          2,
          0,
          5,
          2,
          3,
          1,
          1,
          8,
          2,
          2,
          0,
          4,
          4,
          2,
          2,
          4,
          6,
          2,
          3,
          5,
          0,
          3,
          10,
          1,
          4,
          1,
          5,
          1,
          4,
          1,
          0,
          2,
          2,
          2,
          2,
          4,
          0,
          8,
          2,
          3,
          1,
          13,
          12,
          1,
          1,
          3,
          7,
          1,
          2,
          9,
          10,
          2,
          5,
          1
         ],
         "y": [
          31,
          21,
          30,
          29,
          30,
          57,
          33,
          27,
          50,
          22,
          57,
          38,
          60,
          22,
          28,
          45,
          33,
          35,
          26,
          37,
          48,
          40,
          29,
          22,
          24,
          22,
          26,
          30,
          42,
          21,
          31,
          44,
          22,
          21,
          36,
          24,
          32,
          54,
          25,
          27,
          26,
          23,
          22,
          22,
          41,
          27,
          24,
          22,
          22,
          36,
          22,
          27,
          45,
          26,
          24,
          21,
          34,
          42,
          21,
          40,
          24,
          22,
          23,
          22,
          21,
          24,
          27,
          21,
          27,
          37,
          25,
          23,
          25,
          25,
          22,
          21,
          24,
          23,
          69,
          30,
          23,
          39,
          26,
          31,
          21,
          22,
          29,
          28,
          55,
          38,
          22,
          23,
          21,
          41,
          34,
          65,
          22,
          24,
          37,
          23,
          21,
          23,
          22,
          36,
          45,
          27,
          21,
          22,
          34,
          29,
          29,
          25,
          23,
          33,
          42,
          47,
          32,
          23,
          21,
          27,
          40,
          21,
          40,
          42,
          21,
          21,
          28,
          32,
          27,
          55,
          27,
          21,
          25,
          24,
          60,
          32,
          37,
          61,
          26,
          22,
          26,
          31,
          24,
          22,
          29,
          23,
          27,
          21,
          22,
          29,
          41,
          23,
          34,
          23,
          42,
          27,
          24,
          25,
          30,
          25,
          24,
          34,
          24,
          63,
          43,
          24,
          21,
          21,
          40,
          21,
          52,
          25,
          23,
          57,
          22,
          39,
          37,
          51,
          34,
          26,
          33,
          21,
          65,
          28,
          24,
          58,
          35,
          37,
          29,
          21,
          41,
          22,
          25,
          26,
          30,
          28,
          31,
          21,
          24,
          37,
          37,
          46,
          25,
          44,
          22,
          26,
          44,
          22,
          36,
          22,
          33,
          57,
          49,
          22,
          23,
          26,
          29,
          30,
          46,
          24,
          21,
          48,
          63,
          65,
          30,
          30,
          21,
          22,
          21,
          21,
          25,
          28,
          22,
          22,
          35,
          24,
          22,
          21,
          25,
          25,
          24,
          28,
          42,
          21,
          37,
          25,
          39,
          25,
          55,
          38,
          26,
          25,
          28,
          25,
          22,
          21,
          22,
          27,
          26,
          21,
          21,
          21,
          25,
          26,
          23,
          38,
          22,
          29,
          36,
          41,
          28,
          21,
          31,
          22,
          24,
          28,
          26,
          26,
          23,
          25,
          72,
          24,
          62,
          24,
          81,
          48,
          26,
          39,
          37,
          34,
          21,
          22,
          25,
          27,
          28,
          22,
          22,
          50,
          24,
          59,
          31,
          39,
          63,
          29,
          28,
          23,
          21,
          58,
          28,
          67,
          24,
          42,
          33,
          22,
          66,
          30,
          25,
          39,
          21,
          28,
          41,
          40,
          38,
          21,
          21,
          64,
          21,
          58,
          22,
          24,
          51,
          41,
          60,
          25,
          26,
          26,
          24,
          21,
          21,
          24,
          22,
          31,
          22,
          24,
          29,
          31,
          24,
          46,
          67,
          23,
          25,
          29,
          28,
          50,
          37,
          21,
          25,
          66,
          23,
          28,
          37,
          30,
          58,
          42,
          35,
          24,
          32,
          27,
          22,
          21,
          46,
          37,
          39,
          21,
          22,
          22,
          23,
          25,
          35,
          36,
          27,
          62,
          42,
          22,
          29,
          25,
          24,
          25,
          34,
          46,
          21,
          26,
          24,
          28,
          30,
          21,
          25,
          27,
          23,
          24,
          26,
          27,
          30,
          23,
          28,
          28,
          45,
          21,
          21,
          29,
          21,
          21,
          45,
          21,
          24,
          23,
          22,
          31,
          48,
          23,
          28,
          27,
          24,
          31,
          27,
          30,
          23,
          23,
          27,
          28,
          27,
          22,
          22,
          41,
          51,
          54,
          24,
          43,
          45,
          49,
          21,
          47,
          22,
          68,
          25,
          23,
          22,
          22,
          69,
          25,
          22,
          29,
          23,
          34,
          23,
          25,
          22,
          28,
          26,
          26,
          41,
          27,
          28,
          22,
          24,
          40,
          21,
          32,
          56,
          24,
          34,
          21,
          42,
          45,
          38,
          25,
          22,
          22,
          22,
          22,
          53,
          28,
          21,
          42,
          21,
          26,
          22,
          39,
          46,
          32,
          28,
          25,
          39,
          26,
          22,
          33,
          63,
          27,
          30,
          23
         ]
        }
       ],
       "layout": {
        "template": {
         "data": {
          "bar": [
           {
            "error_x": {
             "color": "#2a3f5f"
            },
            "error_y": {
             "color": "#2a3f5f"
            },
            "marker": {
             "line": {
              "color": "#E5ECF6",
              "width": 0.5
             }
            },
            "type": "bar"
           }
          ],
          "barpolar": [
           {
            "marker": {
             "line": {
              "color": "#E5ECF6",
              "width": 0.5
             }
            },
            "type": "barpolar"
           }
          ],
          "carpet": [
           {
            "aaxis": {
             "endlinecolor": "#2a3f5f",
             "gridcolor": "white",
             "linecolor": "white",
             "minorgridcolor": "white",
             "startlinecolor": "#2a3f5f"
            },
            "baxis": {
             "endlinecolor": "#2a3f5f",
             "gridcolor": "white",
             "linecolor": "white",
             "minorgridcolor": "white",
             "startlinecolor": "#2a3f5f"
            },
            "type": "carpet"
           }
          ],
          "choropleth": [
           {
            "colorbar": {
             "outlinewidth": 0,
             "ticks": ""
            },
            "type": "choropleth"
           }
          ],
          "contour": [
           {
            "colorbar": {
             "outlinewidth": 0,
             "ticks": ""
            },
            "colorscale": [
             [
              0,
              "#0d0887"
             ],
             [
              0.1111111111111111,
              "#46039f"
             ],
             [
              0.2222222222222222,
              "#7201a8"
             ],
             [
              0.3333333333333333,
              "#9c179e"
             ],
             [
              0.4444444444444444,
              "#bd3786"
             ],
             [
              0.5555555555555556,
              "#d8576b"
             ],
             [
              0.6666666666666666,
              "#ed7953"
             ],
             [
              0.7777777777777778,
              "#fb9f3a"
             ],
             [
              0.8888888888888888,
              "#fdca26"
             ],
             [
              1,
              "#f0f921"
             ]
            ],
            "type": "contour"
           }
          ],
          "contourcarpet": [
           {
            "colorbar": {
             "outlinewidth": 0,
             "ticks": ""
            },
            "type": "contourcarpet"
           }
          ],
          "heatmap": [
           {
            "colorbar": {
             "outlinewidth": 0,
             "ticks": ""
            },
            "colorscale": [
             [
              0,
              "#0d0887"
             ],
             [
              0.1111111111111111,
              "#46039f"
             ],
             [
              0.2222222222222222,
              "#7201a8"
             ],
             [
              0.3333333333333333,
              "#9c179e"
             ],
             [
              0.4444444444444444,
              "#bd3786"
             ],
             [
              0.5555555555555556,
              "#d8576b"
             ],
             [
              0.6666666666666666,
              "#ed7953"
             ],
             [
              0.7777777777777778,
              "#fb9f3a"
             ],
             [
              0.8888888888888888,
              "#fdca26"
             ],
             [
              1,
              "#f0f921"
             ]
            ],
            "type": "heatmap"
           }
          ],
          "heatmapgl": [
           {
            "colorbar": {
             "outlinewidth": 0,
             "ticks": ""
            },
            "colorscale": [
             [
              0,
              "#0d0887"
             ],
             [
              0.1111111111111111,
              "#46039f"
             ],
             [
              0.2222222222222222,
              "#7201a8"
             ],
             [
              0.3333333333333333,
              "#9c179e"
             ],
             [
              0.4444444444444444,
              "#bd3786"
             ],
             [
              0.5555555555555556,
              "#d8576b"
             ],
             [
              0.6666666666666666,
              "#ed7953"
             ],
             [
              0.7777777777777778,
              "#fb9f3a"
             ],
             [
              0.8888888888888888,
              "#fdca26"
             ],
             [
              1,
              "#f0f921"
             ]
            ],
            "type": "heatmapgl"
           }
          ],
          "histogram": [
           {
            "marker": {
             "colorbar": {
              "outlinewidth": 0,
              "ticks": ""
             }
            },
            "type": "histogram"
           }
          ],
          "histogram2d": [
           {
            "colorbar": {
             "outlinewidth": 0,
             "ticks": ""
            },
            "colorscale": [
             [
              0,
              "#0d0887"
             ],
             [
              0.1111111111111111,
              "#46039f"
             ],
             [
              0.2222222222222222,
              "#7201a8"
             ],
             [
              0.3333333333333333,
              "#9c179e"
             ],
             [
              0.4444444444444444,
              "#bd3786"
             ],
             [
              0.5555555555555556,
              "#d8576b"
             ],
             [
              0.6666666666666666,
              "#ed7953"
             ],
             [
              0.7777777777777778,
              "#fb9f3a"
             ],
             [
              0.8888888888888888,
              "#fdca26"
             ],
             [
              1,
              "#f0f921"
             ]
            ],
            "type": "histogram2d"
           }
          ],
          "histogram2dcontour": [
           {
            "colorbar": {
             "outlinewidth": 0,
             "ticks": ""
            },
            "colorscale": [
             [
              0,
              "#0d0887"
             ],
             [
              0.1111111111111111,
              "#46039f"
             ],
             [
              0.2222222222222222,
              "#7201a8"
             ],
             [
              0.3333333333333333,
              "#9c179e"
             ],
             [
              0.4444444444444444,
              "#bd3786"
             ],
             [
              0.5555555555555556,
              "#d8576b"
             ],
             [
              0.6666666666666666,
              "#ed7953"
             ],
             [
              0.7777777777777778,
              "#fb9f3a"
             ],
             [
              0.8888888888888888,
              "#fdca26"
             ],
             [
              1,
              "#f0f921"
             ]
            ],
            "type": "histogram2dcontour"
           }
          ],
          "mesh3d": [
           {
            "colorbar": {
             "outlinewidth": 0,
             "ticks": ""
            },
            "type": "mesh3d"
           }
          ],
          "parcoords": [
           {
            "line": {
             "colorbar": {
              "outlinewidth": 0,
              "ticks": ""
             }
            },
            "type": "parcoords"
           }
          ],
          "pie": [
           {
            "automargin": true,
            "type": "pie"
           }
          ],
          "scatter": [
           {
            "marker": {
             "colorbar": {
              "outlinewidth": 0,
              "ticks": ""
             }
            },
            "type": "scatter"
           }
          ],
          "scatter3d": [
           {
            "line": {
             "colorbar": {
              "outlinewidth": 0,
              "ticks": ""
             }
            },
            "marker": {
             "colorbar": {
              "outlinewidth": 0,
              "ticks": ""
             }
            },
            "type": "scatter3d"
           }
          ],
          "scattercarpet": [
           {
            "marker": {
             "colorbar": {
              "outlinewidth": 0,
              "ticks": ""
             }
            },
            "type": "scattercarpet"
           }
          ],
          "scattergeo": [
           {
            "marker": {
             "colorbar": {
              "outlinewidth": 0,
              "ticks": ""
             }
            },
            "type": "scattergeo"
           }
          ],
          "scattergl": [
           {
            "marker": {
             "colorbar": {
              "outlinewidth": 0,
              "ticks": ""
             }
            },
            "type": "scattergl"
           }
          ],
          "scattermapbox": [
           {
            "marker": {
             "colorbar": {
              "outlinewidth": 0,
              "ticks": ""
             }
            },
            "type": "scattermapbox"
           }
          ],
          "scatterpolar": [
           {
            "marker": {
             "colorbar": {
              "outlinewidth": 0,
              "ticks": ""
             }
            },
            "type": "scatterpolar"
           }
          ],
          "scatterpolargl": [
           {
            "marker": {
             "colorbar": {
              "outlinewidth": 0,
              "ticks": ""
             }
            },
            "type": "scatterpolargl"
           }
          ],
          "scatterternary": [
           {
            "marker": {
             "colorbar": {
              "outlinewidth": 0,
              "ticks": ""
             }
            },
            "type": "scatterternary"
           }
          ],
          "surface": [
           {
            "colorbar": {
             "outlinewidth": 0,
             "ticks": ""
            },
            "colorscale": [
             [
              0,
              "#0d0887"
             ],
             [
              0.1111111111111111,
              "#46039f"
             ],
             [
              0.2222222222222222,
              "#7201a8"
             ],
             [
              0.3333333333333333,
              "#9c179e"
             ],
             [
              0.4444444444444444,
              "#bd3786"
             ],
             [
              0.5555555555555556,
              "#d8576b"
             ],
             [
              0.6666666666666666,
              "#ed7953"
             ],
             [
              0.7777777777777778,
              "#fb9f3a"
             ],
             [
              0.8888888888888888,
              "#fdca26"
             ],
             [
              1,
              "#f0f921"
             ]
            ],
            "type": "surface"
           }
          ],
          "table": [
           {
            "cells": {
             "fill": {
              "color": "#EBF0F8"
             },
             "line": {
              "color": "white"
             }
            },
            "header": {
             "fill": {
              "color": "#C8D4E3"
             },
             "line": {
              "color": "white"
             }
            },
            "type": "table"
           }
          ]
         },
         "layout": {
          "annotationdefaults": {
           "arrowcolor": "#2a3f5f",
           "arrowhead": 0,
           "arrowwidth": 1
          },
          "coloraxis": {
           "colorbar": {
            "outlinewidth": 0,
            "ticks": ""
           }
          },
          "colorscale": {
           "diverging": [
            [
             0,
             "#8e0152"
            ],
            [
             0.1,
             "#c51b7d"
            ],
            [
             0.2,
             "#de77ae"
            ],
            [
             0.3,
             "#f1b6da"
            ],
            [
             0.4,
             "#fde0ef"
            ],
            [
             0.5,
             "#f7f7f7"
            ],
            [
             0.6,
             "#e6f5d0"
            ],
            [
             0.7,
             "#b8e186"
            ],
            [
             0.8,
             "#7fbc41"
            ],
            [
             0.9,
             "#4d9221"
            ],
            [
             1,
             "#276419"
            ]
           ],
           "sequential": [
            [
             0,
             "#0d0887"
            ],
            [
             0.1111111111111111,
             "#46039f"
            ],
            [
             0.2222222222222222,
             "#7201a8"
            ],
            [
             0.3333333333333333,
             "#9c179e"
            ],
            [
             0.4444444444444444,
             "#bd3786"
            ],
            [
             0.5555555555555556,
             "#d8576b"
            ],
            [
             0.6666666666666666,
             "#ed7953"
            ],
            [
             0.7777777777777778,
             "#fb9f3a"
            ],
            [
             0.8888888888888888,
             "#fdca26"
            ],
            [
             1,
             "#f0f921"
            ]
           ],
           "sequentialminus": [
            [
             0,
             "#0d0887"
            ],
            [
             0.1111111111111111,
             "#46039f"
            ],
            [
             0.2222222222222222,
             "#7201a8"
            ],
            [
             0.3333333333333333,
             "#9c179e"
            ],
            [
             0.4444444444444444,
             "#bd3786"
            ],
            [
             0.5555555555555556,
             "#d8576b"
            ],
            [
             0.6666666666666666,
             "#ed7953"
            ],
            [
             0.7777777777777778,
             "#fb9f3a"
            ],
            [
             0.8888888888888888,
             "#fdca26"
            ],
            [
             1,
             "#f0f921"
            ]
           ]
          },
          "colorway": [
           "#636efa",
           "#EF553B",
           "#00cc96",
           "#ab63fa",
           "#FFA15A",
           "#19d3f3",
           "#FF6692",
           "#B6E880",
           "#FF97FF",
           "#FECB52"
          ],
          "font": {
           "color": "#2a3f5f"
          },
          "geo": {
           "bgcolor": "white",
           "lakecolor": "white",
           "landcolor": "#E5ECF6",
           "showlakes": true,
           "showland": true,
           "subunitcolor": "white"
          },
          "hoverlabel": {
           "align": "left"
          },
          "hovermode": "closest",
          "mapbox": {
           "style": "light"
          },
          "paper_bgcolor": "white",
          "plot_bgcolor": "#E5ECF6",
          "polar": {
           "angularaxis": {
            "gridcolor": "white",
            "linecolor": "white",
            "ticks": ""
           },
           "bgcolor": "#E5ECF6",
           "radialaxis": {
            "gridcolor": "white",
            "linecolor": "white",
            "ticks": ""
           }
          },
          "scene": {
           "xaxis": {
            "backgroundcolor": "#E5ECF6",
            "gridcolor": "white",
            "gridwidth": 2,
            "linecolor": "white",
            "showbackground": true,
            "ticks": "",
            "zerolinecolor": "white"
           },
           "yaxis": {
            "backgroundcolor": "#E5ECF6",
            "gridcolor": "white",
            "gridwidth": 2,
            "linecolor": "white",
            "showbackground": true,
            "ticks": "",
            "zerolinecolor": "white"
           },
           "zaxis": {
            "backgroundcolor": "#E5ECF6",
            "gridcolor": "white",
            "gridwidth": 2,
            "linecolor": "white",
            "showbackground": true,
            "ticks": "",
            "zerolinecolor": "white"
           }
          },
          "shapedefaults": {
           "line": {
            "color": "#2a3f5f"
           }
          },
          "ternary": {
           "aaxis": {
            "gridcolor": "white",
            "linecolor": "white",
            "ticks": ""
           },
           "baxis": {
            "gridcolor": "white",
            "linecolor": "white",
            "ticks": ""
           },
           "bgcolor": "#E5ECF6",
           "caxis": {
            "gridcolor": "white",
            "linecolor": "white",
            "ticks": ""
           }
          },
          "title": {
           "x": 0.05
          },
          "xaxis": {
           "automargin": true,
           "gridcolor": "white",
           "linecolor": "white",
           "ticks": "",
           "title": {
            "standoff": 15
           },
           "zerolinecolor": "white",
           "zerolinewidth": 2
          },
          "yaxis": {
           "automargin": true,
           "gridcolor": "white",
           "linecolor": "white",
           "ticks": "",
           "title": {
            "standoff": 15
           },
           "zerolinecolor": "white",
           "zerolinewidth": 2
          }
         }
        },
        "title": {
         "text": "Pregnancies vs Age"
        },
        "xaxis": {
         "title": {
          "text": "Pregnancies"
         },
         "zeroline": false
        },
        "yaxis": {
         "title": {
          "text": "Age"
         },
         "zeroline": false
        }
       }
      },
      "text/html": [
       "<div>\n",
       "        \n",
       "        \n",
       "            <div id=\"c95b3d3c-b61a-4997-8b16-dbeaef858423\" class=\"plotly-graph-div\" style=\"height:525px; width:100%;\"></div>\n",
       "            <script type=\"text/javascript\">\n",
       "                require([\"plotly\"], function(Plotly) {\n",
       "                    window.PLOTLYENV=window.PLOTLYENV || {};\n",
       "                    \n",
       "                if (document.getElementById(\"c95b3d3c-b61a-4997-8b16-dbeaef858423\")) {\n",
       "                    Plotly.newPlot(\n",
       "                        'c95b3d3c-b61a-4997-8b16-dbeaef858423',\n",
       "                        [{\"marker\": {\"color\": \"lightskyblue\", \"line\": {\"width\": 1}}, \"mode\": \"markers\", \"name\": \"diabetic\", \"opacity\": 0.8, \"type\": \"scatter\", \"x\": [6, 8, 0, 3, 2, 8, 10, 1, 5, 7, 0, 7, 1, 7, 9, 11, 10, 7, 3, 9, 2, 4, 9, 0, 7, 8, 7, 8, 7, 0, 2, 13, 0, 5, 15, 4, 1, 1, 0, 3, 8, 7, 4, 5, 0, 0, 1, 1, 0, 4, 9, 3, 10, 9, 8, 7, 17, 0, 6, 6, 6, 8, 0, 5, 7, 8, 1, 8, 5, 7, 11, 5, 3, 4, 4, 8, 5, 7, 0, 9, 12, 5, 5, 5, 0, 2, 3, 4, 6, 4, 7, 0, 9, 3, 6, 9, 12, 1, 11, 3, 4, 0, 2, 10, 7, 0, 7, 2, 1, 0, 2, 1, 2, 14, 0, 2, 5, 10, 0, 2, 2, 7, 3, 6, 3, 0, 13, 1, 2, 1, 5, 9, 7, 5, 9, 1, 13, 1, 5, 4, 6, 1, 3, 12, 4, 5, 8, 5, 5, 4, 0, 3, 4, 5, 5, 4, 8, 1, 0, 3, 4, 3, 8, 4, 1, 1, 0, 0, 8, 4, 0, 0, 2, 14, 10, 8, 2, 3, 0, 0, 4, 7, 6, 0, 12, 3, 9, 9, 4, 3, 8, 3, 10, 8, 5, 6, 0, 0, 2, 2, 0, 8, 8, 3, 11, 3, 0, 1, 7, 4, 1, 3, 7, 11, 9, 0, 7, 13, 7, 6, 1, 0, 11, 2, 3, 1, 8, 9, 6, 4, 10, 6, 9, 3, 0, 4, 1, 13, 7, 7, 3, 6, 1, 10, 9, 2, 10, 7, 3, 5, 1, 3, 8, 2, 1, 11, 9, 1, 3, 6, 4, 0, 8, 1, 0, 6, 9, 1], \"y\": [50, 32, 33, 26, 53, 54, 34, 59, 51, 32, 31, 31, 32, 41, 29, 51, 41, 43, 28, 46, 27, 56, 54, 25, 31, 58, 41, 39, 42, 38, 28, 42, 26, 37, 43, 60, 31, 33, 24, 24, 46, 39, 61, 38, 25, 23, 26, 40, 62, 33, 33, 30, 42, 42, 43, 36, 47, 32, 41, 36, 29, 36, 26, 37, 41, 60, 33, 31, 25, 36, 40, 29, 23, 26, 29, 57, 52, 41, 24, 36, 38, 25, 32, 41, 21, 66, 24, 22, 46, 26, 51, 23, 32, 22, 33, 49, 44, 21, 51, 27, 35, 25, 28, 38, 29, 28, 47, 52, 29, 25, 31, 24, 29, 46, 30, 25, 28, 47, 25, 30, 27, 43, 29, 59, 25, 36, 43, 30, 23, 41, 44, 33, 41, 37, 49, 28, 44, 29, 29, 67, 29, 45, 25, 58, 32, 35, 45, 58, 27, 31, 22, 25, 31, 35, 41, 46, 39, 28, 21, 22, 37, 28, 36, 31, 38, 43, 29, 41, 33, 30, 25, 22, 23, 38, 51, 38, 29, 35, 31, 24, 45, 55, 41, 35, 46, 28, 53, 45, 23, 32, 43, 27, 56, 37, 53, 54, 28, 33, 21, 62, 21, 52, 41, 52, 45, 44, 22, 38, 54, 36, 22, 36, 40, 50, 50, 24, 34, 38, 32, 50, 33, 22, 42, 25, 27, 22, 43, 40, 40, 70, 40, 31, 53, 25, 26, 27, 46, 44, 43, 43, 31, 49, 52, 30, 45, 23, 38, 34, 31, 52, 42, 34, 22, 24, 42, 48, 45, 27, 36, 50, 22, 26, 45, 37, 52, 66, 43, 47]}, {\"marker\": {\"color\": \"indigo\", \"line\": {\"width\": 1}}, \"mode\": \"markers\", \"name\": \"healthy\", \"opacity\": 0.8, \"type\": \"scatter\", \"x\": [1, 1, 5, 10, 4, 10, 1, 3, 8, 1, 13, 5, 5, 3, 6, 10, 4, 11, 3, 7, 7, 7, 1, 2, 7, 1, 1, 5, 7, 1, 0, 0, 0, 2, 5, 2, 5, 2, 1, 4, 5, 4, 1, 1, 7, 5, 2, 3, 2, 7, 0, 2, 13, 2, 1, 1, 4, 7, 2, 6, 2, 1, 6, 1, 0, 1, 2, 1, 1, 4, 3, 1, 4, 5, 4, 4, 6, 2, 5, 3, 1, 8, 2, 2, 0, 0, 0, 5, 3, 5, 2, 4, 0, 9, 2, 5, 2, 1, 4, 1, 2, 1, 2, 4, 7, 0, 2, 3, 4, 4, 3, 2, 1, 2, 6, 5, 6, 0, 1, 5, 4, 3, 9, 8, 1, 0, 1, 0, 2, 6, 5, 1, 2, 0, 7, 6, 7, 7, 1, 1, 0, 4, 0, 1, 4, 3, 0, 1, 4, 2, 10, 0, 9, 1, 9, 2, 2, 0, 3, 2, 1, 3, 4, 3, 5, 2, 0, 2, 3, 1, 13, 2, 0, 5, 2, 10, 7, 7, 5, 4, 5, 0, 0, 6, 0, 8, 5, 3, 2, 0, 6, 0, 3, 2, 3, 3, 4, 2, 1, 10, 6, 8, 2, 12, 1, 0, 0, 1, 1, 1, 5, 8, 8, 1, 3, 3, 4, 4, 3, 1, 3, 12, 5, 5, 4, 5, 0, 3, 0, 0, 2, 2, 0, 1, 0, 1, 0, 1, 1, 1, 1, 3, 1, 1, 4, 2, 3, 3, 6, 9, 2, 0, 6, 1, 1, 1, 1, 1, 1, 2, 0, 2, 0, 0, 2, 3, 1, 2, 1, 12, 5, 1, 6, 2, 4, 1, 0, 0, 1, 0, 2, 2, 1, 5, 9, 9, 1, 8, 5, 10, 0, 0, 0, 6, 1, 0, 0, 7, 4, 0, 7, 8, 4, 0, 4, 0, 1, 0, 4, 8, 2, 2, 4, 3, 6, 5, 2, 6, 2, 3, 7, 3, 10, 1, 2, 8, 0, 9, 2, 3, 7, 13, 6, 2, 3, 6, 3, 3, 1, 3, 0, 0, 2, 0, 1, 6, 1, 0, 0, 0, 4, 1, 4, 1, 4, 1, 3, 6, 1, 1, 7, 1, 8, 11, 11, 1, 6, 0, 2, 1, 6, 4, 3, 2, 3, 2, 1, 1, 6, 10, 6, 12, 8, 1, 6, 0, 2, 2, 6, 0, 1, 1, 1, 6, 1, 1, 1, 0, 1, 3, 6, 3, 6, 2, 2, 2, 6, 0, 2, 4, 0, 0, 5, 4, 0, 2, 1, 10, 5, 2, 1, 0, 4, 4, 3, 2, 0, 1, 1, 5, 2, 1, 2, 1, 11, 10, 1, 6, 9, 6, 1, 10, 3, 8, 0, 2, 2, 0, 5, 2, 3, 1, 1, 8, 2, 2, 0, 4, 4, 2, 2, 4, 6, 2, 3, 5, 0, 3, 10, 1, 4, 1, 5, 1, 4, 1, 0, 2, 2, 2, 2, 4, 0, 8, 2, 3, 1, 13, 12, 1, 1, 3, 7, 1, 2, 9, 10, 2, 5, 1], \"y\": [31, 21, 30, 29, 30, 57, 33, 27, 50, 22, 57, 38, 60, 22, 28, 45, 33, 35, 26, 37, 48, 40, 29, 22, 24, 22, 26, 30, 42, 21, 31, 44, 22, 21, 36, 24, 32, 54, 25, 27, 26, 23, 22, 22, 41, 27, 24, 22, 22, 36, 22, 27, 45, 26, 24, 21, 34, 42, 21, 40, 24, 22, 23, 22, 21, 24, 27, 21, 27, 37, 25, 23, 25, 25, 22, 21, 24, 23, 69, 30, 23, 39, 26, 31, 21, 22, 29, 28, 55, 38, 22, 23, 21, 41, 34, 65, 22, 24, 37, 23, 21, 23, 22, 36, 45, 27, 21, 22, 34, 29, 29, 25, 23, 33, 42, 47, 32, 23, 21, 27, 40, 21, 40, 42, 21, 21, 28, 32, 27, 55, 27, 21, 25, 24, 60, 32, 37, 61, 26, 22, 26, 31, 24, 22, 29, 23, 27, 21, 22, 29, 41, 23, 34, 23, 42, 27, 24, 25, 30, 25, 24, 34, 24, 63, 43, 24, 21, 21, 40, 21, 52, 25, 23, 57, 22, 39, 37, 51, 34, 26, 33, 21, 65, 28, 24, 58, 35, 37, 29, 21, 41, 22, 25, 26, 30, 28, 31, 21, 24, 37, 37, 46, 25, 44, 22, 26, 44, 22, 36, 22, 33, 57, 49, 22, 23, 26, 29, 30, 46, 24, 21, 48, 63, 65, 30, 30, 21, 22, 21, 21, 25, 28, 22, 22, 35, 24, 22, 21, 25, 25, 24, 28, 42, 21, 37, 25, 39, 25, 55, 38, 26, 25, 28, 25, 22, 21, 22, 27, 26, 21, 21, 21, 25, 26, 23, 38, 22, 29, 36, 41, 28, 21, 31, 22, 24, 28, 26, 26, 23, 25, 72, 24, 62, 24, 81, 48, 26, 39, 37, 34, 21, 22, 25, 27, 28, 22, 22, 50, 24, 59, 31, 39, 63, 29, 28, 23, 21, 58, 28, 67, 24, 42, 33, 22, 66, 30, 25, 39, 21, 28, 41, 40, 38, 21, 21, 64, 21, 58, 22, 24, 51, 41, 60, 25, 26, 26, 24, 21, 21, 24, 22, 31, 22, 24, 29, 31, 24, 46, 67, 23, 25, 29, 28, 50, 37, 21, 25, 66, 23, 28, 37, 30, 58, 42, 35, 24, 32, 27, 22, 21, 46, 37, 39, 21, 22, 22, 23, 25, 35, 36, 27, 62, 42, 22, 29, 25, 24, 25, 34, 46, 21, 26, 24, 28, 30, 21, 25, 27, 23, 24, 26, 27, 30, 23, 28, 28, 45, 21, 21, 29, 21, 21, 45, 21, 24, 23, 22, 31, 48, 23, 28, 27, 24, 31, 27, 30, 23, 23, 27, 28, 27, 22, 22, 41, 51, 54, 24, 43, 45, 49, 21, 47, 22, 68, 25, 23, 22, 22, 69, 25, 22, 29, 23, 34, 23, 25, 22, 28, 26, 26, 41, 27, 28, 22, 24, 40, 21, 32, 56, 24, 34, 21, 42, 45, 38, 25, 22, 22, 22, 22, 53, 28, 21, 42, 21, 26, 22, 39, 46, 32, 28, 25, 39, 26, 22, 33, 63, 27, 30, 23]}],\n",
       "                        {\"template\": {\"data\": {\"bar\": [{\"error_x\": {\"color\": \"#2a3f5f\"}, \"error_y\": {\"color\": \"#2a3f5f\"}, \"marker\": {\"line\": {\"color\": \"#E5ECF6\", \"width\": 0.5}}, \"type\": \"bar\"}], \"barpolar\": [{\"marker\": {\"line\": {\"color\": \"#E5ECF6\", \"width\": 0.5}}, \"type\": \"barpolar\"}], \"carpet\": [{\"aaxis\": {\"endlinecolor\": \"#2a3f5f\", \"gridcolor\": \"white\", \"linecolor\": \"white\", \"minorgridcolor\": \"white\", \"startlinecolor\": \"#2a3f5f\"}, \"baxis\": {\"endlinecolor\": \"#2a3f5f\", \"gridcolor\": \"white\", \"linecolor\": \"white\", \"minorgridcolor\": \"white\", \"startlinecolor\": \"#2a3f5f\"}, \"type\": \"carpet\"}], \"choropleth\": [{\"colorbar\": {\"outlinewidth\": 0, \"ticks\": \"\"}, \"type\": \"choropleth\"}], \"contour\": [{\"colorbar\": {\"outlinewidth\": 0, \"ticks\": \"\"}, \"colorscale\": [[0.0, \"#0d0887\"], [0.1111111111111111, \"#46039f\"], [0.2222222222222222, \"#7201a8\"], [0.3333333333333333, \"#9c179e\"], [0.4444444444444444, \"#bd3786\"], [0.5555555555555556, \"#d8576b\"], [0.6666666666666666, \"#ed7953\"], [0.7777777777777778, \"#fb9f3a\"], [0.8888888888888888, \"#fdca26\"], [1.0, \"#f0f921\"]], \"type\": \"contour\"}], \"contourcarpet\": [{\"colorbar\": {\"outlinewidth\": 0, \"ticks\": \"\"}, \"type\": \"contourcarpet\"}], \"heatmap\": [{\"colorbar\": {\"outlinewidth\": 0, \"ticks\": \"\"}, \"colorscale\": [[0.0, \"#0d0887\"], [0.1111111111111111, \"#46039f\"], [0.2222222222222222, \"#7201a8\"], [0.3333333333333333, \"#9c179e\"], [0.4444444444444444, \"#bd3786\"], [0.5555555555555556, \"#d8576b\"], [0.6666666666666666, \"#ed7953\"], [0.7777777777777778, \"#fb9f3a\"], [0.8888888888888888, \"#fdca26\"], [1.0, \"#f0f921\"]], \"type\": \"heatmap\"}], \"heatmapgl\": [{\"colorbar\": {\"outlinewidth\": 0, \"ticks\": \"\"}, \"colorscale\": [[0.0, \"#0d0887\"], [0.1111111111111111, \"#46039f\"], [0.2222222222222222, \"#7201a8\"], [0.3333333333333333, \"#9c179e\"], [0.4444444444444444, \"#bd3786\"], [0.5555555555555556, \"#d8576b\"], [0.6666666666666666, \"#ed7953\"], [0.7777777777777778, \"#fb9f3a\"], [0.8888888888888888, \"#fdca26\"], [1.0, \"#f0f921\"]], \"type\": \"heatmapgl\"}], \"histogram\": [{\"marker\": {\"colorbar\": {\"outlinewidth\": 0, \"ticks\": \"\"}}, \"type\": \"histogram\"}], \"histogram2d\": [{\"colorbar\": {\"outlinewidth\": 0, \"ticks\": \"\"}, \"colorscale\": [[0.0, \"#0d0887\"], [0.1111111111111111, \"#46039f\"], [0.2222222222222222, \"#7201a8\"], [0.3333333333333333, \"#9c179e\"], [0.4444444444444444, \"#bd3786\"], [0.5555555555555556, \"#d8576b\"], [0.6666666666666666, \"#ed7953\"], [0.7777777777777778, \"#fb9f3a\"], [0.8888888888888888, \"#fdca26\"], [1.0, \"#f0f921\"]], \"type\": \"histogram2d\"}], \"histogram2dcontour\": [{\"colorbar\": {\"outlinewidth\": 0, \"ticks\": \"\"}, \"colorscale\": [[0.0, \"#0d0887\"], [0.1111111111111111, \"#46039f\"], [0.2222222222222222, \"#7201a8\"], [0.3333333333333333, \"#9c179e\"], [0.4444444444444444, \"#bd3786\"], [0.5555555555555556, \"#d8576b\"], [0.6666666666666666, \"#ed7953\"], [0.7777777777777778, \"#fb9f3a\"], [0.8888888888888888, \"#fdca26\"], [1.0, \"#f0f921\"]], \"type\": \"histogram2dcontour\"}], \"mesh3d\": [{\"colorbar\": {\"outlinewidth\": 0, \"ticks\": \"\"}, \"type\": \"mesh3d\"}], \"parcoords\": [{\"line\": {\"colorbar\": {\"outlinewidth\": 0, \"ticks\": \"\"}}, \"type\": \"parcoords\"}], \"pie\": [{\"automargin\": true, \"type\": \"pie\"}], \"scatter\": [{\"marker\": {\"colorbar\": {\"outlinewidth\": 0, \"ticks\": \"\"}}, \"type\": \"scatter\"}], \"scatter3d\": [{\"line\": {\"colorbar\": {\"outlinewidth\": 0, \"ticks\": \"\"}}, \"marker\": {\"colorbar\": {\"outlinewidth\": 0, \"ticks\": \"\"}}, \"type\": \"scatter3d\"}], \"scattercarpet\": [{\"marker\": {\"colorbar\": {\"outlinewidth\": 0, \"ticks\": \"\"}}, \"type\": \"scattercarpet\"}], \"scattergeo\": [{\"marker\": {\"colorbar\": {\"outlinewidth\": 0, \"ticks\": \"\"}}, \"type\": \"scattergeo\"}], \"scattergl\": [{\"marker\": {\"colorbar\": {\"outlinewidth\": 0, \"ticks\": \"\"}}, \"type\": \"scattergl\"}], \"scattermapbox\": [{\"marker\": {\"colorbar\": {\"outlinewidth\": 0, \"ticks\": \"\"}}, \"type\": \"scattermapbox\"}], \"scatterpolar\": [{\"marker\": {\"colorbar\": {\"outlinewidth\": 0, \"ticks\": \"\"}}, \"type\": \"scatterpolar\"}], \"scatterpolargl\": [{\"marker\": {\"colorbar\": {\"outlinewidth\": 0, \"ticks\": \"\"}}, \"type\": \"scatterpolargl\"}], \"scatterternary\": [{\"marker\": {\"colorbar\": {\"outlinewidth\": 0, \"ticks\": \"\"}}, \"type\": \"scatterternary\"}], \"surface\": [{\"colorbar\": {\"outlinewidth\": 0, \"ticks\": \"\"}, \"colorscale\": [[0.0, \"#0d0887\"], [0.1111111111111111, \"#46039f\"], [0.2222222222222222, \"#7201a8\"], [0.3333333333333333, \"#9c179e\"], [0.4444444444444444, \"#bd3786\"], [0.5555555555555556, \"#d8576b\"], [0.6666666666666666, \"#ed7953\"], [0.7777777777777778, \"#fb9f3a\"], [0.8888888888888888, \"#fdca26\"], [1.0, \"#f0f921\"]], \"type\": \"surface\"}], \"table\": [{\"cells\": {\"fill\": {\"color\": \"#EBF0F8\"}, \"line\": {\"color\": \"white\"}}, \"header\": {\"fill\": {\"color\": \"#C8D4E3\"}, \"line\": {\"color\": \"white\"}}, \"type\": \"table\"}]}, \"layout\": {\"annotationdefaults\": {\"arrowcolor\": \"#2a3f5f\", \"arrowhead\": 0, \"arrowwidth\": 1}, \"coloraxis\": {\"colorbar\": {\"outlinewidth\": 0, \"ticks\": \"\"}}, \"colorscale\": {\"diverging\": [[0, \"#8e0152\"], [0.1, \"#c51b7d\"], [0.2, \"#de77ae\"], [0.3, \"#f1b6da\"], [0.4, \"#fde0ef\"], [0.5, \"#f7f7f7\"], [0.6, \"#e6f5d0\"], [0.7, \"#b8e186\"], [0.8, \"#7fbc41\"], [0.9, \"#4d9221\"], [1, \"#276419\"]], \"sequential\": [[0.0, \"#0d0887\"], [0.1111111111111111, \"#46039f\"], [0.2222222222222222, \"#7201a8\"], [0.3333333333333333, \"#9c179e\"], [0.4444444444444444, \"#bd3786\"], [0.5555555555555556, \"#d8576b\"], [0.6666666666666666, \"#ed7953\"], [0.7777777777777778, \"#fb9f3a\"], [0.8888888888888888, \"#fdca26\"], [1.0, \"#f0f921\"]], \"sequentialminus\": [[0.0, \"#0d0887\"], [0.1111111111111111, \"#46039f\"], [0.2222222222222222, \"#7201a8\"], [0.3333333333333333, \"#9c179e\"], [0.4444444444444444, \"#bd3786\"], [0.5555555555555556, \"#d8576b\"], [0.6666666666666666, \"#ed7953\"], [0.7777777777777778, \"#fb9f3a\"], [0.8888888888888888, \"#fdca26\"], [1.0, \"#f0f921\"]]}, \"colorway\": [\"#636efa\", \"#EF553B\", \"#00cc96\", \"#ab63fa\", \"#FFA15A\", \"#19d3f3\", \"#FF6692\", \"#B6E880\", \"#FF97FF\", \"#FECB52\"], \"font\": {\"color\": \"#2a3f5f\"}, \"geo\": {\"bgcolor\": \"white\", \"lakecolor\": \"white\", \"landcolor\": \"#E5ECF6\", \"showlakes\": true, \"showland\": true, \"subunitcolor\": \"white\"}, \"hoverlabel\": {\"align\": \"left\"}, \"hovermode\": \"closest\", \"mapbox\": {\"style\": \"light\"}, \"paper_bgcolor\": \"white\", \"plot_bgcolor\": \"#E5ECF6\", \"polar\": {\"angularaxis\": {\"gridcolor\": \"white\", \"linecolor\": \"white\", \"ticks\": \"\"}, \"bgcolor\": \"#E5ECF6\", \"radialaxis\": {\"gridcolor\": \"white\", \"linecolor\": \"white\", \"ticks\": \"\"}}, \"scene\": {\"xaxis\": {\"backgroundcolor\": \"#E5ECF6\", \"gridcolor\": \"white\", \"gridwidth\": 2, \"linecolor\": \"white\", \"showbackground\": true, \"ticks\": \"\", \"zerolinecolor\": \"white\"}, \"yaxis\": {\"backgroundcolor\": \"#E5ECF6\", \"gridcolor\": \"white\", \"gridwidth\": 2, \"linecolor\": \"white\", \"showbackground\": true, \"ticks\": \"\", \"zerolinecolor\": \"white\"}, \"zaxis\": {\"backgroundcolor\": \"#E5ECF6\", \"gridcolor\": \"white\", \"gridwidth\": 2, \"linecolor\": \"white\", \"showbackground\": true, \"ticks\": \"\", \"zerolinecolor\": \"white\"}}, \"shapedefaults\": {\"line\": {\"color\": \"#2a3f5f\"}}, \"ternary\": {\"aaxis\": {\"gridcolor\": \"white\", \"linecolor\": \"white\", \"ticks\": \"\"}, \"baxis\": {\"gridcolor\": \"white\", \"linecolor\": \"white\", \"ticks\": \"\"}, \"bgcolor\": \"#E5ECF6\", \"caxis\": {\"gridcolor\": \"white\", \"linecolor\": \"white\", \"ticks\": \"\"}}, \"title\": {\"x\": 0.05}, \"xaxis\": {\"automargin\": true, \"gridcolor\": \"white\", \"linecolor\": \"white\", \"ticks\": \"\", \"title\": {\"standoff\": 15}, \"zerolinecolor\": \"white\", \"zerolinewidth\": 2}, \"yaxis\": {\"automargin\": true, \"gridcolor\": \"white\", \"linecolor\": \"white\", \"ticks\": \"\", \"title\": {\"standoff\": 15}, \"zerolinecolor\": \"white\", \"zerolinewidth\": 2}}}, \"title\": {\"text\": \"Pregnancies vs Age\"}, \"xaxis\": {\"title\": {\"text\": \"Pregnancies\"}, \"zeroline\": false}, \"yaxis\": {\"title\": {\"text\": \"Age\"}, \"zeroline\": false}},\n",
       "                        {\"responsive\": true}\n",
       "                    ).then(function(){\n",
       "                            \n",
       "var gd = document.getElementById('c95b3d3c-b61a-4997-8b16-dbeaef858423');\n",
       "var x = new MutationObserver(function (mutations, observer) {{\n",
       "        var display = window.getComputedStyle(gd).display;\n",
       "        if (!display || display === 'none') {{\n",
       "            console.log([gd, 'removed!']);\n",
       "            Plotly.purge(gd);\n",
       "            observer.disconnect();\n",
       "        }}\n",
       "}});\n",
       "\n",
       "// Listen for the removal of the full notebook cells\n",
       "var notebookContainer = gd.closest('#notebook-container');\n",
       "if (notebookContainer) {{\n",
       "    x.observe(notebookContainer, {childList: true});\n",
       "}}\n",
       "\n",
       "// Listen for the clearing of the current output cell\n",
       "var outputEl = gd.closest('.output');\n",
       "if (outputEl) {{\n",
       "    x.observe(outputEl, {childList: true});\n",
       "}}\n",
       "\n",
       "                        })\n",
       "                };\n",
       "                });\n",
       "            </script>\n",
       "        </div>"
      ]
     },
     "metadata": {},
     "output_type": "display_data"
    }
   ],
   "source": [
    "plot_feat1_feat2('Pregnancies', 'Age')"
   ]
  },
  {
   "cell_type": "code",
   "execution_count": 37,
   "metadata": {},
   "outputs": [
    {
     "data": {
      "application/vnd.plotly.v1+json": {
       "config": {
        "linkText": "Export to plot.ly",
        "plotlyServerURL": "https://plot.ly",
        "showLink": false
       },
       "data": [
        {
         "marker": {
          "color": "lightskyblue",
          "line": {
           "width": 1
          }
         },
         "mode": "markers",
         "name": "diabetic",
         "opacity": 0.8,
         "type": "scatter",
         "x": [
          148,
          183,
          137,
          78,
          197,
          125,
          168,
          189,
          166,
          100,
          118,
          107,
          115,
          196,
          119,
          143,
          125,
          147,
          158,
          102,
          90,
          111,
          171,
          180,
          103,
          176,
          187,
          133,
          114,
          109,
          100,
          126,
          131,
          137,
          136,
          134,
          122,
          163,
          95,
          171,
          155,
          160,
          146,
          124,
          162,
          113,
          88,
          117,
          105,
          173,
          122,
          170,
          108,
          156,
          188,
          152,
          163,
          131,
          104,
          102,
          134,
          179,
          129,
          130,
          194,
          181,
          128,
          109,
          139,
          159,
          135,
          158,
          107,
          109,
          148,
          196,
          162,
          184,
          140,
          112,
          151,
          109,
          85,
          112,
          177,
          158,
          162,
          142,
          134,
          171,
          181,
          179,
          164,
          139,
          119,
          184,
          92,
          113,
          155,
          141,
          123,
          138,
          146,
          101,
          106,
          146,
          161,
          108,
          119,
          107,
          128,
          128,
          146,
          100,
          167,
          144,
          115,
          161,
          128,
          124,
          155,
          109,
          182,
          194,
          112,
          124,
          152,
          122,
          102,
          180,
          115,
          152,
          178,
          140,
          165,
          125,
          129,
          196,
          189,
          146,
          124,
          133,
          173,
          140,
          156,
          116,
          105,
          144,
          166,
          158,
          131,
          193,
          95,
          136,
          168,
          115,
          197,
          172,
          138,
          173,
          144,
          129,
          151,
          184,
          181,
          95,
          141,
          189,
          108,
          117,
          180,
          104,
          134,
          175,
          148,
          120,
          105,
          158,
          145,
          135,
          125,
          195,
          140,
          180,
          84,
          163,
          145,
          130,
          132,
          129,
          100,
          128,
          90,
          186,
          187,
          125,
          198,
          121,
          118,
          197,
          151,
          124,
          143,
          176,
          111,
          132,
          188,
          173,
          150,
          183,
          181,
          174,
          168,
          138,
          112,
          119,
          114,
          104,
          97,
          147,
          167,
          179,
          136,
          155,
          80,
          199,
          167,
          145,
          115,
          145,
          111,
          195,
          156,
          121,
          162,
          125,
          144,
          158,
          129,
          142,
          169,
          125,
          168,
          115,
          164,
          93,
          129,
          187,
          173,
          97,
          149,
          130,
          120,
          174,
          102,
          120,
          140,
          147,
          187,
          162,
          136,
          181,
          154,
          128,
          123,
          190,
          170,
          126
         ],
         "y": [
          169.5,
          169.5,
          168,
          88,
          543,
          169.5,
          169.5,
          846,
          175,
          169.5,
          230,
          169.5,
          96,
          169.5,
          169.5,
          146,
          115,
          169.5,
          245,
          169.5,
          169.5,
          207,
          240,
          169.5,
          169.5,
          300,
          304,
          169.5,
          169.5,
          169.5,
          90,
          169.5,
          169.5,
          169.5,
          110,
          169.5,
          220,
          169.5,
          36,
          135,
          495,
          175,
          169.5,
          169.5,
          100,
          169.5,
          99,
          145,
          169.5,
          168,
          169.5,
          225,
          169.5,
          155,
          169.5,
          169.5,
          114,
          169.5,
          156,
          169.5,
          130,
          130,
          130,
          169.5,
          169.5,
          495,
          58,
          114,
          160,
          169.5,
          169.5,
          210,
          48,
          99,
          318,
          280,
          169.5,
          169.5,
          130,
          175,
          271,
          129,
          169.5,
          169.5,
          478,
          169.5,
          169.5,
          169.5,
          370,
          169.5,
          192,
          169.5,
          169.5,
          169.5,
          176,
          169.5,
          258,
          169.5,
          150,
          169.5,
          169.5,
          169.5,
          169.5,
          169.5,
          169.5,
          169.5,
          169.5,
          169.5,
          220,
          74,
          182,
          194,
          360,
          184,
          169.5,
          135,
          169.5,
          132,
          180,
          205,
          96,
          169.5,
          169.5,
          169.5,
          169.5,
          169.5,
          29,
          156,
          120,
          169.5,
          169.5,
          171,
          169.5,
          169.5,
          169.5,
          167,
          169.5,
          249,
          325,
          169.5,
          169.5,
          140,
          465,
          325,
          169.5,
          169.5,
          169.5,
          285,
          169.5,
          169.5,
          169.5,
          169.5,
          169.5,
          88,
          169.5,
          169.5,
          169.5,
          579,
          167,
          474,
          169.5,
          115,
          210,
          277,
          180,
          180,
          169.5,
          169.5,
          169.5,
          169.5,
          14,
          64,
          169.5,
          169.5,
          237,
          169.5,
          191,
          328,
          169.5,
          250,
          122,
          145,
          169.5,
          90,
          169.5,
          105,
          165,
          169.5,
          169.5,
          155,
          215,
          190,
          169.5,
          225,
          207,
          169.5,
          274,
          165,
          169.5,
          169.5,
          169.5,
          600,
          169.5,
          156,
          169.5,
          169.5,
          185,
          169.5,
          126,
          169.5,
          293,
          194,
          321,
          144,
          169.5,
          169.5,
          169.5,
          169.5,
          91,
          169.5,
          144,
          159,
          130,
          540,
          70,
          169.5,
          231,
          130,
          169.5,
          169.5,
          169.5,
          169.5,
          169.5,
          169.5,
          169.5,
          169.5,
          180,
          169.5,
          125,
          480,
          125,
          169.5,
          169.5,
          169.5,
          169.5,
          160,
          169.5,
          392,
          185,
          169.5,
          127,
          79,
          169.5,
          120,
          169.5,
          150,
          169.5,
          169.5,
          200,
          169.5,
          169.5,
          510,
          169.5,
          110,
          169.5,
          169.5,
          169.5,
          169.5
         ]
        },
        {
         "marker": {
          "color": "indigo",
          "line": {
           "width": 1
          }
         },
         "mode": "markers",
         "name": "healthy",
         "opacity": 0.8,
         "type": "scatter",
         "x": [
          85,
          89,
          116,
          115,
          110,
          139,
          103,
          126,
          99,
          97,
          145,
          117,
          109,
          88,
          92,
          122,
          103,
          138,
          180,
          133,
          106,
          159,
          146,
          71,
          105,
          103,
          101,
          88,
          150,
          73,
          100,
          146,
          105,
          84,
          44,
          141,
          99,
          109,
          95,
          146,
          139,
          129,
          79,
          107,
          62,
          95,
          112,
          113,
          74,
          83,
          101,
          110,
          106,
          100,
          107,
          80,
          123,
          81,
          142,
          144,
          92,
          71,
          93,
          151,
          125,
          81,
          85,
          126,
          96,
          144,
          83,
          89,
          76,
          78,
          97,
          99,
          111,
          107,
          132,
          120,
          118,
          84,
          96,
          125,
          100,
          93,
          129,
          105,
          128,
          106,
          108,
          154,
          102,
          57,
          106,
          147,
          90,
          136,
          114,
          153,
          99,
          109,
          88,
          151,
          102,
          114,
          100,
          148,
          120,
          110,
          111,
          87,
          79,
          75,
          85,
          143,
          87,
          119,
          107,
          73,
          141,
          111,
          123,
          85,
          105,
          113,
          138,
          108,
          99,
          103,
          111,
          96,
          81,
          147,
          179,
          125,
          119,
          142,
          100,
          87,
          101,
          197,
          117,
          79,
          122,
          74,
          104,
          91,
          91,
          146,
          122,
          165,
          124,
          111,
          106,
          129,
          90,
          86,
          111,
          114,
          193,
          191,
          95,
          142,
          96,
          128,
          102,
          108,
          122,
          71,
          106,
          100,
          104,
          114,
          108,
          129,
          133,
          136,
          155,
          96,
          108,
          78,
          161,
          151,
          126,
          112,
          77,
          150,
          120,
          137,
          80,
          106,
          113,
          112,
          99,
          115,
          129,
          112,
          157,
          179,
          105,
          118,
          87,
          106,
          95,
          165,
          117,
          130,
          95,
          107,
          122,
          95,
          126,
          139,
          116,
          99,
          92,
          137,
          61,
          90,
          90,
          88,
          158,
          103,
          147,
          99,
          101,
          81,
          118,
          84,
          105,
          122,
          98,
          87,
          93,
          107,
          105,
          109,
          90,
          125,
          119,
          100,
          100,
          131,
          116,
          127,
          96,
          82,
          137,
          72,
          123,
          101,
          102,
          112,
          143,
          143,
          97,
          83,
          119,
          94,
          102,
          115,
          94,
          135,
          99,
          89,
          80,
          139,
          90,
          140,
          147,
          97,
          107,
          83,
          117,
          100,
          95,
          120,
          82,
          91,
          119,
          100,
          135,
          86,
          134,
          120,
          71,
          74,
          88,
          115,
          124,
          74,
          97,
          154,
          144,
          137,
          119,
          136,
          114,
          137,
          114,
          126,
          132,
          123,
          85,
          84,
          139,
          173,
          99,
          194,
          83,
          89,
          99,
          80,
          166,
          110,
          81,
          154,
          117,
          84,
          94,
          96,
          75,
          130,
          84,
          120,
          139,
          91,
          91,
          99,
          125,
          76,
          129,
          68,
          124,
          114,
          125,
          87,
          97,
          116,
          117,
          111,
          122,
          107,
          86,
          91,
          77,
          105,
          57,
          127,
          84,
          88,
          131,
          164,
          189,
          116,
          84,
          114,
          88,
          84,
          124,
          97,
          110,
          103,
          85,
          87,
          99,
          91,
          95,
          99,
          92,
          154,
          78,
          130,
          111,
          98,
          143,
          119,
          108,
          133,
          109,
          121,
          100,
          93,
          103,
          73,
          112,
          82,
          123,
          67,
          89,
          109,
          108,
          96,
          124,
          124,
          92,
          152,
          111,
          106,
          105,
          106,
          117,
          68,
          112,
          92,
          183,
          94,
          108,
          90,
          125,
          132,
          128,
          94,
          102,
          111,
          128,
          92,
          104,
          94,
          100,
          102,
          128,
          90,
          103,
          157,
          107,
          91,
          117,
          123,
          120,
          106,
          101,
          120,
          127,
          162,
          112,
          98,
          154,
          165,
          99,
          68,
          123,
          91,
          93,
          101,
          56,
          95,
          136,
          129,
          130,
          107,
          140,
          107,
          121,
          90,
          99,
          127,
          118,
          122,
          129,
          110,
          80,
          127,
          158,
          126,
          134,
          102,
          94,
          108,
          83,
          114,
          117,
          111,
          112,
          116,
          141,
          175,
          92,
          106,
          105,
          95,
          126,
          65,
          99,
          102,
          109,
          153,
          100,
          81,
          121,
          108,
          137,
          106,
          88,
          89,
          101,
          122,
          121,
          93
         ],
         "y": [
          102.5,
          94,
          102.5,
          102.5,
          102.5,
          102.5,
          83,
          235,
          102.5,
          140,
          110,
          102.5,
          102.5,
          54,
          102.5,
          102.5,
          192,
          102.5,
          70,
          102.5,
          102.5,
          102.5,
          102.5,
          102.5,
          102.5,
          82,
          36,
          23,
          342,
          102.5,
          110,
          102.5,
          142,
          102.5,
          102.5,
          128,
          102.5,
          102.5,
          38,
          100,
          140,
          270,
          102.5,
          102.5,
          102.5,
          102.5,
          102.5,
          102.5,
          102.5,
          71,
          102.5,
          125,
          102.5,
          71,
          102.5,
          102.5,
          176,
          48,
          64,
          228,
          102.5,
          76,
          64,
          102.5,
          102.5,
          40,
          102.5,
          152,
          102.5,
          140,
          18,
          37,
          102.5,
          102.5,
          102.5,
          51,
          102.5,
          100,
          102.5,
          135,
          94,
          102.5,
          49,
          140,
          50,
          92,
          102.5,
          325,
          102.5,
          102.5,
          63,
          284,
          102.5,
          102.5,
          119,
          102.5,
          102.5,
          204,
          102.5,
          485,
          94,
          135,
          53,
          102.5,
          105,
          285,
          102.5,
          102.5,
          102.5,
          102.5,
          78,
          102.5,
          48,
          55,
          102.5,
          102.5,
          102.5,
          92,
          23,
          102.5,
          102.5,
          102.5,
          94,
          102.5,
          102.5,
          102.5,
          102.5,
          102.5,
          44,
          190,
          102.5,
          87,
          102.5,
          102.5,
          102.5,
          120,
          102.5,
          190,
          56,
          32,
          102.5,
          744,
          53,
          37,
          102.5,
          45,
          102.5,
          102.5,
          88,
          194,
          102.5,
          680,
          402,
          102.5,
          102.5,
          102.5,
          55,
          102.5,
          102.5,
          102.5,
          375,
          130,
          102.5,
          102.5,
          67,
          102.5,
          102.5,
          56,
          102.5,
          45,
          102.5,
          57,
          116,
          102.5,
          278,
          122,
          155,
          135,
          545,
          49,
          75,
          40,
          102.5,
          120,
          215,
          102.5,
          42,
          102.5,
          105,
          148,
          102.5,
          148,
          85,
          94,
          64,
          140,
          231,
          102.5,
          168,
          102.5,
          68,
          102.5,
          52,
          102.5,
          58,
          255,
          102.5,
          105,
          73,
          102.5,
          102.5,
          102.5,
          108,
          83,
          102.5,
          74,
          102.5,
          102.5,
          102.5,
          43,
          102.5,
          54,
          102.5,
          102.5,
          293,
          83,
          102.5,
          66,
          89,
          66,
          94,
          158,
          84,
          75,
          72,
          82,
          102.5,
          182,
          59,
          110,
          50,
          81,
          196,
          415,
          87,
          275,
          115,
          102.5,
          102.5,
          102.5,
          165,
          102.5,
          102.5,
          176,
          310,
          61,
          102.5,
          102.5,
          170,
          76,
          78,
          102.5,
          102.5,
          145,
          102.5,
          85,
          60,
          102.5,
          102.5,
          102.5,
          102.5,
          102.5,
          102.5,
          50,
          120,
          70,
          92,
          63,
          95,
          210,
          102.5,
          105,
          102.5,
          71,
          60,
          56,
          102.5,
          49,
          102.5,
          102.5,
          105,
          36,
          100,
          140,
          102.5,
          102.5,
          102.5,
          102.5,
          102.5,
          102.5,
          110,
          75,
          102.5,
          102.5,
          49,
          125,
          480,
          265,
          102.5,
          102.5,
          66,
          102.5,
          102.5,
          102.5,
          102.5,
          102.5,
          76,
          193,
          71,
          102.5,
          79,
          102.5,
          102.5,
          170,
          76,
          102.5,
          210,
          102.5,
          102.5,
          86,
          102.5,
          102.5,
          326,
          66,
          130,
          102.5,
          102.5,
          102.5,
          82,
          105,
          188,
          102.5,
          106,
          102.5,
          65,
          102.5,
          56,
          102.5,
          102.5,
          210,
          56,
          76,
          166,
          67,
          102.5,
          102.5,
          106,
          102.5,
          44,
          115,
          215,
          102.5,
          102.5,
          102.5,
          102.5,
          77,
          54,
          102.5,
          88,
          18,
          126,
          126,
          102.5,
          102.5,
          44,
          120,
          330,
          63,
          130,
          102.5,
          102.5,
          102.5,
          102.5,
          102.5,
          102.5,
          102.5,
          140,
          115,
          230,
          102.5,
          25,
          120,
          102.5,
          102.5,
          102.5,
          102.5,
          41,
          272,
          182,
          158,
          102.5,
          102.5,
          102.5,
          15,
          160,
          102.5,
          102.5,
          115,
          102.5,
          54,
          102.5,
          102.5,
          102.5,
          102.5,
          90,
          102.5,
          183,
          102.5,
          102.5,
          66,
          46,
          105,
          102.5,
          102.5,
          152,
          440,
          102.5,
          100,
          106,
          77,
          102.5,
          135,
          90,
          200,
          102.5,
          102.5,
          132,
          190,
          100,
          168,
          102.5,
          49,
          240,
          102.5,
          102.5,
          265,
          45,
          105,
          102.5,
          205,
          102.5,
          102.5,
          180,
          102.5,
          95,
          102.5,
          102.5,
          155,
          102.5,
          200,
          102.5,
          100,
          102.5,
          335,
          387,
          22,
          291,
          102.5,
          102.5,
          178,
          102.5,
          200,
          105,
          102.5,
          102.5,
          180,
          102.5,
          102.5,
          102.5,
          165,
          102.5,
          102.5,
          120,
          102.5,
          160,
          94,
          116,
          140,
          105,
          57,
          74,
          102.5,
          102.5,
          102.5,
          16,
          102.5,
          180,
          102.5,
          112,
          102.5
         ]
        }
       ],
       "layout": {
        "template": {
         "data": {
          "bar": [
           {
            "error_x": {
             "color": "#2a3f5f"
            },
            "error_y": {
             "color": "#2a3f5f"
            },
            "marker": {
             "line": {
              "color": "#E5ECF6",
              "width": 0.5
             }
            },
            "type": "bar"
           }
          ],
          "barpolar": [
           {
            "marker": {
             "line": {
              "color": "#E5ECF6",
              "width": 0.5
             }
            },
            "type": "barpolar"
           }
          ],
          "carpet": [
           {
            "aaxis": {
             "endlinecolor": "#2a3f5f",
             "gridcolor": "white",
             "linecolor": "white",
             "minorgridcolor": "white",
             "startlinecolor": "#2a3f5f"
            },
            "baxis": {
             "endlinecolor": "#2a3f5f",
             "gridcolor": "white",
             "linecolor": "white",
             "minorgridcolor": "white",
             "startlinecolor": "#2a3f5f"
            },
            "type": "carpet"
           }
          ],
          "choropleth": [
           {
            "colorbar": {
             "outlinewidth": 0,
             "ticks": ""
            },
            "type": "choropleth"
           }
          ],
          "contour": [
           {
            "colorbar": {
             "outlinewidth": 0,
             "ticks": ""
            },
            "colorscale": [
             [
              0,
              "#0d0887"
             ],
             [
              0.1111111111111111,
              "#46039f"
             ],
             [
              0.2222222222222222,
              "#7201a8"
             ],
             [
              0.3333333333333333,
              "#9c179e"
             ],
             [
              0.4444444444444444,
              "#bd3786"
             ],
             [
              0.5555555555555556,
              "#d8576b"
             ],
             [
              0.6666666666666666,
              "#ed7953"
             ],
             [
              0.7777777777777778,
              "#fb9f3a"
             ],
             [
              0.8888888888888888,
              "#fdca26"
             ],
             [
              1,
              "#f0f921"
             ]
            ],
            "type": "contour"
           }
          ],
          "contourcarpet": [
           {
            "colorbar": {
             "outlinewidth": 0,
             "ticks": ""
            },
            "type": "contourcarpet"
           }
          ],
          "heatmap": [
           {
            "colorbar": {
             "outlinewidth": 0,
             "ticks": ""
            },
            "colorscale": [
             [
              0,
              "#0d0887"
             ],
             [
              0.1111111111111111,
              "#46039f"
             ],
             [
              0.2222222222222222,
              "#7201a8"
             ],
             [
              0.3333333333333333,
              "#9c179e"
             ],
             [
              0.4444444444444444,
              "#bd3786"
             ],
             [
              0.5555555555555556,
              "#d8576b"
             ],
             [
              0.6666666666666666,
              "#ed7953"
             ],
             [
              0.7777777777777778,
              "#fb9f3a"
             ],
             [
              0.8888888888888888,
              "#fdca26"
             ],
             [
              1,
              "#f0f921"
             ]
            ],
            "type": "heatmap"
           }
          ],
          "heatmapgl": [
           {
            "colorbar": {
             "outlinewidth": 0,
             "ticks": ""
            },
            "colorscale": [
             [
              0,
              "#0d0887"
             ],
             [
              0.1111111111111111,
              "#46039f"
             ],
             [
              0.2222222222222222,
              "#7201a8"
             ],
             [
              0.3333333333333333,
              "#9c179e"
             ],
             [
              0.4444444444444444,
              "#bd3786"
             ],
             [
              0.5555555555555556,
              "#d8576b"
             ],
             [
              0.6666666666666666,
              "#ed7953"
             ],
             [
              0.7777777777777778,
              "#fb9f3a"
             ],
             [
              0.8888888888888888,
              "#fdca26"
             ],
             [
              1,
              "#f0f921"
             ]
            ],
            "type": "heatmapgl"
           }
          ],
          "histogram": [
           {
            "marker": {
             "colorbar": {
              "outlinewidth": 0,
              "ticks": ""
             }
            },
            "type": "histogram"
           }
          ],
          "histogram2d": [
           {
            "colorbar": {
             "outlinewidth": 0,
             "ticks": ""
            },
            "colorscale": [
             [
              0,
              "#0d0887"
             ],
             [
              0.1111111111111111,
              "#46039f"
             ],
             [
              0.2222222222222222,
              "#7201a8"
             ],
             [
              0.3333333333333333,
              "#9c179e"
             ],
             [
              0.4444444444444444,
              "#bd3786"
             ],
             [
              0.5555555555555556,
              "#d8576b"
             ],
             [
              0.6666666666666666,
              "#ed7953"
             ],
             [
              0.7777777777777778,
              "#fb9f3a"
             ],
             [
              0.8888888888888888,
              "#fdca26"
             ],
             [
              1,
              "#f0f921"
             ]
            ],
            "type": "histogram2d"
           }
          ],
          "histogram2dcontour": [
           {
            "colorbar": {
             "outlinewidth": 0,
             "ticks": ""
            },
            "colorscale": [
             [
              0,
              "#0d0887"
             ],
             [
              0.1111111111111111,
              "#46039f"
             ],
             [
              0.2222222222222222,
              "#7201a8"
             ],
             [
              0.3333333333333333,
              "#9c179e"
             ],
             [
              0.4444444444444444,
              "#bd3786"
             ],
             [
              0.5555555555555556,
              "#d8576b"
             ],
             [
              0.6666666666666666,
              "#ed7953"
             ],
             [
              0.7777777777777778,
              "#fb9f3a"
             ],
             [
              0.8888888888888888,
              "#fdca26"
             ],
             [
              1,
              "#f0f921"
             ]
            ],
            "type": "histogram2dcontour"
           }
          ],
          "mesh3d": [
           {
            "colorbar": {
             "outlinewidth": 0,
             "ticks": ""
            },
            "type": "mesh3d"
           }
          ],
          "parcoords": [
           {
            "line": {
             "colorbar": {
              "outlinewidth": 0,
              "ticks": ""
             }
            },
            "type": "parcoords"
           }
          ],
          "pie": [
           {
            "automargin": true,
            "type": "pie"
           }
          ],
          "scatter": [
           {
            "marker": {
             "colorbar": {
              "outlinewidth": 0,
              "ticks": ""
             }
            },
            "type": "scatter"
           }
          ],
          "scatter3d": [
           {
            "line": {
             "colorbar": {
              "outlinewidth": 0,
              "ticks": ""
             }
            },
            "marker": {
             "colorbar": {
              "outlinewidth": 0,
              "ticks": ""
             }
            },
            "type": "scatter3d"
           }
          ],
          "scattercarpet": [
           {
            "marker": {
             "colorbar": {
              "outlinewidth": 0,
              "ticks": ""
             }
            },
            "type": "scattercarpet"
           }
          ],
          "scattergeo": [
           {
            "marker": {
             "colorbar": {
              "outlinewidth": 0,
              "ticks": ""
             }
            },
            "type": "scattergeo"
           }
          ],
          "scattergl": [
           {
            "marker": {
             "colorbar": {
              "outlinewidth": 0,
              "ticks": ""
             }
            },
            "type": "scattergl"
           }
          ],
          "scattermapbox": [
           {
            "marker": {
             "colorbar": {
              "outlinewidth": 0,
              "ticks": ""
             }
            },
            "type": "scattermapbox"
           }
          ],
          "scatterpolar": [
           {
            "marker": {
             "colorbar": {
              "outlinewidth": 0,
              "ticks": ""
             }
            },
            "type": "scatterpolar"
           }
          ],
          "scatterpolargl": [
           {
            "marker": {
             "colorbar": {
              "outlinewidth": 0,
              "ticks": ""
             }
            },
            "type": "scatterpolargl"
           }
          ],
          "scatterternary": [
           {
            "marker": {
             "colorbar": {
              "outlinewidth": 0,
              "ticks": ""
             }
            },
            "type": "scatterternary"
           }
          ],
          "surface": [
           {
            "colorbar": {
             "outlinewidth": 0,
             "ticks": ""
            },
            "colorscale": [
             [
              0,
              "#0d0887"
             ],
             [
              0.1111111111111111,
              "#46039f"
             ],
             [
              0.2222222222222222,
              "#7201a8"
             ],
             [
              0.3333333333333333,
              "#9c179e"
             ],
             [
              0.4444444444444444,
              "#bd3786"
             ],
             [
              0.5555555555555556,
              "#d8576b"
             ],
             [
              0.6666666666666666,
              "#ed7953"
             ],
             [
              0.7777777777777778,
              "#fb9f3a"
             ],
             [
              0.8888888888888888,
              "#fdca26"
             ],
             [
              1,
              "#f0f921"
             ]
            ],
            "type": "surface"
           }
          ],
          "table": [
           {
            "cells": {
             "fill": {
              "color": "#EBF0F8"
             },
             "line": {
              "color": "white"
             }
            },
            "header": {
             "fill": {
              "color": "#C8D4E3"
             },
             "line": {
              "color": "white"
             }
            },
            "type": "table"
           }
          ]
         },
         "layout": {
          "annotationdefaults": {
           "arrowcolor": "#2a3f5f",
           "arrowhead": 0,
           "arrowwidth": 1
          },
          "coloraxis": {
           "colorbar": {
            "outlinewidth": 0,
            "ticks": ""
           }
          },
          "colorscale": {
           "diverging": [
            [
             0,
             "#8e0152"
            ],
            [
             0.1,
             "#c51b7d"
            ],
            [
             0.2,
             "#de77ae"
            ],
            [
             0.3,
             "#f1b6da"
            ],
            [
             0.4,
             "#fde0ef"
            ],
            [
             0.5,
             "#f7f7f7"
            ],
            [
             0.6,
             "#e6f5d0"
            ],
            [
             0.7,
             "#b8e186"
            ],
            [
             0.8,
             "#7fbc41"
            ],
            [
             0.9,
             "#4d9221"
            ],
            [
             1,
             "#276419"
            ]
           ],
           "sequential": [
            [
             0,
             "#0d0887"
            ],
            [
             0.1111111111111111,
             "#46039f"
            ],
            [
             0.2222222222222222,
             "#7201a8"
            ],
            [
             0.3333333333333333,
             "#9c179e"
            ],
            [
             0.4444444444444444,
             "#bd3786"
            ],
            [
             0.5555555555555556,
             "#d8576b"
            ],
            [
             0.6666666666666666,
             "#ed7953"
            ],
            [
             0.7777777777777778,
             "#fb9f3a"
            ],
            [
             0.8888888888888888,
             "#fdca26"
            ],
            [
             1,
             "#f0f921"
            ]
           ],
           "sequentialminus": [
            [
             0,
             "#0d0887"
            ],
            [
             0.1111111111111111,
             "#46039f"
            ],
            [
             0.2222222222222222,
             "#7201a8"
            ],
            [
             0.3333333333333333,
             "#9c179e"
            ],
            [
             0.4444444444444444,
             "#bd3786"
            ],
            [
             0.5555555555555556,
             "#d8576b"
            ],
            [
             0.6666666666666666,
             "#ed7953"
            ],
            [
             0.7777777777777778,
             "#fb9f3a"
            ],
            [
             0.8888888888888888,
             "#fdca26"
            ],
            [
             1,
             "#f0f921"
            ]
           ]
          },
          "colorway": [
           "#636efa",
           "#EF553B",
           "#00cc96",
           "#ab63fa",
           "#FFA15A",
           "#19d3f3",
           "#FF6692",
           "#B6E880",
           "#FF97FF",
           "#FECB52"
          ],
          "font": {
           "color": "#2a3f5f"
          },
          "geo": {
           "bgcolor": "white",
           "lakecolor": "white",
           "landcolor": "#E5ECF6",
           "showlakes": true,
           "showland": true,
           "subunitcolor": "white"
          },
          "hoverlabel": {
           "align": "left"
          },
          "hovermode": "closest",
          "mapbox": {
           "style": "light"
          },
          "paper_bgcolor": "white",
          "plot_bgcolor": "#E5ECF6",
          "polar": {
           "angularaxis": {
            "gridcolor": "white",
            "linecolor": "white",
            "ticks": ""
           },
           "bgcolor": "#E5ECF6",
           "radialaxis": {
            "gridcolor": "white",
            "linecolor": "white",
            "ticks": ""
           }
          },
          "scene": {
           "xaxis": {
            "backgroundcolor": "#E5ECF6",
            "gridcolor": "white",
            "gridwidth": 2,
            "linecolor": "white",
            "showbackground": true,
            "ticks": "",
            "zerolinecolor": "white"
           },
           "yaxis": {
            "backgroundcolor": "#E5ECF6",
            "gridcolor": "white",
            "gridwidth": 2,
            "linecolor": "white",
            "showbackground": true,
            "ticks": "",
            "zerolinecolor": "white"
           },
           "zaxis": {
            "backgroundcolor": "#E5ECF6",
            "gridcolor": "white",
            "gridwidth": 2,
            "linecolor": "white",
            "showbackground": true,
            "ticks": "",
            "zerolinecolor": "white"
           }
          },
          "shapedefaults": {
           "line": {
            "color": "#2a3f5f"
           }
          },
          "ternary": {
           "aaxis": {
            "gridcolor": "white",
            "linecolor": "white",
            "ticks": ""
           },
           "baxis": {
            "gridcolor": "white",
            "linecolor": "white",
            "ticks": ""
           },
           "bgcolor": "#E5ECF6",
           "caxis": {
            "gridcolor": "white",
            "linecolor": "white",
            "ticks": ""
           }
          },
          "title": {
           "x": 0.05
          },
          "xaxis": {
           "automargin": true,
           "gridcolor": "white",
           "linecolor": "white",
           "ticks": "",
           "title": {
            "standoff": 15
           },
           "zerolinecolor": "white",
           "zerolinewidth": 2
          },
          "yaxis": {
           "automargin": true,
           "gridcolor": "white",
           "linecolor": "white",
           "ticks": "",
           "title": {
            "standoff": 15
           },
           "zerolinecolor": "white",
           "zerolinewidth": 2
          }
         }
        },
        "title": {
         "text": "Glucose vs Insulin"
        },
        "xaxis": {
         "title": {
          "text": "Glucose"
         },
         "zeroline": false
        },
        "yaxis": {
         "title": {
          "text": "Insulin"
         },
         "zeroline": false
        }
       }
      },
      "text/html": [
       "<div>\n",
       "        \n",
       "        \n",
       "            <div id=\"c3d62d97-8b9c-44d6-8d29-039ab1c1388a\" class=\"plotly-graph-div\" style=\"height:525px; width:100%;\"></div>\n",
       "            <script type=\"text/javascript\">\n",
       "                require([\"plotly\"], function(Plotly) {\n",
       "                    window.PLOTLYENV=window.PLOTLYENV || {};\n",
       "                    \n",
       "                if (document.getElementById(\"c3d62d97-8b9c-44d6-8d29-039ab1c1388a\")) {\n",
       "                    Plotly.newPlot(\n",
       "                        'c3d62d97-8b9c-44d6-8d29-039ab1c1388a',\n",
       "                        [{\"marker\": {\"color\": \"lightskyblue\", \"line\": {\"width\": 1}}, \"mode\": \"markers\", \"name\": \"diabetic\", \"opacity\": 0.8, \"type\": \"scatter\", \"x\": [148.0, 183.0, 137.0, 78.0, 197.0, 125.0, 168.0, 189.0, 166.0, 100.0, 118.0, 107.0, 115.0, 196.0, 119.0, 143.0, 125.0, 147.0, 158.0, 102.0, 90.0, 111.0, 171.0, 180.0, 103.0, 176.0, 187.0, 133.0, 114.0, 109.0, 100.0, 126.0, 131.0, 137.0, 136.0, 134.0, 122.0, 163.0, 95.0, 171.0, 155.0, 160.0, 146.0, 124.0, 162.0, 113.0, 88.0, 117.0, 105.0, 173.0, 122.0, 170.0, 108.0, 156.0, 188.0, 152.0, 163.0, 131.0, 104.0, 102.0, 134.0, 179.0, 129.0, 130.0, 194.0, 181.0, 128.0, 109.0, 139.0, 159.0, 135.0, 158.0, 107.0, 109.0, 148.0, 196.0, 162.0, 184.0, 140.0, 112.0, 151.0, 109.0, 85.0, 112.0, 177.0, 158.0, 162.0, 142.0, 134.0, 171.0, 181.0, 179.0, 164.0, 139.0, 119.0, 184.0, 92.0, 113.0, 155.0, 141.0, 123.0, 138.0, 146.0, 101.0, 106.0, 146.0, 161.0, 108.0, 119.0, 107.0, 128.0, 128.0, 146.0, 100.0, 167.0, 144.0, 115.0, 161.0, 128.0, 124.0, 155.0, 109.0, 182.0, 194.0, 112.0, 124.0, 152.0, 122.0, 102.0, 180.0, 115.0, 152.0, 178.0, 140.0, 165.0, 125.0, 129.0, 196.0, 189.0, 146.0, 124.0, 133.0, 173.0, 140.0, 156.0, 116.0, 105.0, 144.0, 166.0, 158.0, 131.0, 193.0, 95.0, 136.0, 168.0, 115.0, 197.0, 172.0, 138.0, 173.0, 144.0, 129.0, 151.0, 184.0, 181.0, 95.0, 141.0, 189.0, 108.0, 117.0, 180.0, 104.0, 134.0, 175.0, 148.0, 120.0, 105.0, 158.0, 145.0, 135.0, 125.0, 195.0, 140.0, 180.0, 84.0, 163.0, 145.0, 130.0, 132.0, 129.0, 100.0, 128.0, 90.0, 186.0, 187.0, 125.0, 198.0, 121.0, 118.0, 197.0, 151.0, 124.0, 143.0, 176.0, 111.0, 132.0, 188.0, 173.0, 150.0, 183.0, 181.0, 174.0, 168.0, 138.0, 112.0, 119.0, 114.0, 104.0, 97.0, 147.0, 167.0, 179.0, 136.0, 155.0, 80.0, 199.0, 167.0, 145.0, 115.0, 145.0, 111.0, 195.0, 156.0, 121.0, 162.0, 125.0, 144.0, 158.0, 129.0, 142.0, 169.0, 125.0, 168.0, 115.0, 164.0, 93.0, 129.0, 187.0, 173.0, 97.0, 149.0, 130.0, 120.0, 174.0, 102.0, 120.0, 140.0, 147.0, 187.0, 162.0, 136.0, 181.0, 154.0, 128.0, 123.0, 190.0, 170.0, 126.0], \"y\": [169.5, 169.5, 168.0, 88.0, 543.0, 169.5, 169.5, 846.0, 175.0, 169.5, 230.0, 169.5, 96.0, 169.5, 169.5, 146.0, 115.0, 169.5, 245.0, 169.5, 169.5, 207.0, 240.0, 169.5, 169.5, 300.0, 304.0, 169.5, 169.5, 169.5, 90.0, 169.5, 169.5, 169.5, 110.0, 169.5, 220.0, 169.5, 36.0, 135.0, 495.0, 175.0, 169.5, 169.5, 100.0, 169.5, 99.0, 145.0, 169.5, 168.0, 169.5, 225.0, 169.5, 155.0, 169.5, 169.5, 114.0, 169.5, 156.0, 169.5, 130.0, 130.0, 130.0, 169.5, 169.5, 495.0, 58.0, 114.0, 160.0, 169.5, 169.5, 210.0, 48.0, 99.0, 318.0, 280.0, 169.5, 169.5, 130.0, 175.0, 271.0, 129.0, 169.5, 169.5, 478.0, 169.5, 169.5, 169.5, 370.0, 169.5, 192.0, 169.5, 169.5, 169.5, 176.0, 169.5, 258.0, 169.5, 150.0, 169.5, 169.5, 169.5, 169.5, 169.5, 169.5, 169.5, 169.5, 169.5, 220.0, 74.0, 182.0, 194.0, 360.0, 184.0, 169.5, 135.0, 169.5, 132.0, 180.0, 205.0, 96.0, 169.5, 169.5, 169.5, 169.5, 169.5, 29.0, 156.0, 120.0, 169.5, 169.5, 171.0, 169.5, 169.5, 169.5, 167.0, 169.5, 249.0, 325.0, 169.5, 169.5, 140.0, 465.0, 325.0, 169.5, 169.5, 169.5, 285.0, 169.5, 169.5, 169.5, 169.5, 169.5, 88.0, 169.5, 169.5, 169.5, 579.0, 167.0, 474.0, 169.5, 115.0, 210.0, 277.0, 180.0, 180.0, 169.5, 169.5, 169.5, 169.5, 14.0, 64.0, 169.5, 169.5, 237.0, 169.5, 191.0, 328.0, 169.5, 250.0, 122.0, 145.0, 169.5, 90.0, 169.5, 105.0, 165.0, 169.5, 169.5, 155.0, 215.0, 190.0, 169.5, 225.0, 207.0, 169.5, 274.0, 165.0, 169.5, 169.5, 169.5, 600.0, 169.5, 156.0, 169.5, 169.5, 185.0, 169.5, 126.0, 169.5, 293.0, 194.0, 321.0, 144.0, 169.5, 169.5, 169.5, 169.5, 91.0, 169.5, 144.0, 159.0, 130.0, 540.0, 70.0, 169.5, 231.0, 130.0, 169.5, 169.5, 169.5, 169.5, 169.5, 169.5, 169.5, 169.5, 180.0, 169.5, 125.0, 480.0, 125.0, 169.5, 169.5, 169.5, 169.5, 160.0, 169.5, 392.0, 185.0, 169.5, 127.0, 79.0, 169.5, 120.0, 169.5, 150.0, 169.5, 169.5, 200.0, 169.5, 169.5, 510.0, 169.5, 110.0, 169.5, 169.5, 169.5, 169.5]}, {\"marker\": {\"color\": \"indigo\", \"line\": {\"width\": 1}}, \"mode\": \"markers\", \"name\": \"healthy\", \"opacity\": 0.8, \"type\": \"scatter\", \"x\": [85.0, 89.0, 116.0, 115.0, 110.0, 139.0, 103.0, 126.0, 99.0, 97.0, 145.0, 117.0, 109.0, 88.0, 92.0, 122.0, 103.0, 138.0, 180.0, 133.0, 106.0, 159.0, 146.0, 71.0, 105.0, 103.0, 101.0, 88.0, 150.0, 73.0, 100.0, 146.0, 105.0, 84.0, 44.0, 141.0, 99.0, 109.0, 95.0, 146.0, 139.0, 129.0, 79.0, 107.0, 62.0, 95.0, 112.0, 113.0, 74.0, 83.0, 101.0, 110.0, 106.0, 100.0, 107.0, 80.0, 123.0, 81.0, 142.0, 144.0, 92.0, 71.0, 93.0, 151.0, 125.0, 81.0, 85.0, 126.0, 96.0, 144.0, 83.0, 89.0, 76.0, 78.0, 97.0, 99.0, 111.0, 107.0, 132.0, 120.0, 118.0, 84.0, 96.0, 125.0, 100.0, 93.0, 129.0, 105.0, 128.0, 106.0, 108.0, 154.0, 102.0, 57.0, 106.0, 147.0, 90.0, 136.0, 114.0, 153.0, 99.0, 109.0, 88.0, 151.0, 102.0, 114.0, 100.0, 148.0, 120.0, 110.0, 111.0, 87.0, 79.0, 75.0, 85.0, 143.0, 87.0, 119.0, 107.0, 73.0, 141.0, 111.0, 123.0, 85.0, 105.0, 113.0, 138.0, 108.0, 99.0, 103.0, 111.0, 96.0, 81.0, 147.0, 179.0, 125.0, 119.0, 142.0, 100.0, 87.0, 101.0, 197.0, 117.0, 79.0, 122.0, 74.0, 104.0, 91.0, 91.0, 146.0, 122.0, 165.0, 124.0, 111.0, 106.0, 129.0, 90.0, 86.0, 111.0, 114.0, 193.0, 191.0, 95.0, 142.0, 96.0, 128.0, 102.0, 108.0, 122.0, 71.0, 106.0, 100.0, 104.0, 114.0, 108.0, 129.0, 133.0, 136.0, 155.0, 96.0, 108.0, 78.0, 161.0, 151.0, 126.0, 112.0, 77.0, 150.0, 120.0, 137.0, 80.0, 106.0, 113.0, 112.0, 99.0, 115.0, 129.0, 112.0, 157.0, 179.0, 105.0, 118.0, 87.0, 106.0, 95.0, 165.0, 117.0, 130.0, 95.0, 107.0, 122.0, 95.0, 126.0, 139.0, 116.0, 99.0, 92.0, 137.0, 61.0, 90.0, 90.0, 88.0, 158.0, 103.0, 147.0, 99.0, 101.0, 81.0, 118.0, 84.0, 105.0, 122.0, 98.0, 87.0, 93.0, 107.0, 105.0, 109.0, 90.0, 125.0, 119.0, 100.0, 100.0, 131.0, 116.0, 127.0, 96.0, 82.0, 137.0, 72.0, 123.0, 101.0, 102.0, 112.0, 143.0, 143.0, 97.0, 83.0, 119.0, 94.0, 102.0, 115.0, 94.0, 135.0, 99.0, 89.0, 80.0, 139.0, 90.0, 140.0, 147.0, 97.0, 107.0, 83.0, 117.0, 100.0, 95.0, 120.0, 82.0, 91.0, 119.0, 100.0, 135.0, 86.0, 134.0, 120.0, 71.0, 74.0, 88.0, 115.0, 124.0, 74.0, 97.0, 154.0, 144.0, 137.0, 119.0, 136.0, 114.0, 137.0, 114.0, 126.0, 132.0, 123.0, 85.0, 84.0, 139.0, 173.0, 99.0, 194.0, 83.0, 89.0, 99.0, 80.0, 166.0, 110.0, 81.0, 154.0, 117.0, 84.0, 94.0, 96.0, 75.0, 130.0, 84.0, 120.0, 139.0, 91.0, 91.0, 99.0, 125.0, 76.0, 129.0, 68.0, 124.0, 114.0, 125.0, 87.0, 97.0, 116.0, 117.0, 111.0, 122.0, 107.0, 86.0, 91.0, 77.0, 105.0, 57.0, 127.0, 84.0, 88.0, 131.0, 164.0, 189.0, 116.0, 84.0, 114.0, 88.0, 84.0, 124.0, 97.0, 110.0, 103.0, 85.0, 87.0, 99.0, 91.0, 95.0, 99.0, 92.0, 154.0, 78.0, 130.0, 111.0, 98.0, 143.0, 119.0, 108.0, 133.0, 109.0, 121.0, 100.0, 93.0, 103.0, 73.0, 112.0, 82.0, 123.0, 67.0, 89.0, 109.0, 108.0, 96.0, 124.0, 124.0, 92.0, 152.0, 111.0, 106.0, 105.0, 106.0, 117.0, 68.0, 112.0, 92.0, 183.0, 94.0, 108.0, 90.0, 125.0, 132.0, 128.0, 94.0, 102.0, 111.0, 128.0, 92.0, 104.0, 94.0, 100.0, 102.0, 128.0, 90.0, 103.0, 157.0, 107.0, 91.0, 117.0, 123.0, 120.0, 106.0, 101.0, 120.0, 127.0, 162.0, 112.0, 98.0, 154.0, 165.0, 99.0, 68.0, 123.0, 91.0, 93.0, 101.0, 56.0, 95.0, 136.0, 129.0, 130.0, 107.0, 140.0, 107.0, 121.0, 90.0, 99.0, 127.0, 118.0, 122.0, 129.0, 110.0, 80.0, 127.0, 158.0, 126.0, 134.0, 102.0, 94.0, 108.0, 83.0, 114.0, 117.0, 111.0, 112.0, 116.0, 141.0, 175.0, 92.0, 106.0, 105.0, 95.0, 126.0, 65.0, 99.0, 102.0, 109.0, 153.0, 100.0, 81.0, 121.0, 108.0, 137.0, 106.0, 88.0, 89.0, 101.0, 122.0, 121.0, 93.0], \"y\": [102.5, 94.0, 102.5, 102.5, 102.5, 102.5, 83.0, 235.0, 102.5, 140.0, 110.0, 102.5, 102.5, 54.0, 102.5, 102.5, 192.0, 102.5, 70.0, 102.5, 102.5, 102.5, 102.5, 102.5, 102.5, 82.0, 36.0, 23.0, 342.0, 102.5, 110.0, 102.5, 142.0, 102.5, 102.5, 128.0, 102.5, 102.5, 38.0, 100.0, 140.0, 270.0, 102.5, 102.5, 102.5, 102.5, 102.5, 102.5, 102.5, 71.0, 102.5, 125.0, 102.5, 71.0, 102.5, 102.5, 176.0, 48.0, 64.0, 228.0, 102.5, 76.0, 64.0, 102.5, 102.5, 40.0, 102.5, 152.0, 102.5, 140.0, 18.0, 37.0, 102.5, 102.5, 102.5, 51.0, 102.5, 100.0, 102.5, 135.0, 94.0, 102.5, 49.0, 140.0, 50.0, 92.0, 102.5, 325.0, 102.5, 102.5, 63.0, 284.0, 102.5, 102.5, 119.0, 102.5, 102.5, 204.0, 102.5, 485.0, 94.0, 135.0, 53.0, 102.5, 105.0, 285.0, 102.5, 102.5, 102.5, 102.5, 78.0, 102.5, 48.0, 55.0, 102.5, 102.5, 102.5, 92.0, 23.0, 102.5, 102.5, 102.5, 94.0, 102.5, 102.5, 102.5, 102.5, 102.5, 44.0, 190.0, 102.5, 87.0, 102.5, 102.5, 102.5, 120.0, 102.5, 190.0, 56.0, 32.0, 102.5, 744.0, 53.0, 37.0, 102.5, 45.0, 102.5, 102.5, 88.0, 194.0, 102.5, 680.0, 402.0, 102.5, 102.5, 102.5, 55.0, 102.5, 102.5, 102.5, 375.0, 130.0, 102.5, 102.5, 67.0, 102.5, 102.5, 56.0, 102.5, 45.0, 102.5, 57.0, 116.0, 102.5, 278.0, 122.0, 155.0, 135.0, 545.0, 49.0, 75.0, 40.0, 102.5, 120.0, 215.0, 102.5, 42.0, 102.5, 105.0, 148.0, 102.5, 148.0, 85.0, 94.0, 64.0, 140.0, 231.0, 102.5, 168.0, 102.5, 68.0, 102.5, 52.0, 102.5, 58.0, 255.0, 102.5, 105.0, 73.0, 102.5, 102.5, 102.5, 108.0, 83.0, 102.5, 74.0, 102.5, 102.5, 102.5, 43.0, 102.5, 54.0, 102.5, 102.5, 293.0, 83.0, 102.5, 66.0, 89.0, 66.0, 94.0, 158.0, 84.0, 75.0, 72.0, 82.0, 102.5, 182.0, 59.0, 110.0, 50.0, 81.0, 196.0, 415.0, 87.0, 275.0, 115.0, 102.5, 102.5, 102.5, 165.0, 102.5, 102.5, 176.0, 310.0, 61.0, 102.5, 102.5, 170.0, 76.0, 78.0, 102.5, 102.5, 145.0, 102.5, 85.0, 60.0, 102.5, 102.5, 102.5, 102.5, 102.5, 102.5, 50.0, 120.0, 70.0, 92.0, 63.0, 95.0, 210.0, 102.5, 105.0, 102.5, 71.0, 60.0, 56.0, 102.5, 49.0, 102.5, 102.5, 105.0, 36.0, 100.0, 140.0, 102.5, 102.5, 102.5, 102.5, 102.5, 102.5, 110.0, 75.0, 102.5, 102.5, 49.0, 125.0, 480.0, 265.0, 102.5, 102.5, 66.0, 102.5, 102.5, 102.5, 102.5, 102.5, 76.0, 193.0, 71.0, 102.5, 79.0, 102.5, 102.5, 170.0, 76.0, 102.5, 210.0, 102.5, 102.5, 86.0, 102.5, 102.5, 326.0, 66.0, 130.0, 102.5, 102.5, 102.5, 82.0, 105.0, 188.0, 102.5, 106.0, 102.5, 65.0, 102.5, 56.0, 102.5, 102.5, 210.0, 56.0, 76.0, 166.0, 67.0, 102.5, 102.5, 106.0, 102.5, 44.0, 115.0, 215.0, 102.5, 102.5, 102.5, 102.5, 77.0, 54.0, 102.5, 88.0, 18.0, 126.0, 126.0, 102.5, 102.5, 44.0, 120.0, 330.0, 63.0, 130.0, 102.5, 102.5, 102.5, 102.5, 102.5, 102.5, 102.5, 140.0, 115.0, 230.0, 102.5, 25.0, 120.0, 102.5, 102.5, 102.5, 102.5, 41.0, 272.0, 182.0, 158.0, 102.5, 102.5, 102.5, 15.0, 160.0, 102.5, 102.5, 115.0, 102.5, 54.0, 102.5, 102.5, 102.5, 102.5, 90.0, 102.5, 183.0, 102.5, 102.5, 66.0, 46.0, 105.0, 102.5, 102.5, 152.0, 440.0, 102.5, 100.0, 106.0, 77.0, 102.5, 135.0, 90.0, 200.0, 102.5, 102.5, 132.0, 190.0, 100.0, 168.0, 102.5, 49.0, 240.0, 102.5, 102.5, 265.0, 45.0, 105.0, 102.5, 205.0, 102.5, 102.5, 180.0, 102.5, 95.0, 102.5, 102.5, 155.0, 102.5, 200.0, 102.5, 100.0, 102.5, 335.0, 387.0, 22.0, 291.0, 102.5, 102.5, 178.0, 102.5, 200.0, 105.0, 102.5, 102.5, 180.0, 102.5, 102.5, 102.5, 165.0, 102.5, 102.5, 120.0, 102.5, 160.0, 94.0, 116.0, 140.0, 105.0, 57.0, 74.0, 102.5, 102.5, 102.5, 16.0, 102.5, 180.0, 102.5, 112.0, 102.5]}],\n",
       "                        {\"template\": {\"data\": {\"bar\": [{\"error_x\": {\"color\": \"#2a3f5f\"}, \"error_y\": {\"color\": \"#2a3f5f\"}, \"marker\": {\"line\": {\"color\": \"#E5ECF6\", \"width\": 0.5}}, \"type\": \"bar\"}], \"barpolar\": [{\"marker\": {\"line\": {\"color\": \"#E5ECF6\", \"width\": 0.5}}, \"type\": \"barpolar\"}], \"carpet\": [{\"aaxis\": {\"endlinecolor\": \"#2a3f5f\", \"gridcolor\": \"white\", \"linecolor\": \"white\", \"minorgridcolor\": \"white\", \"startlinecolor\": \"#2a3f5f\"}, \"baxis\": {\"endlinecolor\": \"#2a3f5f\", \"gridcolor\": \"white\", \"linecolor\": \"white\", \"minorgridcolor\": \"white\", \"startlinecolor\": \"#2a3f5f\"}, \"type\": \"carpet\"}], \"choropleth\": [{\"colorbar\": {\"outlinewidth\": 0, \"ticks\": \"\"}, \"type\": \"choropleth\"}], \"contour\": [{\"colorbar\": {\"outlinewidth\": 0, \"ticks\": \"\"}, \"colorscale\": [[0.0, \"#0d0887\"], [0.1111111111111111, \"#46039f\"], [0.2222222222222222, \"#7201a8\"], [0.3333333333333333, \"#9c179e\"], [0.4444444444444444, \"#bd3786\"], [0.5555555555555556, \"#d8576b\"], [0.6666666666666666, \"#ed7953\"], [0.7777777777777778, \"#fb9f3a\"], [0.8888888888888888, \"#fdca26\"], [1.0, \"#f0f921\"]], \"type\": \"contour\"}], \"contourcarpet\": [{\"colorbar\": {\"outlinewidth\": 0, \"ticks\": \"\"}, \"type\": \"contourcarpet\"}], \"heatmap\": [{\"colorbar\": {\"outlinewidth\": 0, \"ticks\": \"\"}, \"colorscale\": [[0.0, \"#0d0887\"], [0.1111111111111111, \"#46039f\"], [0.2222222222222222, \"#7201a8\"], [0.3333333333333333, \"#9c179e\"], [0.4444444444444444, \"#bd3786\"], [0.5555555555555556, \"#d8576b\"], [0.6666666666666666, \"#ed7953\"], [0.7777777777777778, \"#fb9f3a\"], [0.8888888888888888, \"#fdca26\"], [1.0, \"#f0f921\"]], \"type\": \"heatmap\"}], \"heatmapgl\": [{\"colorbar\": {\"outlinewidth\": 0, \"ticks\": \"\"}, \"colorscale\": [[0.0, \"#0d0887\"], [0.1111111111111111, \"#46039f\"], [0.2222222222222222, \"#7201a8\"], [0.3333333333333333, \"#9c179e\"], [0.4444444444444444, \"#bd3786\"], [0.5555555555555556, \"#d8576b\"], [0.6666666666666666, \"#ed7953\"], [0.7777777777777778, \"#fb9f3a\"], [0.8888888888888888, \"#fdca26\"], [1.0, \"#f0f921\"]], \"type\": \"heatmapgl\"}], \"histogram\": [{\"marker\": {\"colorbar\": {\"outlinewidth\": 0, \"ticks\": \"\"}}, \"type\": \"histogram\"}], \"histogram2d\": [{\"colorbar\": {\"outlinewidth\": 0, \"ticks\": \"\"}, \"colorscale\": [[0.0, \"#0d0887\"], [0.1111111111111111, \"#46039f\"], [0.2222222222222222, \"#7201a8\"], [0.3333333333333333, \"#9c179e\"], [0.4444444444444444, \"#bd3786\"], [0.5555555555555556, \"#d8576b\"], [0.6666666666666666, \"#ed7953\"], [0.7777777777777778, \"#fb9f3a\"], [0.8888888888888888, \"#fdca26\"], [1.0, \"#f0f921\"]], \"type\": \"histogram2d\"}], \"histogram2dcontour\": [{\"colorbar\": {\"outlinewidth\": 0, \"ticks\": \"\"}, \"colorscale\": [[0.0, \"#0d0887\"], [0.1111111111111111, \"#46039f\"], [0.2222222222222222, \"#7201a8\"], [0.3333333333333333, \"#9c179e\"], [0.4444444444444444, \"#bd3786\"], [0.5555555555555556, \"#d8576b\"], [0.6666666666666666, \"#ed7953\"], [0.7777777777777778, \"#fb9f3a\"], [0.8888888888888888, \"#fdca26\"], [1.0, \"#f0f921\"]], \"type\": \"histogram2dcontour\"}], \"mesh3d\": [{\"colorbar\": {\"outlinewidth\": 0, \"ticks\": \"\"}, \"type\": \"mesh3d\"}], \"parcoords\": [{\"line\": {\"colorbar\": {\"outlinewidth\": 0, \"ticks\": \"\"}}, \"type\": \"parcoords\"}], \"pie\": [{\"automargin\": true, \"type\": \"pie\"}], \"scatter\": [{\"marker\": {\"colorbar\": {\"outlinewidth\": 0, \"ticks\": \"\"}}, \"type\": \"scatter\"}], \"scatter3d\": [{\"line\": {\"colorbar\": {\"outlinewidth\": 0, \"ticks\": \"\"}}, \"marker\": {\"colorbar\": {\"outlinewidth\": 0, \"ticks\": \"\"}}, \"type\": \"scatter3d\"}], \"scattercarpet\": [{\"marker\": {\"colorbar\": {\"outlinewidth\": 0, \"ticks\": \"\"}}, \"type\": \"scattercarpet\"}], \"scattergeo\": [{\"marker\": {\"colorbar\": {\"outlinewidth\": 0, \"ticks\": \"\"}}, \"type\": \"scattergeo\"}], \"scattergl\": [{\"marker\": {\"colorbar\": {\"outlinewidth\": 0, \"ticks\": \"\"}}, \"type\": \"scattergl\"}], \"scattermapbox\": [{\"marker\": {\"colorbar\": {\"outlinewidth\": 0, \"ticks\": \"\"}}, \"type\": \"scattermapbox\"}], \"scatterpolar\": [{\"marker\": {\"colorbar\": {\"outlinewidth\": 0, \"ticks\": \"\"}}, \"type\": \"scatterpolar\"}], \"scatterpolargl\": [{\"marker\": {\"colorbar\": {\"outlinewidth\": 0, \"ticks\": \"\"}}, \"type\": \"scatterpolargl\"}], \"scatterternary\": [{\"marker\": {\"colorbar\": {\"outlinewidth\": 0, \"ticks\": \"\"}}, \"type\": \"scatterternary\"}], \"surface\": [{\"colorbar\": {\"outlinewidth\": 0, \"ticks\": \"\"}, \"colorscale\": [[0.0, \"#0d0887\"], [0.1111111111111111, \"#46039f\"], [0.2222222222222222, \"#7201a8\"], [0.3333333333333333, \"#9c179e\"], [0.4444444444444444, \"#bd3786\"], [0.5555555555555556, \"#d8576b\"], [0.6666666666666666, \"#ed7953\"], [0.7777777777777778, \"#fb9f3a\"], [0.8888888888888888, \"#fdca26\"], [1.0, \"#f0f921\"]], \"type\": \"surface\"}], \"table\": [{\"cells\": {\"fill\": {\"color\": \"#EBF0F8\"}, \"line\": {\"color\": \"white\"}}, \"header\": {\"fill\": {\"color\": \"#C8D4E3\"}, \"line\": {\"color\": \"white\"}}, \"type\": \"table\"}]}, \"layout\": {\"annotationdefaults\": {\"arrowcolor\": \"#2a3f5f\", \"arrowhead\": 0, \"arrowwidth\": 1}, \"coloraxis\": {\"colorbar\": {\"outlinewidth\": 0, \"ticks\": \"\"}}, \"colorscale\": {\"diverging\": [[0, \"#8e0152\"], [0.1, \"#c51b7d\"], [0.2, \"#de77ae\"], [0.3, \"#f1b6da\"], [0.4, \"#fde0ef\"], [0.5, \"#f7f7f7\"], [0.6, \"#e6f5d0\"], [0.7, \"#b8e186\"], [0.8, \"#7fbc41\"], [0.9, \"#4d9221\"], [1, \"#276419\"]], \"sequential\": [[0.0, \"#0d0887\"], [0.1111111111111111, \"#46039f\"], [0.2222222222222222, \"#7201a8\"], [0.3333333333333333, \"#9c179e\"], [0.4444444444444444, \"#bd3786\"], [0.5555555555555556, \"#d8576b\"], [0.6666666666666666, \"#ed7953\"], [0.7777777777777778, \"#fb9f3a\"], [0.8888888888888888, \"#fdca26\"], [1.0, \"#f0f921\"]], \"sequentialminus\": [[0.0, \"#0d0887\"], [0.1111111111111111, \"#46039f\"], [0.2222222222222222, \"#7201a8\"], [0.3333333333333333, \"#9c179e\"], [0.4444444444444444, \"#bd3786\"], [0.5555555555555556, \"#d8576b\"], [0.6666666666666666, \"#ed7953\"], [0.7777777777777778, \"#fb9f3a\"], [0.8888888888888888, \"#fdca26\"], [1.0, \"#f0f921\"]]}, \"colorway\": [\"#636efa\", \"#EF553B\", \"#00cc96\", \"#ab63fa\", \"#FFA15A\", \"#19d3f3\", \"#FF6692\", \"#B6E880\", \"#FF97FF\", \"#FECB52\"], \"font\": {\"color\": \"#2a3f5f\"}, \"geo\": {\"bgcolor\": \"white\", \"lakecolor\": \"white\", \"landcolor\": \"#E5ECF6\", \"showlakes\": true, \"showland\": true, \"subunitcolor\": \"white\"}, \"hoverlabel\": {\"align\": \"left\"}, \"hovermode\": \"closest\", \"mapbox\": {\"style\": \"light\"}, \"paper_bgcolor\": \"white\", \"plot_bgcolor\": \"#E5ECF6\", \"polar\": {\"angularaxis\": {\"gridcolor\": \"white\", \"linecolor\": \"white\", \"ticks\": \"\"}, \"bgcolor\": \"#E5ECF6\", \"radialaxis\": {\"gridcolor\": \"white\", \"linecolor\": \"white\", \"ticks\": \"\"}}, \"scene\": {\"xaxis\": {\"backgroundcolor\": \"#E5ECF6\", \"gridcolor\": \"white\", \"gridwidth\": 2, \"linecolor\": \"white\", \"showbackground\": true, \"ticks\": \"\", \"zerolinecolor\": \"white\"}, \"yaxis\": {\"backgroundcolor\": \"#E5ECF6\", \"gridcolor\": \"white\", \"gridwidth\": 2, \"linecolor\": \"white\", \"showbackground\": true, \"ticks\": \"\", \"zerolinecolor\": \"white\"}, \"zaxis\": {\"backgroundcolor\": \"#E5ECF6\", \"gridcolor\": \"white\", \"gridwidth\": 2, \"linecolor\": \"white\", \"showbackground\": true, \"ticks\": \"\", \"zerolinecolor\": \"white\"}}, \"shapedefaults\": {\"line\": {\"color\": \"#2a3f5f\"}}, \"ternary\": {\"aaxis\": {\"gridcolor\": \"white\", \"linecolor\": \"white\", \"ticks\": \"\"}, \"baxis\": {\"gridcolor\": \"white\", \"linecolor\": \"white\", \"ticks\": \"\"}, \"bgcolor\": \"#E5ECF6\", \"caxis\": {\"gridcolor\": \"white\", \"linecolor\": \"white\", \"ticks\": \"\"}}, \"title\": {\"x\": 0.05}, \"xaxis\": {\"automargin\": true, \"gridcolor\": \"white\", \"linecolor\": \"white\", \"ticks\": \"\", \"title\": {\"standoff\": 15}, \"zerolinecolor\": \"white\", \"zerolinewidth\": 2}, \"yaxis\": {\"automargin\": true, \"gridcolor\": \"white\", \"linecolor\": \"white\", \"ticks\": \"\", \"title\": {\"standoff\": 15}, \"zerolinecolor\": \"white\", \"zerolinewidth\": 2}}}, \"title\": {\"text\": \"Glucose vs Insulin\"}, \"xaxis\": {\"title\": {\"text\": \"Glucose\"}, \"zeroline\": false}, \"yaxis\": {\"title\": {\"text\": \"Insulin\"}, \"zeroline\": false}},\n",
       "                        {\"responsive\": true}\n",
       "                    ).then(function(){\n",
       "                            \n",
       "var gd = document.getElementById('c3d62d97-8b9c-44d6-8d29-039ab1c1388a');\n",
       "var x = new MutationObserver(function (mutations, observer) {{\n",
       "        var display = window.getComputedStyle(gd).display;\n",
       "        if (!display || display === 'none') {{\n",
       "            console.log([gd, 'removed!']);\n",
       "            Plotly.purge(gd);\n",
       "            observer.disconnect();\n",
       "        }}\n",
       "}});\n",
       "\n",
       "// Listen for the removal of the full notebook cells\n",
       "var notebookContainer = gd.closest('#notebook-container');\n",
       "if (notebookContainer) {{\n",
       "    x.observe(notebookContainer, {childList: true});\n",
       "}}\n",
       "\n",
       "// Listen for the clearing of the current output cell\n",
       "var outputEl = gd.closest('.output');\n",
       "if (outputEl) {{\n",
       "    x.observe(outputEl, {childList: true});\n",
       "}}\n",
       "\n",
       "                        })\n",
       "                };\n",
       "                });\n",
       "            </script>\n",
       "        </div>"
      ]
     },
     "metadata": {},
     "output_type": "display_data"
    }
   ],
   "source": [
    "plot_feat1_feat2('Glucose', 'Insulin')"
   ]
  },
  {
   "cell_type": "code",
   "execution_count": 38,
   "metadata": {},
   "outputs": [],
   "source": [
    "scaled_data = minmax_scaling(data,columns=['Pregnancies','Glucose','BloodPressure','SkinThickness','Insulin','BMI','DiabetesPedigreeFunction','Age'])"
   ]
  },
  {
   "cell_type": "code",
   "execution_count": 39,
   "metadata": {},
   "outputs": [],
   "source": [
    "def build_model():\n",
    "    model = tf.keras.Sequential([\n",
    "    tf.keras.layers.Dense(8, activation='relu', input_shape=[len(scaled_data.keys())]),\n",
    "    tf.keras.layers.Dense(4, activation='relu'),\n",
    "    tf.keras.layers.Dense(1,activation='sigmoid')\n",
    "  ])\n",
    "\n",
    "    optimizer = tf.keras.optimizers.RMSprop(0.01)\n",
    "\n",
    "    model.compile(loss='binary_crossentropy', optimizer=optimizer, metrics=['accuracy'])\n",
    "    return model\n",
    "\n",
    "model = build_model()"
   ]
  },
  {
   "cell_type": "code",
   "execution_count": 40,
   "metadata": {},
   "outputs": [
    {
     "name": "stdout",
     "output_type": "stream",
     "text": [
      "Model: \"sequential\"\n",
      "_________________________________________________________________\n",
      "Layer (type)                 Output Shape              Param #   \n",
      "=================================================================\n",
      "dense (Dense)                (None, 8)                 72        \n",
      "_________________________________________________________________\n",
      "dense_1 (Dense)              (None, 4)                 36        \n",
      "_________________________________________________________________\n",
      "dense_2 (Dense)              (None, 1)                 5         \n",
      "=================================================================\n",
      "Total params: 113\n",
      "Trainable params: 113\n",
      "Non-trainable params: 0\n",
      "_________________________________________________________________\n"
     ]
    }
   ],
   "source": [
    "model.summary()"
   ]
  },
  {
   "cell_type": "code",
   "execution_count": 41,
   "metadata": {},
   "outputs": [
    {
     "name": "stdout",
     "output_type": "stream",
     "text": [
      "Epoch 1/1000\n",
      "20/20 - 1s - loss: 0.6485 - accuracy: 0.6531 - val_loss: 0.6162 - val_accuracy: 0.6429\n",
      "Epoch 2/1000\n",
      "20/20 - 0s - loss: 0.6025 - accuracy: 0.6612 - val_loss: 0.5790 - val_accuracy: 0.6883\n",
      "Epoch 3/1000\n",
      "20/20 - 0s - loss: 0.5684 - accuracy: 0.7068 - val_loss: 0.5511 - val_accuracy: 0.7662\n",
      "Epoch 4/1000\n",
      "20/20 - 0s - loss: 0.5280 - accuracy: 0.7345 - val_loss: 0.5370 - val_accuracy: 0.8052\n",
      "Epoch 5/1000\n",
      "20/20 - 0s - loss: 0.5049 - accuracy: 0.7655 - val_loss: 0.4917 - val_accuracy: 0.7922\n",
      "Epoch 6/1000\n",
      "20/20 - 0s - loss: 0.4808 - accuracy: 0.7687 - val_loss: 0.4797 - val_accuracy: 0.7468\n",
      "Epoch 7/1000\n",
      "20/20 - 0s - loss: 0.4631 - accuracy: 0.7850 - val_loss: 0.4680 - val_accuracy: 0.7987\n",
      "Epoch 8/1000\n",
      "20/20 - 0s - loss: 0.4553 - accuracy: 0.7964 - val_loss: 0.4735 - val_accuracy: 0.7922\n",
      "Epoch 9/1000\n",
      "20/20 - 0s - loss: 0.4515 - accuracy: 0.7915 - val_loss: 0.4618 - val_accuracy: 0.7597\n",
      "Epoch 10/1000\n",
      "20/20 - 0s - loss: 0.4475 - accuracy: 0.7834 - val_loss: 0.5166 - val_accuracy: 0.7143\n",
      "Epoch 11/1000\n",
      "20/20 - 0s - loss: 0.4381 - accuracy: 0.7997 - val_loss: 0.4441 - val_accuracy: 0.7792\n",
      "Epoch 12/1000\n",
      "20/20 - 0s - loss: 0.4368 - accuracy: 0.7899 - val_loss: 0.4660 - val_accuracy: 0.7532\n",
      "Epoch 13/1000\n",
      "20/20 - 0s - loss: 0.4323 - accuracy: 0.7866 - val_loss: 0.5085 - val_accuracy: 0.7403\n",
      "Epoch 14/1000\n",
      "20/20 - 0s - loss: 0.4245 - accuracy: 0.8013 - val_loss: 0.4514 - val_accuracy: 0.7662\n",
      "Epoch 15/1000\n",
      "20/20 - 0s - loss: 0.4297 - accuracy: 0.7932 - val_loss: 0.4514 - val_accuracy: 0.7922\n",
      "Epoch 16/1000\n",
      "20/20 - 0s - loss: 0.4174 - accuracy: 0.8046 - val_loss: 0.4288 - val_accuracy: 0.7987\n",
      "Epoch 17/1000\n",
      "20/20 - 0s - loss: 0.4154 - accuracy: 0.7997 - val_loss: 0.4288 - val_accuracy: 0.8182\n",
      "Epoch 18/1000\n",
      "20/20 - 0s - loss: 0.4253 - accuracy: 0.7899 - val_loss: 0.4524 - val_accuracy: 0.7727\n",
      "Epoch 19/1000\n",
      "20/20 - 0s - loss: 0.4129 - accuracy: 0.8094 - val_loss: 0.4284 - val_accuracy: 0.7792\n",
      "Epoch 20/1000\n",
      "20/20 - 0s - loss: 0.4139 - accuracy: 0.8143 - val_loss: 0.4526 - val_accuracy: 0.7792\n",
      "Epoch 21/1000\n",
      "20/20 - 0s - loss: 0.4089 - accuracy: 0.8029 - val_loss: 0.4247 - val_accuracy: 0.8117\n",
      "Epoch 22/1000\n",
      "20/20 - 0s - loss: 0.4093 - accuracy: 0.8111 - val_loss: 0.4589 - val_accuracy: 0.7857\n",
      "Epoch 23/1000\n",
      "20/20 - 0s - loss: 0.4061 - accuracy: 0.8013 - val_loss: 0.4600 - val_accuracy: 0.7857\n",
      "Epoch 24/1000\n",
      "20/20 - 0s - loss: 0.4019 - accuracy: 0.8322 - val_loss: 0.4722 - val_accuracy: 0.7922\n",
      "Epoch 25/1000\n",
      "20/20 - 0s - loss: 0.4002 - accuracy: 0.8160 - val_loss: 0.4201 - val_accuracy: 0.8247\n",
      "Epoch 26/1000\n",
      "20/20 - 0s - loss: 0.3953 - accuracy: 0.8176 - val_loss: 0.4215 - val_accuracy: 0.8117\n",
      "Epoch 27/1000\n",
      "20/20 - 0s - loss: 0.3952 - accuracy: 0.8225 - val_loss: 0.4510 - val_accuracy: 0.8052\n",
      "Epoch 28/1000\n",
      "20/20 - 0s - loss: 0.3907 - accuracy: 0.8339 - val_loss: 0.4215 - val_accuracy: 0.7727\n",
      "Epoch 29/1000\n",
      "20/20 - 0s - loss: 0.3973 - accuracy: 0.8078 - val_loss: 0.4014 - val_accuracy: 0.8247\n",
      "Epoch 30/1000\n",
      "20/20 - 1s - loss: 0.3869 - accuracy: 0.8160 - val_loss: 0.4021 - val_accuracy: 0.8052\n",
      "Epoch 31/1000\n",
      "20/20 - 0s - loss: 0.3901 - accuracy: 0.8257 - val_loss: 0.4048 - val_accuracy: 0.8052\n",
      "Epoch 32/1000\n",
      "20/20 - 1s - loss: 0.3846 - accuracy: 0.8208 - val_loss: 0.4008 - val_accuracy: 0.7987\n",
      "Epoch 33/1000\n",
      "20/20 - 0s - loss: 0.3798 - accuracy: 0.8290 - val_loss: 0.3982 - val_accuracy: 0.8052\n",
      "Epoch 34/1000\n",
      "20/20 - 0s - loss: 0.3878 - accuracy: 0.8355 - val_loss: 0.3955 - val_accuracy: 0.8052\n",
      "Epoch 35/1000\n",
      "20/20 - 0s - loss: 0.3769 - accuracy: 0.8306 - val_loss: 0.5224 - val_accuracy: 0.7273\n",
      "Epoch 36/1000\n",
      "20/20 - 0s - loss: 0.3842 - accuracy: 0.8339 - val_loss: 0.4034 - val_accuracy: 0.8182\n",
      "Epoch 37/1000\n",
      "20/20 - 0s - loss: 0.3760 - accuracy: 0.8371 - val_loss: 0.3969 - val_accuracy: 0.8117\n",
      "Epoch 38/1000\n",
      "20/20 - 0s - loss: 0.3754 - accuracy: 0.8290 - val_loss: 0.4158 - val_accuracy: 0.7922\n",
      "Epoch 39/1000\n",
      "20/20 - 0s - loss: 0.3702 - accuracy: 0.8290 - val_loss: 0.3888 - val_accuracy: 0.8117\n",
      "Epoch 40/1000\n",
      "20/20 - 0s - loss: 0.3674 - accuracy: 0.8420 - val_loss: 0.4274 - val_accuracy: 0.7727\n",
      "Epoch 41/1000\n",
      "20/20 - 1s - loss: 0.3664 - accuracy: 0.8355 - val_loss: 0.3800 - val_accuracy: 0.8247\n",
      "Epoch 42/1000\n",
      "20/20 - 1s - loss: 0.3598 - accuracy: 0.8371 - val_loss: 0.4144 - val_accuracy: 0.7987\n",
      "Epoch 43/1000\n",
      "20/20 - 1s - loss: 0.3632 - accuracy: 0.8404 - val_loss: 0.3898 - val_accuracy: 0.8117\n",
      "Epoch 44/1000\n",
      "20/20 - 0s - loss: 0.3621 - accuracy: 0.8485 - val_loss: 0.3864 - val_accuracy: 0.8052\n",
      "Epoch 45/1000\n",
      "20/20 - 0s - loss: 0.3589 - accuracy: 0.8420 - val_loss: 0.4431 - val_accuracy: 0.7532\n",
      "Epoch 46/1000\n",
      "20/20 - 0s - loss: 0.3551 - accuracy: 0.8453 - val_loss: 0.3846 - val_accuracy: 0.8377\n",
      "Epoch 47/1000\n",
      "20/20 - 0s - loss: 0.3557 - accuracy: 0.8404 - val_loss: 0.4216 - val_accuracy: 0.7857\n",
      "Epoch 48/1000\n",
      "20/20 - 0s - loss: 0.3505 - accuracy: 0.8583 - val_loss: 0.4222 - val_accuracy: 0.7987\n",
      "Epoch 49/1000\n",
      "20/20 - 0s - loss: 0.3488 - accuracy: 0.8550 - val_loss: 0.4274 - val_accuracy: 0.7922\n",
      "Epoch 50/1000\n",
      "20/20 - 0s - loss: 0.3558 - accuracy: 0.8469 - val_loss: 0.3799 - val_accuracy: 0.8117\n",
      "Epoch 51/1000\n",
      "20/20 - 0s - loss: 0.3470 - accuracy: 0.8453 - val_loss: 0.3720 - val_accuracy: 0.8312\n",
      "Epoch 52/1000\n",
      "20/20 - 0s - loss: 0.3462 - accuracy: 0.8550 - val_loss: 0.3752 - val_accuracy: 0.8506\n",
      "Epoch 53/1000\n",
      "20/20 - 0s - loss: 0.3468 - accuracy: 0.8550 - val_loss: 0.3996 - val_accuracy: 0.8312\n",
      "Epoch 54/1000\n",
      "20/20 - 0s - loss: 0.3487 - accuracy: 0.8485 - val_loss: 0.3757 - val_accuracy: 0.8247\n",
      "Epoch 55/1000\n",
      "20/20 - 0s - loss: 0.3419 - accuracy: 0.8485 - val_loss: 0.3802 - val_accuracy: 0.8442\n",
      "Epoch 56/1000\n",
      "20/20 - 0s - loss: 0.3412 - accuracy: 0.8518 - val_loss: 0.4771 - val_accuracy: 0.7403\n",
      "Epoch 57/1000\n",
      "20/20 - 0s - loss: 0.3398 - accuracy: 0.8534 - val_loss: 0.3972 - val_accuracy: 0.8442\n",
      "Epoch 58/1000\n",
      "20/20 - 0s - loss: 0.3424 - accuracy: 0.8567 - val_loss: 0.3834 - val_accuracy: 0.8182\n",
      "Epoch 59/1000\n",
      "20/20 - 0s - loss: 0.3373 - accuracy: 0.8583 - val_loss: 0.4225 - val_accuracy: 0.7922\n",
      "Epoch 60/1000\n",
      "20/20 - 0s - loss: 0.3371 - accuracy: 0.8583 - val_loss: 0.4585 - val_accuracy: 0.7857\n",
      "Epoch 61/1000\n",
      "20/20 - 0s - loss: 0.3407 - accuracy: 0.8616 - val_loss: 0.3613 - val_accuracy: 0.8442\n",
      "Epoch 62/1000\n",
      "20/20 - 0s - loss: 0.3497 - accuracy: 0.8583 - val_loss: 0.3676 - val_accuracy: 0.8506\n",
      "Epoch 63/1000\n",
      "20/20 - 0s - loss: 0.3350 - accuracy: 0.8550 - val_loss: 0.3980 - val_accuracy: 0.7922\n",
      "Epoch 64/1000\n",
      "20/20 - 0s - loss: 0.3364 - accuracy: 0.8648 - val_loss: 0.3810 - val_accuracy: 0.8117\n",
      "Epoch 65/1000\n",
      "20/20 - 0s - loss: 0.3363 - accuracy: 0.8599 - val_loss: 0.3980 - val_accuracy: 0.8052\n",
      "Epoch 66/1000\n",
      "20/20 - 0s - loss: 0.3290 - accuracy: 0.8632 - val_loss: 0.3809 - val_accuracy: 0.8312\n",
      "Epoch 67/1000\n",
      "20/20 - 0s - loss: 0.3354 - accuracy: 0.8632 - val_loss: 0.4307 - val_accuracy: 0.7987\n",
      "Epoch 68/1000\n",
      "20/20 - 0s - loss: 0.3301 - accuracy: 0.8567 - val_loss: 0.4403 - val_accuracy: 0.7987\n",
      "Epoch 69/1000\n",
      "20/20 - 0s - loss: 0.3279 - accuracy: 0.8632 - val_loss: 0.4607 - val_accuracy: 0.7857\n",
      "Epoch 70/1000\n",
      "20/20 - 0s - loss: 0.3331 - accuracy: 0.8664 - val_loss: 0.3875 - val_accuracy: 0.8117\n",
      "Epoch 71/1000\n",
      "20/20 - 0s - loss: 0.3392 - accuracy: 0.8567 - val_loss: 0.4170 - val_accuracy: 0.8117\n",
      "Epoch 72/1000\n",
      "20/20 - 0s - loss: 0.3360 - accuracy: 0.8632 - val_loss: 0.3942 - val_accuracy: 0.8377\n",
      "Epoch 73/1000\n",
      "20/20 - 0s - loss: 0.3300 - accuracy: 0.8616 - val_loss: 0.4076 - val_accuracy: 0.7922\n",
      "Epoch 74/1000\n",
      "20/20 - 0s - loss: 0.3185 - accuracy: 0.8762 - val_loss: 0.4599 - val_accuracy: 0.7727\n",
      "Epoch 75/1000\n",
      "20/20 - 0s - loss: 0.3400 - accuracy: 0.8583 - val_loss: 0.3585 - val_accuracy: 0.8442\n",
      "Epoch 76/1000\n",
      "20/20 - 0s - loss: 0.3198 - accuracy: 0.8713 - val_loss: 0.3700 - val_accuracy: 0.8312\n",
      "Epoch 77/1000\n",
      "20/20 - 0s - loss: 0.3411 - accuracy: 0.8583 - val_loss: 0.3610 - val_accuracy: 0.8442\n",
      "Epoch 78/1000\n",
      "20/20 - 0s - loss: 0.3230 - accuracy: 0.8697 - val_loss: 0.3611 - val_accuracy: 0.8312\n",
      "Epoch 79/1000\n",
      "20/20 - 0s - loss: 0.3332 - accuracy: 0.8518 - val_loss: 0.3526 - val_accuracy: 0.8571\n",
      "Epoch 80/1000\n",
      "20/20 - 0s - loss: 0.3228 - accuracy: 0.8713 - val_loss: 0.4256 - val_accuracy: 0.7857\n",
      "Epoch 81/1000\n",
      "20/20 - 0s - loss: 0.3334 - accuracy: 0.8567 - val_loss: 0.3989 - val_accuracy: 0.8117\n",
      "Epoch 82/1000\n",
      "20/20 - 0s - loss: 0.3244 - accuracy: 0.8730 - val_loss: 0.3665 - val_accuracy: 0.8247\n"
     ]
    },
    {
     "name": "stdout",
     "output_type": "stream",
     "text": [
      "Epoch 83/1000\n",
      "20/20 - 0s - loss: 0.3269 - accuracy: 0.8664 - val_loss: 0.3715 - val_accuracy: 0.8182\n",
      "Epoch 84/1000\n",
      "20/20 - 0s - loss: 0.3238 - accuracy: 0.8713 - val_loss: 0.3686 - val_accuracy: 0.8312\n",
      "Epoch 85/1000\n",
      "20/20 - 0s - loss: 0.3216 - accuracy: 0.8746 - val_loss: 0.3781 - val_accuracy: 0.8052\n",
      "Epoch 86/1000\n",
      "20/20 - 0s - loss: 0.3223 - accuracy: 0.8697 - val_loss: 0.4137 - val_accuracy: 0.8247\n",
      "Epoch 87/1000\n",
      "20/20 - 0s - loss: 0.3286 - accuracy: 0.8664 - val_loss: 0.3605 - val_accuracy: 0.8247\n",
      "Epoch 88/1000\n",
      "20/20 - 0s - loss: 0.3181 - accuracy: 0.8599 - val_loss: 0.3878 - val_accuracy: 0.8182\n",
      "Epoch 89/1000\n",
      "20/20 - 0s - loss: 0.3118 - accuracy: 0.8746 - val_loss: 0.3655 - val_accuracy: 0.8831\n",
      "Epoch 90/1000\n",
      "20/20 - 0s - loss: 0.3312 - accuracy: 0.8632 - val_loss: 0.3560 - val_accuracy: 0.8312\n",
      "Epoch 91/1000\n",
      "20/20 - 0s - loss: 0.3190 - accuracy: 0.8795 - val_loss: 0.5088 - val_accuracy: 0.7662\n",
      "Epoch 92/1000\n",
      "20/20 - 0s - loss: 0.3277 - accuracy: 0.8583 - val_loss: 0.3509 - val_accuracy: 0.8442\n",
      "Epoch 93/1000\n",
      "20/20 - 0s - loss: 0.3248 - accuracy: 0.8616 - val_loss: 0.3711 - val_accuracy: 0.8182\n",
      "Epoch 94/1000\n",
      "20/20 - 0s - loss: 0.3159 - accuracy: 0.8730 - val_loss: 0.3910 - val_accuracy: 0.8442\n",
      "Epoch 95/1000\n",
      "20/20 - 0s - loss: 0.3201 - accuracy: 0.8664 - val_loss: 0.3592 - val_accuracy: 0.8377\n",
      "Epoch 96/1000\n",
      "20/20 - 0s - loss: 0.3132 - accuracy: 0.8681 - val_loss: 0.3514 - val_accuracy: 0.8312\n",
      "Epoch 97/1000\n",
      "20/20 - 0s - loss: 0.3135 - accuracy: 0.8795 - val_loss: 0.3767 - val_accuracy: 0.8117\n",
      "Epoch 98/1000\n",
      "20/20 - 0s - loss: 0.3158 - accuracy: 0.8632 - val_loss: 0.3689 - val_accuracy: 0.8312\n",
      "Epoch 99/1000\n",
      "20/20 - 0s - loss: 0.3130 - accuracy: 0.8795 - val_loss: 0.4160 - val_accuracy: 0.8247\n",
      "Epoch 100/1000\n",
      "20/20 - 0s - loss: 0.3126 - accuracy: 0.8762 - val_loss: 0.3683 - val_accuracy: 0.8312\n",
      "Epoch 101/1000\n",
      "20/20 - 0s - loss: 0.3174 - accuracy: 0.8681 - val_loss: 0.3557 - val_accuracy: 0.8377\n",
      "Epoch 102/1000\n",
      "20/20 - 0s - loss: 0.3160 - accuracy: 0.8681 - val_loss: 0.3758 - val_accuracy: 0.8247\n",
      "Epoch 103/1000\n",
      "20/20 - 0s - loss: 0.3136 - accuracy: 0.8713 - val_loss: 0.3464 - val_accuracy: 0.8442\n",
      "Epoch 104/1000\n",
      "20/20 - 0s - loss: 0.3127 - accuracy: 0.8697 - val_loss: 0.3581 - val_accuracy: 0.8701\n",
      "Epoch 105/1000\n",
      "20/20 - 0s - loss: 0.3139 - accuracy: 0.8713 - val_loss: 0.4632 - val_accuracy: 0.7987\n",
      "Epoch 106/1000\n",
      "20/20 - 0s - loss: 0.3174 - accuracy: 0.8795 - val_loss: 0.4081 - val_accuracy: 0.8052\n",
      "Epoch 107/1000\n",
      "20/20 - 0s - loss: 0.3175 - accuracy: 0.8648 - val_loss: 0.3782 - val_accuracy: 0.8182\n",
      "Epoch 108/1000\n",
      "20/20 - 0s - loss: 0.3127 - accuracy: 0.8779 - val_loss: 0.3535 - val_accuracy: 0.8247\n",
      "Epoch 109/1000\n",
      "20/20 - 0s - loss: 0.3063 - accuracy: 0.8844 - val_loss: 0.3985 - val_accuracy: 0.8442\n",
      "Epoch 110/1000\n",
      "20/20 - 0s - loss: 0.3127 - accuracy: 0.8827 - val_loss: 0.3560 - val_accuracy: 0.8506\n",
      "Epoch 111/1000\n",
      "20/20 - 0s - loss: 0.3153 - accuracy: 0.8762 - val_loss: 0.3448 - val_accuracy: 0.8377\n",
      "Epoch 112/1000\n",
      "20/20 - 0s - loss: 0.3102 - accuracy: 0.8730 - val_loss: 0.4190 - val_accuracy: 0.8052\n",
      "Epoch 113/1000\n",
      "20/20 - 2s - loss: 0.3060 - accuracy: 0.8844 - val_loss: 0.3441 - val_accuracy: 0.8377\n",
      "Epoch 114/1000\n",
      "20/20 - 0s - loss: 0.3093 - accuracy: 0.8779 - val_loss: 0.3923 - val_accuracy: 0.8571\n",
      "Epoch 115/1000\n",
      "20/20 - 0s - loss: 0.3172 - accuracy: 0.8616 - val_loss: 0.4343 - val_accuracy: 0.7987\n",
      "Epoch 116/1000\n",
      "20/20 - 1s - loss: 0.3188 - accuracy: 0.8648 - val_loss: 0.3595 - val_accuracy: 0.8506\n",
      "Epoch 117/1000\n",
      "20/20 - 0s - loss: 0.3095 - accuracy: 0.8664 - val_loss: 0.3550 - val_accuracy: 0.8506\n",
      "Epoch 118/1000\n",
      "20/20 - 0s - loss: 0.3130 - accuracy: 0.8648 - val_loss: 0.3538 - val_accuracy: 0.8442\n",
      "Epoch 119/1000\n",
      "20/20 - 0s - loss: 0.3004 - accuracy: 0.8811 - val_loss: 0.5349 - val_accuracy: 0.7727\n",
      "Epoch 120/1000\n",
      "20/20 - 0s - loss: 0.3110 - accuracy: 0.8746 - val_loss: 0.3601 - val_accuracy: 0.8442\n",
      "Epoch 121/1000\n",
      "20/20 - 0s - loss: 0.3054 - accuracy: 0.8795 - val_loss: 0.3612 - val_accuracy: 0.8442\n",
      "Epoch 122/1000\n",
      "20/20 - 0s - loss: 0.3038 - accuracy: 0.8795 - val_loss: 0.3658 - val_accuracy: 0.8506\n",
      "Epoch 123/1000\n",
      "20/20 - 0s - loss: 0.3101 - accuracy: 0.8762 - val_loss: 0.3549 - val_accuracy: 0.8442\n",
      "Epoch 124/1000\n",
      "20/20 - 0s - loss: 0.3075 - accuracy: 0.8779 - val_loss: 0.3361 - val_accuracy: 0.8636\n",
      "Epoch 125/1000\n",
      "20/20 - 0s - loss: 0.2992 - accuracy: 0.8827 - val_loss: 0.3646 - val_accuracy: 0.8312\n",
      "Epoch 126/1000\n",
      "20/20 - 0s - loss: 0.3071 - accuracy: 0.8746 - val_loss: 0.3672 - val_accuracy: 0.8506\n",
      "Epoch 127/1000\n",
      "20/20 - 0s - loss: 0.3008 - accuracy: 0.8713 - val_loss: 0.3798 - val_accuracy: 0.8312\n",
      "Epoch 128/1000\n",
      "20/20 - 0s - loss: 0.3142 - accuracy: 0.8730 - val_loss: 0.3486 - val_accuracy: 0.8701\n",
      "Epoch 129/1000\n",
      "20/20 - 0s - loss: 0.2997 - accuracy: 0.8860 - val_loss: 0.3537 - val_accuracy: 0.8442\n",
      "Epoch 130/1000\n",
      "20/20 - 0s - loss: 0.3016 - accuracy: 0.8779 - val_loss: 0.3903 - val_accuracy: 0.8052\n",
      "Epoch 131/1000\n",
      "20/20 - 0s - loss: 0.3028 - accuracy: 0.8827 - val_loss: 0.3521 - val_accuracy: 0.8442\n",
      "Epoch 132/1000\n",
      "20/20 - 0s - loss: 0.3085 - accuracy: 0.8746 - val_loss: 0.3406 - val_accuracy: 0.8506\n",
      "Epoch 133/1000\n",
      "20/20 - 0s - loss: 0.2963 - accuracy: 0.8779 - val_loss: 0.3596 - val_accuracy: 0.8442\n",
      "Epoch 134/1000\n",
      "20/20 - 0s - loss: 0.3027 - accuracy: 0.8730 - val_loss: 0.3579 - val_accuracy: 0.8442\n",
      "Epoch 135/1000\n",
      "20/20 - 0s - loss: 0.3031 - accuracy: 0.8681 - val_loss: 0.3830 - val_accuracy: 0.7987\n",
      "Epoch 136/1000\n",
      "20/20 - 0s - loss: 0.2984 - accuracy: 0.8648 - val_loss: 0.3410 - val_accuracy: 0.8636\n",
      "Epoch 137/1000\n",
      "20/20 - 0s - loss: 0.3018 - accuracy: 0.8730 - val_loss: 0.3464 - val_accuracy: 0.8377\n",
      "Epoch 138/1000\n",
      "20/20 - 0s - loss: 0.3025 - accuracy: 0.8713 - val_loss: 0.3420 - val_accuracy: 0.8312\n",
      "Epoch 139/1000\n",
      "20/20 - 0s - loss: 0.2946 - accuracy: 0.8811 - val_loss: 0.3571 - val_accuracy: 0.8571\n",
      "Epoch 140/1000\n",
      "20/20 - 0s - loss: 0.2967 - accuracy: 0.8844 - val_loss: 0.3340 - val_accuracy: 0.8571\n",
      "Epoch 141/1000\n",
      "20/20 - 0s - loss: 0.2965 - accuracy: 0.8827 - val_loss: 0.3652 - val_accuracy: 0.8506\n",
      "Epoch 142/1000\n",
      "20/20 - 0s - loss: 0.2942 - accuracy: 0.8860 - val_loss: 0.3558 - val_accuracy: 0.8506\n",
      "Epoch 143/1000\n",
      "20/20 - 0s - loss: 0.3039 - accuracy: 0.8811 - val_loss: 0.3442 - val_accuracy: 0.8377\n",
      "Epoch 144/1000\n",
      "20/20 - 0s - loss: 0.3005 - accuracy: 0.8746 - val_loss: 0.4132 - val_accuracy: 0.8117\n",
      "Epoch 145/1000\n",
      "20/20 - 0s - loss: 0.2970 - accuracy: 0.8844 - val_loss: 0.3745 - val_accuracy: 0.8442\n",
      "Epoch 146/1000\n",
      "20/20 - 0s - loss: 0.3037 - accuracy: 0.8779 - val_loss: 0.3428 - val_accuracy: 0.8506\n",
      "Epoch 147/1000\n",
      "20/20 - 0s - loss: 0.2992 - accuracy: 0.8746 - val_loss: 0.3628 - val_accuracy: 0.8377\n",
      "Epoch 148/1000\n",
      "20/20 - 0s - loss: 0.2896 - accuracy: 0.8811 - val_loss: 0.3446 - val_accuracy: 0.8442\n",
      "Epoch 149/1000\n",
      "20/20 - 0s - loss: 0.2955 - accuracy: 0.8827 - val_loss: 0.3362 - val_accuracy: 0.8442\n",
      "Epoch 150/1000\n",
      "20/20 - 0s - loss: 0.2953 - accuracy: 0.8795 - val_loss: 0.3649 - val_accuracy: 0.8442\n",
      "Epoch 151/1000\n",
      "20/20 - 0s - loss: 0.3009 - accuracy: 0.8779 - val_loss: 0.3739 - val_accuracy: 0.8571\n",
      "Epoch 152/1000\n",
      "20/20 - 0s - loss: 0.2942 - accuracy: 0.8795 - val_loss: 0.3606 - val_accuracy: 0.8312\n",
      "Epoch 153/1000\n",
      "20/20 - 0s - loss: 0.3001 - accuracy: 0.8762 - val_loss: 0.3461 - val_accuracy: 0.8312\n",
      "Epoch 154/1000\n",
      "20/20 - 0s - loss: 0.2924 - accuracy: 0.8762 - val_loss: 0.3456 - val_accuracy: 0.8571\n",
      "Epoch 155/1000\n",
      "20/20 - 0s - loss: 0.2925 - accuracy: 0.8762 - val_loss: 0.3464 - val_accuracy: 0.8506\n",
      "Epoch 156/1000\n",
      "20/20 - 0s - loss: 0.2942 - accuracy: 0.8844 - val_loss: 0.3452 - val_accuracy: 0.8506\n",
      "Epoch 157/1000\n",
      "20/20 - 0s - loss: 0.2996 - accuracy: 0.8811 - val_loss: 0.3512 - val_accuracy: 0.8377\n",
      "Epoch 158/1000\n",
      "20/20 - 0s - loss: 0.2922 - accuracy: 0.8795 - val_loss: 0.3923 - val_accuracy: 0.8052\n",
      "Epoch 159/1000\n",
      "20/20 - 0s - loss: 0.2967 - accuracy: 0.8795 - val_loss: 0.3435 - val_accuracy: 0.8571\n",
      "Epoch 160/1000\n",
      "20/20 - 0s - loss: 0.2864 - accuracy: 0.8844 - val_loss: 0.3453 - val_accuracy: 0.8442\n",
      "Epoch 161/1000\n",
      "20/20 - 0s - loss: 0.2896 - accuracy: 0.8893 - val_loss: 0.3509 - val_accuracy: 0.8377\n",
      "Epoch 162/1000\n",
      "20/20 - 0s - loss: 0.2888 - accuracy: 0.8909 - val_loss: 0.3763 - val_accuracy: 0.8312\n",
      "Epoch 163/1000\n",
      "20/20 - 0s - loss: 0.2987 - accuracy: 0.8827 - val_loss: 0.3437 - val_accuracy: 0.8377\n"
     ]
    },
    {
     "name": "stdout",
     "output_type": "stream",
     "text": [
      "Epoch 164/1000\n",
      "20/20 - 0s - loss: 0.2894 - accuracy: 0.8876 - val_loss: 0.3470 - val_accuracy: 0.8442\n",
      "Epoch 165/1000\n",
      "20/20 - 0s - loss: 0.2961 - accuracy: 0.8713 - val_loss: 0.3451 - val_accuracy: 0.8377\n",
      "Epoch 166/1000\n",
      "20/20 - 0s - loss: 0.2973 - accuracy: 0.8664 - val_loss: 0.3546 - val_accuracy: 0.8377\n",
      "Epoch 167/1000\n",
      "20/20 - 0s - loss: 0.2849 - accuracy: 0.8860 - val_loss: 0.4061 - val_accuracy: 0.8377\n",
      "Epoch 168/1000\n",
      "20/20 - 0s - loss: 0.2940 - accuracy: 0.8811 - val_loss: 0.3504 - val_accuracy: 0.8377\n",
      "Epoch 169/1000\n",
      "20/20 - 0s - loss: 0.2822 - accuracy: 0.8941 - val_loss: 0.3698 - val_accuracy: 0.8117\n",
      "Epoch 170/1000\n",
      "20/20 - 0s - loss: 0.2964 - accuracy: 0.8811 - val_loss: 0.3676 - val_accuracy: 0.8377\n",
      "Epoch 171/1000\n",
      "20/20 - 0s - loss: 0.2918 - accuracy: 0.8876 - val_loss: 0.3832 - val_accuracy: 0.8182\n",
      "Epoch 172/1000\n",
      "20/20 - 0s - loss: 0.2914 - accuracy: 0.8795 - val_loss: 0.3758 - val_accuracy: 0.8247\n",
      "Epoch 173/1000\n",
      "20/20 - 0s - loss: 0.2883 - accuracy: 0.8844 - val_loss: 0.3684 - val_accuracy: 0.8506\n",
      "Epoch 174/1000\n",
      "20/20 - 0s - loss: 0.2926 - accuracy: 0.8779 - val_loss: 0.3633 - val_accuracy: 0.8442\n",
      "Epoch 175/1000\n",
      "20/20 - 0s - loss: 0.2890 - accuracy: 0.8827 - val_loss: 0.3786 - val_accuracy: 0.8312\n",
      "Epoch 176/1000\n",
      "20/20 - 0s - loss: 0.2851 - accuracy: 0.8844 - val_loss: 0.3675 - val_accuracy: 0.8312\n",
      "Epoch 177/1000\n",
      "20/20 - 0s - loss: 0.2931 - accuracy: 0.8762 - val_loss: 0.3580 - val_accuracy: 0.8442\n",
      "Epoch 178/1000\n",
      "20/20 - 0s - loss: 0.2888 - accuracy: 0.8909 - val_loss: 0.3618 - val_accuracy: 0.8442\n",
      "Epoch 179/1000\n",
      "20/20 - 0s - loss: 0.2839 - accuracy: 0.8827 - val_loss: 0.3813 - val_accuracy: 0.8442\n",
      "Epoch 180/1000\n",
      "20/20 - 0s - loss: 0.2918 - accuracy: 0.8827 - val_loss: 0.4565 - val_accuracy: 0.8052\n",
      "Epoch 181/1000\n",
      "20/20 - 0s - loss: 0.2895 - accuracy: 0.8860 - val_loss: 0.4164 - val_accuracy: 0.7987\n",
      "Epoch 182/1000\n",
      "20/20 - 0s - loss: 0.2863 - accuracy: 0.8860 - val_loss: 0.3692 - val_accuracy: 0.8182\n",
      "Epoch 183/1000\n",
      "20/20 - 0s - loss: 0.2831 - accuracy: 0.8844 - val_loss: 0.3445 - val_accuracy: 0.8506\n",
      "Epoch 184/1000\n",
      "20/20 - 0s - loss: 0.2913 - accuracy: 0.8844 - val_loss: 0.3528 - val_accuracy: 0.8377\n",
      "Epoch 185/1000\n",
      "20/20 - 0s - loss: 0.2883 - accuracy: 0.8844 - val_loss: 0.3514 - val_accuracy: 0.8636\n",
      "Epoch 186/1000\n",
      "20/20 - 0s - loss: 0.2902 - accuracy: 0.8827 - val_loss: 0.3668 - val_accuracy: 0.8312\n",
      "Epoch 187/1000\n",
      "20/20 - 0s - loss: 0.2869 - accuracy: 0.8876 - val_loss: 0.3617 - val_accuracy: 0.8312\n",
      "Epoch 188/1000\n",
      "20/20 - 0s - loss: 0.2934 - accuracy: 0.8811 - val_loss: 0.3557 - val_accuracy: 0.8442\n",
      "Epoch 189/1000\n",
      "20/20 - 0s - loss: 0.2869 - accuracy: 0.8844 - val_loss: 0.3612 - val_accuracy: 0.8506\n",
      "Epoch 190/1000\n",
      "20/20 - 0s - loss: 0.2906 - accuracy: 0.8811 - val_loss: 0.3441 - val_accuracy: 0.8636\n",
      "Epoch 191/1000\n",
      "20/20 - 0s - loss: 0.2846 - accuracy: 0.8827 - val_loss: 0.3747 - val_accuracy: 0.8377\n",
      "Epoch 192/1000\n",
      "20/20 - 0s - loss: 0.2912 - accuracy: 0.8713 - val_loss: 0.4547 - val_accuracy: 0.8182\n",
      "Epoch 193/1000\n",
      "20/20 - 0s - loss: 0.2922 - accuracy: 0.8811 - val_loss: 0.3555 - val_accuracy: 0.8377\n",
      "Epoch 194/1000\n",
      "20/20 - 0s - loss: 0.2821 - accuracy: 0.8844 - val_loss: 0.3662 - val_accuracy: 0.8442\n",
      "Epoch 195/1000\n",
      "20/20 - 0s - loss: 0.2790 - accuracy: 0.8893 - val_loss: 0.3644 - val_accuracy: 0.8442\n",
      "Epoch 196/1000\n",
      "20/20 - 0s - loss: 0.2836 - accuracy: 0.8925 - val_loss: 0.3632 - val_accuracy: 0.8442\n",
      "Epoch 197/1000\n",
      "20/20 - 0s - loss: 0.2831 - accuracy: 0.8860 - val_loss: 0.3802 - val_accuracy: 0.8377\n",
      "Epoch 198/1000\n",
      "20/20 - 0s - loss: 0.2880 - accuracy: 0.8827 - val_loss: 0.3425 - val_accuracy: 0.8636\n",
      "Epoch 199/1000\n",
      "20/20 - 0s - loss: 0.2926 - accuracy: 0.8811 - val_loss: 0.4122 - val_accuracy: 0.8312\n",
      "Epoch 200/1000\n",
      "20/20 - 0s - loss: 0.2869 - accuracy: 0.8860 - val_loss: 0.3579 - val_accuracy: 0.8442\n",
      "Epoch 201/1000\n",
      "20/20 - 0s - loss: 0.2827 - accuracy: 0.8827 - val_loss: 0.3549 - val_accuracy: 0.8377\n",
      "Epoch 202/1000\n",
      "20/20 - 0s - loss: 0.2852 - accuracy: 0.8909 - val_loss: 0.4028 - val_accuracy: 0.8377\n",
      "Epoch 203/1000\n",
      "20/20 - 0s - loss: 0.2909 - accuracy: 0.8860 - val_loss: 0.3740 - val_accuracy: 0.8506\n",
      "Epoch 204/1000\n",
      "20/20 - 0s - loss: 0.2844 - accuracy: 0.8893 - val_loss: 0.3436 - val_accuracy: 0.8571\n",
      "Epoch 205/1000\n",
      "20/20 - 0s - loss: 0.2853 - accuracy: 0.8779 - val_loss: 0.3504 - val_accuracy: 0.8571\n",
      "Epoch 206/1000\n",
      "20/20 - 0s - loss: 0.2860 - accuracy: 0.8811 - val_loss: 0.3583 - val_accuracy: 0.8377\n",
      "Epoch 207/1000\n",
      "20/20 - 0s - loss: 0.2874 - accuracy: 0.8844 - val_loss: 0.3624 - val_accuracy: 0.8377\n",
      "Epoch 208/1000\n",
      "20/20 - 0s - loss: 0.2855 - accuracy: 0.8844 - val_loss: 0.3502 - val_accuracy: 0.8506\n",
      "Epoch 209/1000\n",
      "20/20 - 0s - loss: 0.2912 - accuracy: 0.8697 - val_loss: 0.3831 - val_accuracy: 0.8442\n",
      "Epoch 210/1000\n",
      "20/20 - 0s - loss: 0.2878 - accuracy: 0.8860 - val_loss: 0.3468 - val_accuracy: 0.8636\n",
      "Epoch 211/1000\n",
      "20/20 - 0s - loss: 0.2856 - accuracy: 0.8827 - val_loss: 0.3609 - val_accuracy: 0.8442\n",
      "Epoch 212/1000\n",
      "20/20 - 0s - loss: 0.2818 - accuracy: 0.8827 - val_loss: 0.3776 - val_accuracy: 0.8442\n",
      "Epoch 213/1000\n",
      "20/20 - 0s - loss: 0.2864 - accuracy: 0.8941 - val_loss: 0.3635 - val_accuracy: 0.8377\n",
      "Epoch 214/1000\n",
      "20/20 - 0s - loss: 0.2892 - accuracy: 0.8762 - val_loss: 0.3682 - val_accuracy: 0.8442\n",
      "Epoch 215/1000\n",
      "20/20 - 0s - loss: 0.2769 - accuracy: 0.8958 - val_loss: 0.3661 - val_accuracy: 0.8377\n",
      "Epoch 216/1000\n",
      "20/20 - 0s - loss: 0.2816 - accuracy: 0.8762 - val_loss: 0.3764 - val_accuracy: 0.8312\n",
      "Epoch 217/1000\n",
      "20/20 - 0s - loss: 0.2743 - accuracy: 0.8844 - val_loss: 0.4853 - val_accuracy: 0.7857\n",
      "Epoch 218/1000\n",
      "20/20 - 1s - loss: 0.2922 - accuracy: 0.8827 - val_loss: 0.3851 - val_accuracy: 0.8506\n",
      "Epoch 219/1000\n",
      "20/20 - 0s - loss: 0.2842 - accuracy: 0.8876 - val_loss: 0.3768 - val_accuracy: 0.8377\n",
      "Epoch 220/1000\n",
      "20/20 - 0s - loss: 0.2835 - accuracy: 0.8811 - val_loss: 0.3686 - val_accuracy: 0.8312\n",
      "Epoch 221/1000\n",
      "20/20 - 0s - loss: 0.2805 - accuracy: 0.8893 - val_loss: 0.3499 - val_accuracy: 0.8636\n",
      "Epoch 222/1000\n",
      "20/20 - 0s - loss: 0.2855 - accuracy: 0.8811 - val_loss: 0.3531 - val_accuracy: 0.8506\n",
      "Epoch 223/1000\n",
      "20/20 - 0s - loss: 0.2789 - accuracy: 0.8860 - val_loss: 0.3892 - val_accuracy: 0.8117\n",
      "Epoch 224/1000\n",
      "20/20 - 0s - loss: 0.2797 - accuracy: 0.8893 - val_loss: 0.3973 - val_accuracy: 0.8312\n",
      "Epoch 225/1000\n",
      "20/20 - 0s - loss: 0.2845 - accuracy: 0.8779 - val_loss: 0.3728 - val_accuracy: 0.8377\n",
      "Epoch 226/1000\n",
      "20/20 - 0s - loss: 0.2858 - accuracy: 0.8893 - val_loss: 0.3689 - val_accuracy: 0.8442\n",
      "Epoch 227/1000\n",
      "20/20 - 0s - loss: 0.2835 - accuracy: 0.8860 - val_loss: 0.3628 - val_accuracy: 0.8442\n",
      "Epoch 228/1000\n",
      "20/20 - 0s - loss: 0.2818 - accuracy: 0.8844 - val_loss: 0.3465 - val_accuracy: 0.8571\n",
      "Epoch 229/1000\n",
      "20/20 - 0s - loss: 0.2785 - accuracy: 0.8876 - val_loss: 0.3801 - val_accuracy: 0.8442\n",
      "Epoch 230/1000\n",
      "20/20 - 0s - loss: 0.2884 - accuracy: 0.8762 - val_loss: 0.3589 - val_accuracy: 0.8377\n",
      "Epoch 231/1000\n",
      "20/20 - 0s - loss: 0.2811 - accuracy: 0.8909 - val_loss: 0.3974 - val_accuracy: 0.8442\n",
      "Epoch 232/1000\n",
      "20/20 - 0s - loss: 0.2824 - accuracy: 0.8909 - val_loss: 0.4164 - val_accuracy: 0.8312\n",
      "Epoch 233/1000\n",
      "20/20 - 0s - loss: 0.2902 - accuracy: 0.8795 - val_loss: 0.3720 - val_accuracy: 0.8442\n",
      "Epoch 234/1000\n",
      "20/20 - 0s - loss: 0.2768 - accuracy: 0.8909 - val_loss: 0.3910 - val_accuracy: 0.8377\n",
      "Epoch 235/1000\n",
      "20/20 - 0s - loss: 0.2766 - accuracy: 0.8811 - val_loss: 0.3830 - val_accuracy: 0.8442\n",
      "Epoch 236/1000\n",
      "20/20 - 0s - loss: 0.2758 - accuracy: 0.8811 - val_loss: 0.3677 - val_accuracy: 0.8442\n",
      "Epoch 237/1000\n",
      "20/20 - 0s - loss: 0.2811 - accuracy: 0.8779 - val_loss: 0.3433 - val_accuracy: 0.8636\n",
      "Epoch 238/1000\n",
      "20/20 - 0s - loss: 0.2812 - accuracy: 0.8893 - val_loss: 0.3512 - val_accuracy: 0.8766\n",
      "Epoch 239/1000\n",
      "20/20 - 0s - loss: 0.2827 - accuracy: 0.8876 - val_loss: 0.3611 - val_accuracy: 0.8377\n",
      "Epoch 240/1000\n",
      "20/20 - 0s - loss: 0.2820 - accuracy: 0.8844 - val_loss: 0.3559 - val_accuracy: 0.8506\n",
      "Epoch 241/1000\n",
      "20/20 - 0s - loss: 0.2796 - accuracy: 0.8860 - val_loss: 0.3807 - val_accuracy: 0.8377\n",
      "Epoch 242/1000\n",
      "20/20 - 0s - loss: 0.2804 - accuracy: 0.8811 - val_loss: 0.3773 - val_accuracy: 0.8377\n",
      "Epoch 243/1000\n",
      "20/20 - 0s - loss: 0.2811 - accuracy: 0.8795 - val_loss: 0.3768 - val_accuracy: 0.8636\n",
      "Epoch 244/1000\n",
      "20/20 - 0s - loss: 0.2769 - accuracy: 0.8893 - val_loss: 0.3659 - val_accuracy: 0.8377\n"
     ]
    },
    {
     "name": "stdout",
     "output_type": "stream",
     "text": [
      "Epoch 245/1000\n",
      "20/20 - 0s - loss: 0.2918 - accuracy: 0.8746 - val_loss: 0.3774 - val_accuracy: 0.8442\n",
      "Epoch 246/1000\n",
      "20/20 - 0s - loss: 0.2778 - accuracy: 0.8876 - val_loss: 0.3927 - val_accuracy: 0.8182\n",
      "Epoch 247/1000\n",
      "20/20 - 0s - loss: 0.2821 - accuracy: 0.8860 - val_loss: 0.3525 - val_accuracy: 0.8701\n",
      "Epoch 248/1000\n",
      "20/20 - 0s - loss: 0.2763 - accuracy: 0.8893 - val_loss: 0.3745 - val_accuracy: 0.8506\n",
      "Epoch 249/1000\n",
      "20/20 - 0s - loss: 0.2861 - accuracy: 0.8795 - val_loss: 0.3549 - val_accuracy: 0.8571\n",
      "Epoch 250/1000\n",
      "20/20 - 0s - loss: 0.2834 - accuracy: 0.8941 - val_loss: 0.3843 - val_accuracy: 0.8442\n",
      "Epoch 251/1000\n",
      "20/20 - 0s - loss: 0.2857 - accuracy: 0.8893 - val_loss: 0.3877 - val_accuracy: 0.8377\n",
      "Epoch 252/1000\n",
      "20/20 - 0s - loss: 0.2757 - accuracy: 0.8844 - val_loss: 0.3776 - val_accuracy: 0.8442\n",
      "Epoch 253/1000\n",
      "20/20 - 0s - loss: 0.2839 - accuracy: 0.8811 - val_loss: 0.3575 - val_accuracy: 0.8377\n",
      "Epoch 254/1000\n",
      "20/20 - 0s - loss: 0.2838 - accuracy: 0.8893 - val_loss: 0.3880 - val_accuracy: 0.8312\n",
      "Epoch 255/1000\n",
      "20/20 - 0s - loss: 0.2813 - accuracy: 0.8909 - val_loss: 0.3745 - val_accuracy: 0.8312\n",
      "Epoch 256/1000\n",
      "20/20 - 0s - loss: 0.2749 - accuracy: 0.8860 - val_loss: 0.3949 - val_accuracy: 0.8377\n",
      "Epoch 257/1000\n",
      "20/20 - 0s - loss: 0.2833 - accuracy: 0.8811 - val_loss: 0.3610 - val_accuracy: 0.8506\n",
      "Epoch 258/1000\n",
      "20/20 - 0s - loss: 0.2766 - accuracy: 0.8893 - val_loss: 0.3566 - val_accuracy: 0.8506\n",
      "Epoch 259/1000\n",
      "20/20 - 1s - loss: 0.2750 - accuracy: 0.8958 - val_loss: 0.3627 - val_accuracy: 0.8571\n",
      "Epoch 260/1000\n",
      "20/20 - 0s - loss: 0.2852 - accuracy: 0.8876 - val_loss: 0.3600 - val_accuracy: 0.8571\n",
      "Epoch 261/1000\n",
      "20/20 - 0s - loss: 0.2731 - accuracy: 0.8925 - val_loss: 0.3727 - val_accuracy: 0.8442\n",
      "Epoch 262/1000\n",
      "20/20 - 0s - loss: 0.2784 - accuracy: 0.8876 - val_loss: 0.3613 - val_accuracy: 0.8442\n",
      "Epoch 263/1000\n",
      "20/20 - 0s - loss: 0.2724 - accuracy: 0.8925 - val_loss: 0.3845 - val_accuracy: 0.8182\n",
      "Epoch 264/1000\n",
      "20/20 - 0s - loss: 0.2815 - accuracy: 0.8811 - val_loss: 0.3678 - val_accuracy: 0.8506\n",
      "Epoch 265/1000\n",
      "20/20 - 0s - loss: 0.2817 - accuracy: 0.8876 - val_loss: 0.3645 - val_accuracy: 0.8506\n",
      "Epoch 266/1000\n",
      "20/20 - 0s - loss: 0.2738 - accuracy: 0.8844 - val_loss: 0.4055 - val_accuracy: 0.8182\n",
      "Epoch 267/1000\n",
      "20/20 - 0s - loss: 0.2891 - accuracy: 0.8827 - val_loss: 0.3765 - val_accuracy: 0.8312\n",
      "Epoch 268/1000\n",
      "20/20 - 0s - loss: 0.2775 - accuracy: 0.8909 - val_loss: 0.3644 - val_accuracy: 0.8442\n",
      "Epoch 269/1000\n",
      "20/20 - 0s - loss: 0.2774 - accuracy: 0.8925 - val_loss: 0.4110 - val_accuracy: 0.8247\n",
      "Epoch 270/1000\n",
      "20/20 - 0s - loss: 0.2849 - accuracy: 0.8844 - val_loss: 0.3689 - val_accuracy: 0.8312\n",
      "Epoch 271/1000\n",
      "20/20 - 0s - loss: 0.2806 - accuracy: 0.8876 - val_loss: 0.3676 - val_accuracy: 0.8442\n",
      "Epoch 272/1000\n",
      "20/20 - 0s - loss: 0.2773 - accuracy: 0.8990 - val_loss: 0.3684 - val_accuracy: 0.8312\n",
      "Epoch 273/1000\n",
      "20/20 - 0s - loss: 0.2842 - accuracy: 0.8795 - val_loss: 0.3785 - val_accuracy: 0.8442\n",
      "Epoch 274/1000\n",
      "20/20 - 0s - loss: 0.2770 - accuracy: 0.8941 - val_loss: 0.3648 - val_accuracy: 0.8442\n",
      "Epoch 275/1000\n",
      "20/20 - 0s - loss: 0.2846 - accuracy: 0.8844 - val_loss: 0.3680 - val_accuracy: 0.8442\n",
      "Epoch 276/1000\n",
      "20/20 - 0s - loss: 0.2740 - accuracy: 0.8925 - val_loss: 0.4024 - val_accuracy: 0.8247\n",
      "Epoch 277/1000\n",
      "20/20 - 0s - loss: 0.2877 - accuracy: 0.8811 - val_loss: 0.3435 - val_accuracy: 0.8701\n",
      "Epoch 278/1000\n",
      "20/20 - 0s - loss: 0.2815 - accuracy: 0.8844 - val_loss: 0.3586 - val_accuracy: 0.8247\n",
      "Epoch 279/1000\n",
      "20/20 - 0s - loss: 0.2776 - accuracy: 0.8925 - val_loss: 0.3546 - val_accuracy: 0.8571\n",
      "Epoch 280/1000\n",
      "20/20 - 0s - loss: 0.2873 - accuracy: 0.8795 - val_loss: 0.3471 - val_accuracy: 0.8636\n",
      "Epoch 281/1000\n",
      "20/20 - 0s - loss: 0.2761 - accuracy: 0.8925 - val_loss: 0.3468 - val_accuracy: 0.8701\n",
      "Epoch 282/1000\n",
      "20/20 - 0s - loss: 0.2874 - accuracy: 0.8795 - val_loss: 0.5059 - val_accuracy: 0.7403\n",
      "Epoch 283/1000\n",
      "20/20 - 0s - loss: 0.2872 - accuracy: 0.8713 - val_loss: 0.3666 - val_accuracy: 0.8506\n",
      "Epoch 284/1000\n",
      "20/20 - 0s - loss: 0.2784 - accuracy: 0.8893 - val_loss: 0.3584 - val_accuracy: 0.8571\n",
      "Epoch 285/1000\n",
      "20/20 - 0s - loss: 0.2806 - accuracy: 0.8811 - val_loss: 0.4249 - val_accuracy: 0.8247\n",
      "Epoch 286/1000\n",
      "20/20 - 0s - loss: 0.2823 - accuracy: 0.8827 - val_loss: 0.4082 - val_accuracy: 0.8052\n",
      "Epoch 287/1000\n",
      "20/20 - 0s - loss: 0.2847 - accuracy: 0.8746 - val_loss: 0.3711 - val_accuracy: 0.8377\n",
      "Epoch 288/1000\n",
      "20/20 - 0s - loss: 0.2773 - accuracy: 0.8909 - val_loss: 0.4075 - val_accuracy: 0.7987\n",
      "Epoch 289/1000\n",
      "20/20 - 0s - loss: 0.2773 - accuracy: 0.8893 - val_loss: 0.3630 - val_accuracy: 0.8571\n",
      "Epoch 290/1000\n",
      "20/20 - 0s - loss: 0.2754 - accuracy: 0.8876 - val_loss: 0.4085 - val_accuracy: 0.8312\n",
      "Epoch 291/1000\n",
      "20/20 - 0s - loss: 0.2844 - accuracy: 0.8876 - val_loss: 0.3787 - val_accuracy: 0.8571\n",
      "Epoch 292/1000\n",
      "20/20 - 0s - loss: 0.2733 - accuracy: 0.8909 - val_loss: 0.3906 - val_accuracy: 0.8312\n",
      "Epoch 293/1000\n",
      "20/20 - 0s - loss: 0.2769 - accuracy: 0.8795 - val_loss: 0.3976 - val_accuracy: 0.8052\n",
      "Epoch 294/1000\n",
      "20/20 - 0s - loss: 0.2814 - accuracy: 0.8876 - val_loss: 0.3806 - val_accuracy: 0.8377\n",
      "Epoch 295/1000\n",
      "20/20 - 0s - loss: 0.2772 - accuracy: 0.8860 - val_loss: 0.3693 - val_accuracy: 0.8571\n",
      "Epoch 296/1000\n",
      "20/20 - 0s - loss: 0.2746 - accuracy: 0.8779 - val_loss: 0.4470 - val_accuracy: 0.8312\n",
      "Epoch 297/1000\n",
      "20/20 - 0s - loss: 0.2922 - accuracy: 0.8811 - val_loss: 0.3880 - val_accuracy: 0.8247\n",
      "Epoch 298/1000\n",
      "20/20 - 0s - loss: 0.2750 - accuracy: 0.8876 - val_loss: 0.3615 - val_accuracy: 0.8636\n",
      "Epoch 299/1000\n",
      "20/20 - 0s - loss: 0.2809 - accuracy: 0.8827 - val_loss: 0.3492 - val_accuracy: 0.8701\n",
      "Epoch 300/1000\n",
      "20/20 - 0s - loss: 0.2771 - accuracy: 0.8860 - val_loss: 0.3954 - val_accuracy: 0.8377\n",
      "Epoch 301/1000\n",
      "20/20 - 0s - loss: 0.2794 - accuracy: 0.8811 - val_loss: 0.3958 - val_accuracy: 0.8377\n",
      "Epoch 302/1000\n",
      "20/20 - 0s - loss: 0.2743 - accuracy: 0.8958 - val_loss: 0.3606 - val_accuracy: 0.8506\n",
      "Epoch 303/1000\n",
      "20/20 - 0s - loss: 0.2819 - accuracy: 0.8779 - val_loss: 0.3927 - val_accuracy: 0.8247\n",
      "Epoch 304/1000\n",
      "20/20 - 0s - loss: 0.2746 - accuracy: 0.8909 - val_loss: 0.3928 - val_accuracy: 0.8052\n",
      "Epoch 305/1000\n",
      "20/20 - 0s - loss: 0.2853 - accuracy: 0.8844 - val_loss: 0.3794 - val_accuracy: 0.8377\n",
      "Epoch 306/1000\n",
      "20/20 - 0s - loss: 0.2729 - accuracy: 0.8958 - val_loss: 0.3926 - val_accuracy: 0.8442\n",
      "Epoch 307/1000\n",
      "20/20 - 0s - loss: 0.2723 - accuracy: 0.8844 - val_loss: 0.4109 - val_accuracy: 0.8117\n",
      "Epoch 308/1000\n",
      "20/20 - 0s - loss: 0.2806 - accuracy: 0.8779 - val_loss: 0.3464 - val_accuracy: 0.8636\n",
      "Epoch 309/1000\n",
      "20/20 - 0s - loss: 0.2758 - accuracy: 0.8974 - val_loss: 0.3907 - val_accuracy: 0.8312\n",
      "Epoch 310/1000\n",
      "20/20 - 0s - loss: 0.2808 - accuracy: 0.8860 - val_loss: 0.3868 - val_accuracy: 0.8312\n",
      "Epoch 311/1000\n",
      "20/20 - 0s - loss: 0.2756 - accuracy: 0.8827 - val_loss: 0.3654 - val_accuracy: 0.8377\n",
      "Epoch 312/1000\n",
      "20/20 - 0s - loss: 0.2739 - accuracy: 0.8844 - val_loss: 0.3786 - val_accuracy: 0.8312\n",
      "Epoch 313/1000\n",
      "20/20 - 0s - loss: 0.2770 - accuracy: 0.8876 - val_loss: 0.3959 - val_accuracy: 0.8312\n",
      "Epoch 314/1000\n",
      "20/20 - 0s - loss: 0.2707 - accuracy: 0.8941 - val_loss: 0.3759 - val_accuracy: 0.8312\n",
      "Epoch 315/1000\n",
      "20/20 - 0s - loss: 0.2866 - accuracy: 0.8827 - val_loss: 0.3694 - val_accuracy: 0.8442\n",
      "Epoch 316/1000\n",
      "20/20 - 0s - loss: 0.2738 - accuracy: 0.8909 - val_loss: 0.3598 - val_accuracy: 0.8701\n",
      "Epoch 317/1000\n",
      "20/20 - 0s - loss: 0.2722 - accuracy: 0.8876 - val_loss: 0.4313 - val_accuracy: 0.8052\n",
      "Epoch 318/1000\n",
      "20/20 - 0s - loss: 0.2761 - accuracy: 0.8844 - val_loss: 0.3835 - val_accuracy: 0.8377\n",
      "Epoch 319/1000\n",
      "20/20 - 0s - loss: 0.2813 - accuracy: 0.8811 - val_loss: 0.4050 - val_accuracy: 0.8182\n",
      "Epoch 320/1000\n",
      "20/20 - 0s - loss: 0.2833 - accuracy: 0.8811 - val_loss: 0.3723 - val_accuracy: 0.8506\n",
      "Epoch 321/1000\n",
      "20/20 - 0s - loss: 0.2773 - accuracy: 0.8925 - val_loss: 0.3735 - val_accuracy: 0.8442\n",
      "Epoch 322/1000\n",
      "20/20 - 0s - loss: 0.2848 - accuracy: 0.8730 - val_loss: 0.3930 - val_accuracy: 0.8377\n",
      "Epoch 323/1000\n",
      "20/20 - 0s - loss: 0.2831 - accuracy: 0.8762 - val_loss: 0.3685 - val_accuracy: 0.8571\n",
      "Epoch 324/1000\n",
      "20/20 - 0s - loss: 0.2761 - accuracy: 0.8844 - val_loss: 0.3560 - val_accuracy: 0.8571\n",
      "Epoch 325/1000\n",
      "20/20 - 0s - loss: 0.2830 - accuracy: 0.8795 - val_loss: 0.3702 - val_accuracy: 0.8442\n"
     ]
    },
    {
     "name": "stdout",
     "output_type": "stream",
     "text": [
      "Epoch 326/1000\n",
      "20/20 - 0s - loss: 0.2816 - accuracy: 0.8860 - val_loss: 0.3964 - val_accuracy: 0.8312\n",
      "Epoch 327/1000\n",
      "20/20 - 0s - loss: 0.2810 - accuracy: 0.8795 - val_loss: 0.3688 - val_accuracy: 0.8442\n",
      "Epoch 328/1000\n",
      "20/20 - 0s - loss: 0.2790 - accuracy: 0.8811 - val_loss: 0.3627 - val_accuracy: 0.8571\n",
      "Epoch 329/1000\n",
      "20/20 - 0s - loss: 0.2759 - accuracy: 0.8876 - val_loss: 0.3873 - val_accuracy: 0.8117\n",
      "Epoch 330/1000\n",
      "20/20 - 0s - loss: 0.2685 - accuracy: 0.8909 - val_loss: 0.3794 - val_accuracy: 0.8442\n",
      "Epoch 331/1000\n",
      "20/20 - 0s - loss: 0.2796 - accuracy: 0.8827 - val_loss: 0.3602 - val_accuracy: 0.8506\n",
      "Epoch 332/1000\n",
      "20/20 - 0s - loss: 0.2740 - accuracy: 0.8909 - val_loss: 0.3668 - val_accuracy: 0.8506\n",
      "Epoch 333/1000\n",
      "20/20 - 0s - loss: 0.2741 - accuracy: 0.8844 - val_loss: 0.3909 - val_accuracy: 0.8182\n",
      "Epoch 334/1000\n",
      "20/20 - 0s - loss: 0.2761 - accuracy: 0.8893 - val_loss: 0.3664 - val_accuracy: 0.8442\n",
      "Epoch 335/1000\n",
      "20/20 - 0s - loss: 0.2753 - accuracy: 0.8974 - val_loss: 0.4054 - val_accuracy: 0.8117\n",
      "Epoch 336/1000\n",
      "20/20 - 0s - loss: 0.2753 - accuracy: 0.8925 - val_loss: 0.3724 - val_accuracy: 0.8442\n",
      "Epoch 337/1000\n",
      "20/20 - 0s - loss: 0.2716 - accuracy: 0.8958 - val_loss: 0.3638 - val_accuracy: 0.8442\n",
      "Epoch 338/1000\n",
      "20/20 - 0s - loss: 0.2770 - accuracy: 0.8876 - val_loss: 0.3676 - val_accuracy: 0.8312\n",
      "Epoch 339/1000\n",
      "20/20 - 0s - loss: 0.2728 - accuracy: 0.8844 - val_loss: 0.3597 - val_accuracy: 0.8442\n",
      "Epoch 340/1000\n",
      "20/20 - 0s - loss: 0.2784 - accuracy: 0.8893 - val_loss: 0.3626 - val_accuracy: 0.8442\n",
      "Epoch 341/1000\n",
      "20/20 - 0s - loss: 0.2752 - accuracy: 0.8827 - val_loss: 0.3900 - val_accuracy: 0.8442\n",
      "Epoch 342/1000\n",
      "20/20 - 0s - loss: 0.2745 - accuracy: 0.8893 - val_loss: 0.3901 - val_accuracy: 0.8377\n",
      "Epoch 343/1000\n",
      "20/20 - 0s - loss: 0.2751 - accuracy: 0.8941 - val_loss: 0.3854 - val_accuracy: 0.8312\n",
      "Epoch 344/1000\n",
      "20/20 - 0s - loss: 0.2719 - accuracy: 0.8990 - val_loss: 0.4048 - val_accuracy: 0.8117\n",
      "Epoch 345/1000\n",
      "20/20 - 0s - loss: 0.2744 - accuracy: 0.8941 - val_loss: 0.4059 - val_accuracy: 0.8442\n",
      "Epoch 346/1000\n",
      "20/20 - 0s - loss: 0.2753 - accuracy: 0.8844 - val_loss: 0.3583 - val_accuracy: 0.8506\n",
      "Epoch 347/1000\n",
      "20/20 - 0s - loss: 0.2749 - accuracy: 0.8860 - val_loss: 0.3835 - val_accuracy: 0.8377\n",
      "Epoch 348/1000\n",
      "20/20 - 0s - loss: 0.2737 - accuracy: 0.8909 - val_loss: 0.3801 - val_accuracy: 0.8442\n",
      "Epoch 349/1000\n",
      "20/20 - 0s - loss: 0.2739 - accuracy: 0.8762 - val_loss: 0.3484 - val_accuracy: 0.8442\n",
      "Epoch 350/1000\n",
      "20/20 - 1s - loss: 0.2779 - accuracy: 0.8795 - val_loss: 0.3601 - val_accuracy: 0.8506\n",
      "Epoch 351/1000\n",
      "20/20 - 0s - loss: 0.2749 - accuracy: 0.8974 - val_loss: 0.3867 - val_accuracy: 0.8377\n",
      "Epoch 352/1000\n",
      "20/20 - 0s - loss: 0.2749 - accuracy: 0.8909 - val_loss: 0.3701 - val_accuracy: 0.8636\n",
      "Epoch 353/1000\n",
      "20/20 - 0s - loss: 0.2693 - accuracy: 0.8893 - val_loss: 0.3699 - val_accuracy: 0.8701\n",
      "Epoch 354/1000\n",
      "20/20 - 0s - loss: 0.2802 - accuracy: 0.8860 - val_loss: 0.3858 - val_accuracy: 0.7987\n",
      "Epoch 355/1000\n",
      "20/20 - 0s - loss: 0.2724 - accuracy: 0.8909 - val_loss: 0.4166 - val_accuracy: 0.7987\n",
      "Epoch 356/1000\n",
      "20/20 - 0s - loss: 0.2746 - accuracy: 0.8925 - val_loss: 0.3908 - val_accuracy: 0.8506\n",
      "Epoch 357/1000\n",
      "20/20 - 0s - loss: 0.2736 - accuracy: 0.8860 - val_loss: 0.3860 - val_accuracy: 0.8442\n",
      "Epoch 358/1000\n",
      "20/20 - 0s - loss: 0.2741 - accuracy: 0.8860 - val_loss: 0.4354 - val_accuracy: 0.8312\n",
      "Epoch 359/1000\n",
      "20/20 - 0s - loss: 0.2764 - accuracy: 0.8941 - val_loss: 0.3724 - val_accuracy: 0.8571\n",
      "Epoch 360/1000\n",
      "20/20 - 0s - loss: 0.2688 - accuracy: 0.8974 - val_loss: 0.3525 - val_accuracy: 0.8571\n",
      "Epoch 361/1000\n",
      "20/20 - 0s - loss: 0.2698 - accuracy: 0.8909 - val_loss: 0.4158 - val_accuracy: 0.8247\n",
      "Epoch 362/1000\n",
      "20/20 - 0s - loss: 0.2680 - accuracy: 0.8974 - val_loss: 0.3958 - val_accuracy: 0.8506\n",
      "Epoch 363/1000\n",
      "20/20 - 0s - loss: 0.2768 - accuracy: 0.8844 - val_loss: 0.4062 - val_accuracy: 0.8182\n",
      "Epoch 364/1000\n",
      "20/20 - 0s - loss: 0.2756 - accuracy: 0.8958 - val_loss: 0.3656 - val_accuracy: 0.8442\n",
      "Epoch 365/1000\n",
      "20/20 - 0s - loss: 0.2763 - accuracy: 0.8844 - val_loss: 0.3597 - val_accuracy: 0.8636\n",
      "Epoch 366/1000\n",
      "20/20 - 0s - loss: 0.2767 - accuracy: 0.8909 - val_loss: 0.4412 - val_accuracy: 0.8312\n",
      "Epoch 367/1000\n",
      "20/20 - 0s - loss: 0.2738 - accuracy: 0.8876 - val_loss: 0.4046 - val_accuracy: 0.8377\n",
      "Epoch 368/1000\n",
      "20/20 - 0s - loss: 0.2780 - accuracy: 0.8860 - val_loss: 0.3721 - val_accuracy: 0.8506\n",
      "Epoch 369/1000\n",
      "20/20 - 0s - loss: 0.2691 - accuracy: 0.8925 - val_loss: 0.4011 - val_accuracy: 0.8312\n",
      "Epoch 370/1000\n",
      "20/20 - 0s - loss: 0.2781 - accuracy: 0.8893 - val_loss: 0.4436 - val_accuracy: 0.8182\n",
      "Epoch 371/1000\n",
      "20/20 - 0s - loss: 0.2760 - accuracy: 0.8860 - val_loss: 0.3844 - val_accuracy: 0.8506\n",
      "Epoch 372/1000\n",
      "20/20 - 0s - loss: 0.2800 - accuracy: 0.8860 - val_loss: 0.3648 - val_accuracy: 0.8506\n",
      "Epoch 373/1000\n",
      "20/20 - 0s - loss: 0.2731 - accuracy: 0.8941 - val_loss: 0.4201 - val_accuracy: 0.8312\n",
      "Epoch 374/1000\n",
      "20/20 - 0s - loss: 0.2764 - accuracy: 0.8893 - val_loss: 0.3804 - val_accuracy: 0.8377\n",
      "Epoch 375/1000\n",
      "20/20 - 0s - loss: 0.2766 - accuracy: 0.8876 - val_loss: 0.3735 - val_accuracy: 0.8506\n",
      "Epoch 376/1000\n",
      "20/20 - 0s - loss: 0.2721 - accuracy: 0.8893 - val_loss: 0.3701 - val_accuracy: 0.8571\n",
      "Epoch 377/1000\n",
      "20/20 - 0s - loss: 0.2754 - accuracy: 0.8876 - val_loss: 0.4016 - val_accuracy: 0.8247\n",
      "Epoch 378/1000\n",
      "20/20 - 0s - loss: 0.2727 - accuracy: 0.8925 - val_loss: 0.3794 - val_accuracy: 0.8506\n",
      "Epoch 379/1000\n",
      "20/20 - 0s - loss: 0.2791 - accuracy: 0.8795 - val_loss: 0.3909 - val_accuracy: 0.8442\n",
      "Epoch 380/1000\n",
      "20/20 - 0s - loss: 0.2679 - accuracy: 0.8925 - val_loss: 0.3691 - val_accuracy: 0.8701\n",
      "Epoch 381/1000\n",
      "20/20 - 0s - loss: 0.2778 - accuracy: 0.8876 - val_loss: 0.4012 - val_accuracy: 0.8377\n",
      "Epoch 382/1000\n",
      "20/20 - 0s - loss: 0.2769 - accuracy: 0.8893 - val_loss: 0.3810 - val_accuracy: 0.8506\n",
      "Epoch 383/1000\n",
      "20/20 - 0s - loss: 0.2762 - accuracy: 0.8860 - val_loss: 0.3869 - val_accuracy: 0.8182\n",
      "Epoch 384/1000\n",
      "20/20 - 0s - loss: 0.2740 - accuracy: 0.8876 - val_loss: 0.3796 - val_accuracy: 0.8377\n",
      "Epoch 385/1000\n",
      "20/20 - 0s - loss: 0.2788 - accuracy: 0.8909 - val_loss: 0.3633 - val_accuracy: 0.8442\n",
      "Epoch 386/1000\n",
      "20/20 - 0s - loss: 0.2757 - accuracy: 0.8909 - val_loss: 0.4134 - val_accuracy: 0.8182\n",
      "Epoch 387/1000\n",
      "20/20 - 0s - loss: 0.2790 - accuracy: 0.8925 - val_loss: 0.4064 - val_accuracy: 0.8117\n",
      "Epoch 388/1000\n",
      "20/20 - 0s - loss: 0.2744 - accuracy: 0.8860 - val_loss: 0.4072 - val_accuracy: 0.8247\n",
      "Epoch 389/1000\n",
      "20/20 - 0s - loss: 0.2774 - accuracy: 0.8844 - val_loss: 0.3884 - val_accuracy: 0.8506\n",
      "Epoch 390/1000\n",
      "20/20 - 0s - loss: 0.2794 - accuracy: 0.8844 - val_loss: 0.3822 - val_accuracy: 0.8377\n",
      "Epoch 391/1000\n",
      "20/20 - 0s - loss: 0.2758 - accuracy: 0.8860 - val_loss: 0.3736 - val_accuracy: 0.8312\n",
      "Epoch 392/1000\n",
      "20/20 - 0s - loss: 0.2745 - accuracy: 0.8795 - val_loss: 0.3526 - val_accuracy: 0.8571\n",
      "Epoch 393/1000\n",
      "20/20 - 0s - loss: 0.2688 - accuracy: 0.8844 - val_loss: 0.3605 - val_accuracy: 0.8442\n",
      "Epoch 394/1000\n",
      "20/20 - 0s - loss: 0.2737 - accuracy: 0.8827 - val_loss: 0.3861 - val_accuracy: 0.8442\n",
      "Epoch 395/1000\n",
      "20/20 - 0s - loss: 0.2815 - accuracy: 0.8827 - val_loss: 0.3755 - val_accuracy: 0.8442\n",
      "Epoch 396/1000\n",
      "20/20 - 0s - loss: 0.2797 - accuracy: 0.8844 - val_loss: 0.3782 - val_accuracy: 0.8377\n",
      "Epoch 397/1000\n",
      "20/20 - 0s - loss: 0.2750 - accuracy: 0.8893 - val_loss: 0.3871 - val_accuracy: 0.8247\n",
      "Epoch 398/1000\n",
      "20/20 - 0s - loss: 0.2778 - accuracy: 0.8893 - val_loss: 0.3745 - val_accuracy: 0.8377\n",
      "Epoch 399/1000\n",
      "20/20 - 0s - loss: 0.2700 - accuracy: 0.8893 - val_loss: 0.3566 - val_accuracy: 0.8571\n",
      "Epoch 400/1000\n",
      "20/20 - 0s - loss: 0.2767 - accuracy: 0.8893 - val_loss: 0.3783 - val_accuracy: 0.8571\n",
      "Epoch 401/1000\n",
      "20/20 - 0s - loss: 0.2755 - accuracy: 0.8909 - val_loss: 0.3706 - val_accuracy: 0.8506\n",
      "Epoch 402/1000\n",
      "20/20 - 0s - loss: 0.2783 - accuracy: 0.8860 - val_loss: 0.3687 - val_accuracy: 0.8636\n",
      "Epoch 403/1000\n",
      "20/20 - 0s - loss: 0.2712 - accuracy: 0.8860 - val_loss: 0.3967 - val_accuracy: 0.8312\n",
      "Epoch 404/1000\n",
      "20/20 - 0s - loss: 0.2767 - accuracy: 0.8893 - val_loss: 0.3786 - val_accuracy: 0.8312\n",
      "Epoch 405/1000\n",
      "20/20 - 0s - loss: 0.2753 - accuracy: 0.8844 - val_loss: 0.3692 - val_accuracy: 0.8312\n",
      "Epoch 406/1000\n",
      "20/20 - 0s - loss: 0.2791 - accuracy: 0.8844 - val_loss: 0.3901 - val_accuracy: 0.8377\n"
     ]
    },
    {
     "name": "stdout",
     "output_type": "stream",
     "text": [
      "Epoch 407/1000\n",
      "20/20 - 0s - loss: 0.2723 - accuracy: 0.8925 - val_loss: 0.3677 - val_accuracy: 0.8506\n",
      "Epoch 408/1000\n",
      "20/20 - 0s - loss: 0.2762 - accuracy: 0.8941 - val_loss: 0.3484 - val_accuracy: 0.8506\n",
      "Epoch 409/1000\n",
      "20/20 - 1s - loss: 0.2711 - accuracy: 0.8974 - val_loss: 0.3557 - val_accuracy: 0.8571\n",
      "Epoch 410/1000\n",
      "20/20 - 0s - loss: 0.2720 - accuracy: 0.8925 - val_loss: 0.4221 - val_accuracy: 0.8377\n",
      "Epoch 411/1000\n",
      "20/20 - 0s - loss: 0.2747 - accuracy: 0.8876 - val_loss: 0.3661 - val_accuracy: 0.8506\n",
      "Epoch 412/1000\n",
      "20/20 - 0s - loss: 0.2716 - accuracy: 0.9023 - val_loss: 0.3913 - val_accuracy: 0.8442\n",
      "Epoch 413/1000\n",
      "20/20 - 0s - loss: 0.2720 - accuracy: 0.8876 - val_loss: 0.3753 - val_accuracy: 0.8442\n",
      "Epoch 414/1000\n",
      "20/20 - 0s - loss: 0.2715 - accuracy: 0.8925 - val_loss: 0.4689 - val_accuracy: 0.8182\n",
      "Epoch 415/1000\n",
      "20/20 - 0s - loss: 0.2777 - accuracy: 0.8844 - val_loss: 0.3836 - val_accuracy: 0.8377\n",
      "Epoch 416/1000\n",
      "20/20 - 0s - loss: 0.2725 - accuracy: 0.8909 - val_loss: 0.4033 - val_accuracy: 0.8312\n",
      "Epoch 417/1000\n",
      "20/20 - 0s - loss: 0.2781 - accuracy: 0.8860 - val_loss: 0.3748 - val_accuracy: 0.8377\n",
      "Epoch 418/1000\n",
      "20/20 - 0s - loss: 0.2763 - accuracy: 0.8925 - val_loss: 0.3717 - val_accuracy: 0.8442\n",
      "Epoch 419/1000\n",
      "20/20 - 0s - loss: 0.2759 - accuracy: 0.8795 - val_loss: 0.3700 - val_accuracy: 0.8442\n",
      "Epoch 420/1000\n",
      "20/20 - 0s - loss: 0.2765 - accuracy: 0.8844 - val_loss: 0.3818 - val_accuracy: 0.8442\n",
      "Epoch 421/1000\n",
      "20/20 - 0s - loss: 0.2775 - accuracy: 0.8860 - val_loss: 0.3829 - val_accuracy: 0.8442\n",
      "Epoch 422/1000\n",
      "20/20 - 0s - loss: 0.2844 - accuracy: 0.8893 - val_loss: 0.3707 - val_accuracy: 0.8506\n",
      "Epoch 423/1000\n",
      "20/20 - 0s - loss: 0.2659 - accuracy: 0.8974 - val_loss: 0.3581 - val_accuracy: 0.8571\n",
      "Epoch 424/1000\n",
      "20/20 - 0s - loss: 0.2725 - accuracy: 0.8909 - val_loss: 0.3960 - val_accuracy: 0.8312\n",
      "Epoch 425/1000\n",
      "20/20 - 0s - loss: 0.2714 - accuracy: 0.8909 - val_loss: 0.3613 - val_accuracy: 0.8636\n",
      "Epoch 426/1000\n",
      "20/20 - 0s - loss: 0.2713 - accuracy: 0.8941 - val_loss: 0.3705 - val_accuracy: 0.8506\n",
      "Epoch 427/1000\n",
      "20/20 - 0s - loss: 0.2821 - accuracy: 0.8893 - val_loss: 0.4012 - val_accuracy: 0.8571\n",
      "Epoch 428/1000\n",
      "20/20 - 0s - loss: 0.2770 - accuracy: 0.8876 - val_loss: 0.3644 - val_accuracy: 0.8506\n",
      "Epoch 429/1000\n",
      "20/20 - 0s - loss: 0.2796 - accuracy: 0.8893 - val_loss: 0.3565 - val_accuracy: 0.8506\n",
      "Epoch 430/1000\n",
      "20/20 - 0s - loss: 0.2776 - accuracy: 0.8811 - val_loss: 0.3675 - val_accuracy: 0.8506\n",
      "Epoch 431/1000\n",
      "20/20 - 0s - loss: 0.2741 - accuracy: 0.8909 - val_loss: 0.3813 - val_accuracy: 0.8442\n",
      "Epoch 432/1000\n",
      "20/20 - 0s - loss: 0.2643 - accuracy: 0.8925 - val_loss: 0.3910 - val_accuracy: 0.8377\n",
      "Epoch 433/1000\n",
      "20/20 - 0s - loss: 0.2700 - accuracy: 0.8958 - val_loss: 0.4033 - val_accuracy: 0.8117\n",
      "Epoch 434/1000\n",
      "20/20 - 0s - loss: 0.2716 - accuracy: 0.8909 - val_loss: 0.3834 - val_accuracy: 0.8312\n",
      "Epoch 435/1000\n",
      "20/20 - 0s - loss: 0.2715 - accuracy: 0.8876 - val_loss: 0.3660 - val_accuracy: 0.8636\n",
      "Epoch 436/1000\n",
      "20/20 - 0s - loss: 0.2694 - accuracy: 0.8925 - val_loss: 0.3998 - val_accuracy: 0.8312\n",
      "Epoch 437/1000\n",
      "20/20 - 0s - loss: 0.2729 - accuracy: 0.8958 - val_loss: 0.4134 - val_accuracy: 0.8312\n",
      "Epoch 438/1000\n",
      "20/20 - 0s - loss: 0.2727 - accuracy: 0.8941 - val_loss: 0.3970 - val_accuracy: 0.8182\n",
      "Epoch 439/1000\n",
      "20/20 - 0s - loss: 0.2779 - accuracy: 0.8811 - val_loss: 0.3777 - val_accuracy: 0.8377\n",
      "Epoch 440/1000\n",
      "20/20 - 0s - loss: 0.2659 - accuracy: 0.8974 - val_loss: 0.3667 - val_accuracy: 0.8442\n",
      "Epoch 441/1000\n",
      "20/20 - 0s - loss: 0.2707 - accuracy: 0.8909 - val_loss: 0.4272 - val_accuracy: 0.8182\n",
      "Epoch 442/1000\n",
      "20/20 - 0s - loss: 0.2840 - accuracy: 0.8893 - val_loss: 0.3814 - val_accuracy: 0.8247\n",
      "Epoch 443/1000\n",
      "20/20 - 0s - loss: 0.2701 - accuracy: 0.8876 - val_loss: 0.3884 - val_accuracy: 0.8442\n",
      "Epoch 444/1000\n",
      "20/20 - 0s - loss: 0.2816 - accuracy: 0.8811 - val_loss: 0.3505 - val_accuracy: 0.8636\n",
      "Epoch 445/1000\n",
      "20/20 - 0s - loss: 0.2760 - accuracy: 0.8958 - val_loss: 0.3848 - val_accuracy: 0.8312\n",
      "Epoch 446/1000\n",
      "20/20 - 0s - loss: 0.2711 - accuracy: 0.8941 - val_loss: 0.4136 - val_accuracy: 0.8247\n",
      "Epoch 447/1000\n",
      "20/20 - 0s - loss: 0.2756 - accuracy: 0.8925 - val_loss: 0.3672 - val_accuracy: 0.8312\n",
      "Epoch 448/1000\n",
      "20/20 - 0s - loss: 0.2662 - accuracy: 0.8893 - val_loss: 0.4177 - val_accuracy: 0.8442\n",
      "Epoch 449/1000\n",
      "20/20 - 0s - loss: 0.2767 - accuracy: 0.8860 - val_loss: 0.4211 - val_accuracy: 0.8182\n",
      "Epoch 450/1000\n",
      "20/20 - 0s - loss: 0.2704 - accuracy: 0.8893 - val_loss: 0.3909 - val_accuracy: 0.8377\n",
      "Epoch 451/1000\n",
      "20/20 - 0s - loss: 0.2782 - accuracy: 0.8958 - val_loss: 0.4478 - val_accuracy: 0.8117\n",
      "Epoch 452/1000\n",
      "20/20 - 0s - loss: 0.2757 - accuracy: 0.8909 - val_loss: 0.3830 - val_accuracy: 0.8182\n",
      "Epoch 453/1000\n",
      "20/20 - 0s - loss: 0.2744 - accuracy: 0.8909 - val_loss: 0.3861 - val_accuracy: 0.8182\n",
      "Epoch 454/1000\n",
      "20/20 - 0s - loss: 0.2759 - accuracy: 0.8844 - val_loss: 0.4426 - val_accuracy: 0.8312\n",
      "Epoch 455/1000\n",
      "20/20 - 0s - loss: 0.2794 - accuracy: 0.8925 - val_loss: 0.3769 - val_accuracy: 0.8247\n",
      "Epoch 456/1000\n",
      "20/20 - 0s - loss: 0.2657 - accuracy: 0.8974 - val_loss: 0.3811 - val_accuracy: 0.8636\n",
      "Epoch 457/1000\n",
      "20/20 - 0s - loss: 0.2727 - accuracy: 0.8827 - val_loss: 0.3967 - val_accuracy: 0.8247\n",
      "Epoch 458/1000\n",
      "20/20 - 0s - loss: 0.2731 - accuracy: 0.8860 - val_loss: 0.3728 - val_accuracy: 0.8377\n",
      "Epoch 459/1000\n",
      "20/20 - 0s - loss: 0.2723 - accuracy: 0.8909 - val_loss: 0.3820 - val_accuracy: 0.8377\n",
      "Epoch 460/1000\n",
      "20/20 - 0s - loss: 0.2744 - accuracy: 0.8941 - val_loss: 0.3769 - val_accuracy: 0.8377\n",
      "Epoch 461/1000\n",
      "20/20 - 0s - loss: 0.2746 - accuracy: 0.8844 - val_loss: 0.3584 - val_accuracy: 0.8571\n",
      "Epoch 462/1000\n",
      "20/20 - 0s - loss: 0.2751 - accuracy: 0.8876 - val_loss: 0.3810 - val_accuracy: 0.8571\n",
      "Epoch 463/1000\n",
      "20/20 - 0s - loss: 0.2716 - accuracy: 0.8844 - val_loss: 0.4088 - val_accuracy: 0.8506\n",
      "Epoch 464/1000\n",
      "20/20 - 0s - loss: 0.2742 - accuracy: 0.8844 - val_loss: 0.3582 - val_accuracy: 0.8506\n",
      "Epoch 465/1000\n",
      "20/20 - 0s - loss: 0.2741 - accuracy: 0.8974 - val_loss: 0.4190 - val_accuracy: 0.8182\n",
      "Epoch 466/1000\n",
      "20/20 - 0s - loss: 0.2763 - accuracy: 0.8893 - val_loss: 0.3717 - val_accuracy: 0.8636\n",
      "Epoch 467/1000\n",
      "20/20 - 0s - loss: 0.2738 - accuracy: 0.8893 - val_loss: 0.4385 - val_accuracy: 0.8312\n",
      "Epoch 468/1000\n",
      "20/20 - 0s - loss: 0.2647 - accuracy: 0.8974 - val_loss: 0.3741 - val_accuracy: 0.8701\n",
      "Epoch 469/1000\n",
      "20/20 - 0s - loss: 0.2814 - accuracy: 0.8893 - val_loss: 0.3650 - val_accuracy: 0.8571\n",
      "Epoch 470/1000\n",
      "20/20 - 0s - loss: 0.2789 - accuracy: 0.8844 - val_loss: 0.3549 - val_accuracy: 0.8571\n",
      "Epoch 471/1000\n",
      "20/20 - 0s - loss: 0.2672 - accuracy: 0.8941 - val_loss: 0.3751 - val_accuracy: 0.8442\n",
      "Epoch 472/1000\n",
      "20/20 - 0s - loss: 0.2716 - accuracy: 0.8893 - val_loss: 0.3642 - val_accuracy: 0.8571\n",
      "Epoch 473/1000\n",
      "20/20 - 0s - loss: 0.2782 - accuracy: 0.8860 - val_loss: 0.4205 - val_accuracy: 0.8247\n",
      "Epoch 474/1000\n",
      "20/20 - 0s - loss: 0.2645 - accuracy: 0.9007 - val_loss: 0.3987 - val_accuracy: 0.8377\n",
      "Epoch 475/1000\n",
      "20/20 - 0s - loss: 0.2782 - accuracy: 0.8844 - val_loss: 0.3746 - val_accuracy: 0.8506\n",
      "Epoch 476/1000\n",
      "20/20 - 0s - loss: 0.2711 - accuracy: 0.8876 - val_loss: 0.3560 - val_accuracy: 0.8636\n",
      "Epoch 477/1000\n",
      "20/20 - 0s - loss: 0.2716 - accuracy: 0.8925 - val_loss: 0.3848 - val_accuracy: 0.8247\n",
      "Epoch 478/1000\n",
      "20/20 - 0s - loss: 0.2809 - accuracy: 0.8893 - val_loss: 0.3772 - val_accuracy: 0.8377\n",
      "Epoch 479/1000\n",
      "20/20 - 0s - loss: 0.2720 - accuracy: 0.8941 - val_loss: 0.3755 - val_accuracy: 0.8182\n",
      "Epoch 480/1000\n",
      "20/20 - 0s - loss: 0.2784 - accuracy: 0.8860 - val_loss: 0.3675 - val_accuracy: 0.8571\n",
      "Epoch 481/1000\n",
      "20/20 - 0s - loss: 0.2724 - accuracy: 0.8909 - val_loss: 0.3621 - val_accuracy: 0.8377\n",
      "Epoch 482/1000\n",
      "20/20 - 0s - loss: 0.2749 - accuracy: 0.8893 - val_loss: 0.3932 - val_accuracy: 0.8377\n",
      "Epoch 483/1000\n",
      "20/20 - 0s - loss: 0.2756 - accuracy: 0.8860 - val_loss: 0.3753 - val_accuracy: 0.8312\n",
      "Epoch 484/1000\n",
      "20/20 - 0s - loss: 0.2692 - accuracy: 0.8925 - val_loss: 0.3770 - val_accuracy: 0.8377\n",
      "Epoch 485/1000\n",
      "20/20 - 0s - loss: 0.2703 - accuracy: 0.8876 - val_loss: 0.3806 - val_accuracy: 0.8377\n",
      "Epoch 486/1000\n",
      "20/20 - 0s - loss: 0.2688 - accuracy: 0.9007 - val_loss: 0.3649 - val_accuracy: 0.8636\n",
      "Epoch 487/1000\n",
      "20/20 - 0s - loss: 0.2734 - accuracy: 0.8974 - val_loss: 0.3771 - val_accuracy: 0.8377\n"
     ]
    },
    {
     "name": "stdout",
     "output_type": "stream",
     "text": [
      "Epoch 488/1000\n",
      "20/20 - 0s - loss: 0.2766 - accuracy: 0.8860 - val_loss: 0.4152 - val_accuracy: 0.8247\n",
      "Epoch 489/1000\n",
      "20/20 - 0s - loss: 0.2799 - accuracy: 0.8860 - val_loss: 0.3760 - val_accuracy: 0.8506\n",
      "Epoch 490/1000\n",
      "20/20 - 0s - loss: 0.2719 - accuracy: 0.8893 - val_loss: 0.3969 - val_accuracy: 0.8377\n",
      "Epoch 491/1000\n",
      "20/20 - 0s - loss: 0.2688 - accuracy: 0.8958 - val_loss: 0.4166 - val_accuracy: 0.8377\n",
      "Epoch 492/1000\n",
      "20/20 - 0s - loss: 0.2720 - accuracy: 0.8827 - val_loss: 0.3683 - val_accuracy: 0.8636\n",
      "Epoch 493/1000\n",
      "20/20 - 0s - loss: 0.2648 - accuracy: 0.9007 - val_loss: 0.4259 - val_accuracy: 0.8247\n",
      "Epoch 494/1000\n",
      "20/20 - 0s - loss: 0.2707 - accuracy: 0.8909 - val_loss: 0.3823 - val_accuracy: 0.8247\n",
      "Epoch 495/1000\n",
      "20/20 - 0s - loss: 0.2737 - accuracy: 0.8909 - val_loss: 0.4255 - val_accuracy: 0.8442\n",
      "Epoch 496/1000\n",
      "20/20 - 0s - loss: 0.2661 - accuracy: 0.8974 - val_loss: 0.3960 - val_accuracy: 0.8312\n",
      "Epoch 497/1000\n",
      "20/20 - 0s - loss: 0.2725 - accuracy: 0.8860 - val_loss: 0.3837 - val_accuracy: 0.8247\n",
      "Epoch 498/1000\n",
      "20/20 - 0s - loss: 0.2672 - accuracy: 0.8860 - val_loss: 0.3685 - val_accuracy: 0.8636\n",
      "Epoch 499/1000\n",
      "20/20 - 0s - loss: 0.2776 - accuracy: 0.8844 - val_loss: 0.3709 - val_accuracy: 0.8571\n",
      "Epoch 500/1000\n",
      "20/20 - 0s - loss: 0.2836 - accuracy: 0.8811 - val_loss: 0.3770 - val_accuracy: 0.8377\n",
      "Epoch 501/1000\n",
      "20/20 - 0s - loss: 0.2719 - accuracy: 0.8893 - val_loss: 0.3642 - val_accuracy: 0.8377\n",
      "Epoch 502/1000\n",
      "20/20 - 0s - loss: 0.2725 - accuracy: 0.8958 - val_loss: 0.3750 - val_accuracy: 0.8701\n",
      "Epoch 503/1000\n",
      "20/20 - 0s - loss: 0.2705 - accuracy: 0.8876 - val_loss: 0.3783 - val_accuracy: 0.8312\n",
      "Epoch 504/1000\n",
      "20/20 - 0s - loss: 0.2757 - accuracy: 0.8876 - val_loss: 0.3920 - val_accuracy: 0.8377\n",
      "Epoch 505/1000\n",
      "20/20 - 0s - loss: 0.2726 - accuracy: 0.8925 - val_loss: 0.3907 - val_accuracy: 0.8312\n",
      "Epoch 506/1000\n",
      "20/20 - 0s - loss: 0.2679 - accuracy: 0.8974 - val_loss: 0.3718 - val_accuracy: 0.8506\n",
      "Epoch 507/1000\n",
      "20/20 - 0s - loss: 0.2632 - accuracy: 0.8958 - val_loss: 0.4181 - val_accuracy: 0.8312\n",
      "Epoch 508/1000\n",
      "20/20 - 0s - loss: 0.2706 - accuracy: 0.8893 - val_loss: 0.4247 - val_accuracy: 0.8052\n",
      "Epoch 509/1000\n",
      "20/20 - 0s - loss: 0.2708 - accuracy: 0.8876 - val_loss: 0.3799 - val_accuracy: 0.8377\n",
      "Epoch 510/1000\n",
      "20/20 - 0s - loss: 0.2762 - accuracy: 0.9007 - val_loss: 0.3623 - val_accuracy: 0.8571\n",
      "Epoch 511/1000\n",
      "20/20 - 0s - loss: 0.2688 - accuracy: 0.8876 - val_loss: 0.4145 - val_accuracy: 0.8312\n",
      "Epoch 512/1000\n",
      "20/20 - 0s - loss: 0.2682 - accuracy: 0.8925 - val_loss: 0.4074 - val_accuracy: 0.8247\n",
      "Epoch 513/1000\n",
      "20/20 - 0s - loss: 0.2650 - accuracy: 0.9023 - val_loss: 0.4285 - val_accuracy: 0.8052\n",
      "Epoch 514/1000\n",
      "20/20 - 0s - loss: 0.2817 - accuracy: 0.8844 - val_loss: 0.3712 - val_accuracy: 0.8571\n",
      "Epoch 515/1000\n",
      "20/20 - 0s - loss: 0.2721 - accuracy: 0.8893 - val_loss: 0.3741 - val_accuracy: 0.8701\n",
      "Epoch 516/1000\n",
      "20/20 - 0s - loss: 0.2639 - accuracy: 0.9007 - val_loss: 0.4167 - val_accuracy: 0.8312\n",
      "Epoch 517/1000\n",
      "20/20 - 0s - loss: 0.2695 - accuracy: 0.8974 - val_loss: 0.3712 - val_accuracy: 0.8506\n",
      "Epoch 518/1000\n",
      "20/20 - 0s - loss: 0.2670 - accuracy: 0.8941 - val_loss: 0.3907 - val_accuracy: 0.8312\n",
      "Epoch 519/1000\n",
      "20/20 - 0s - loss: 0.2724 - accuracy: 0.8941 - val_loss: 0.3951 - val_accuracy: 0.8377\n",
      "Epoch 520/1000\n",
      "20/20 - 0s - loss: 0.2672 - accuracy: 0.8958 - val_loss: 0.4213 - val_accuracy: 0.8052\n",
      "Epoch 521/1000\n",
      "20/20 - 0s - loss: 0.2702 - accuracy: 0.8941 - val_loss: 0.3741 - val_accuracy: 0.8571\n",
      "Epoch 522/1000\n",
      "20/20 - 0s - loss: 0.2688 - accuracy: 0.8909 - val_loss: 0.3672 - val_accuracy: 0.8442\n",
      "Epoch 523/1000\n",
      "20/20 - 0s - loss: 0.2683 - accuracy: 0.8990 - val_loss: 0.3880 - val_accuracy: 0.8766\n",
      "Epoch 524/1000\n",
      "20/20 - 0s - loss: 0.2750 - accuracy: 0.8876 - val_loss: 0.4228 - val_accuracy: 0.8247\n",
      "Epoch 525/1000\n",
      "20/20 - 0s - loss: 0.2712 - accuracy: 0.8925 - val_loss: 0.3736 - val_accuracy: 0.8442\n",
      "Epoch 526/1000\n",
      "20/20 - 0s - loss: 0.2679 - accuracy: 0.8909 - val_loss: 0.4269 - val_accuracy: 0.8117\n",
      "Epoch 527/1000\n",
      "20/20 - 0s - loss: 0.2653 - accuracy: 0.8860 - val_loss: 0.4103 - val_accuracy: 0.8506\n",
      "Epoch 528/1000\n",
      "20/20 - 0s - loss: 0.2706 - accuracy: 0.8958 - val_loss: 0.3856 - val_accuracy: 0.8442\n",
      "Epoch 529/1000\n",
      "20/20 - 0s - loss: 0.2640 - accuracy: 0.8909 - val_loss: 0.3966 - val_accuracy: 0.8442\n",
      "Epoch 530/1000\n",
      "20/20 - 0s - loss: 0.2747 - accuracy: 0.8909 - val_loss: 0.4120 - val_accuracy: 0.8247\n",
      "Epoch 531/1000\n",
      "20/20 - 0s - loss: 0.2675 - accuracy: 0.8925 - val_loss: 0.4075 - val_accuracy: 0.8247\n",
      "Epoch 532/1000\n",
      "20/20 - 0s - loss: 0.2664 - accuracy: 0.8909 - val_loss: 0.4044 - val_accuracy: 0.8312\n",
      "Epoch 533/1000\n",
      "20/20 - 0s - loss: 0.2675 - accuracy: 0.8893 - val_loss: 0.4421 - val_accuracy: 0.8247\n",
      "Epoch 534/1000\n",
      "20/20 - 0s - loss: 0.2764 - accuracy: 0.8844 - val_loss: 0.3716 - val_accuracy: 0.8442\n",
      "Epoch 535/1000\n",
      "20/20 - 0s - loss: 0.2631 - accuracy: 0.8958 - val_loss: 0.4692 - val_accuracy: 0.7857\n",
      "Epoch 536/1000\n",
      "20/20 - 0s - loss: 0.2762 - accuracy: 0.8893 - val_loss: 0.3669 - val_accuracy: 0.8312\n",
      "Epoch 537/1000\n",
      "20/20 - 0s - loss: 0.2744 - accuracy: 0.8941 - val_loss: 0.3914 - val_accuracy: 0.8377\n",
      "Epoch 538/1000\n",
      "20/20 - 0s - loss: 0.2678 - accuracy: 0.8909 - val_loss: 0.4385 - val_accuracy: 0.8247\n",
      "Epoch 539/1000\n",
      "20/20 - 0s - loss: 0.2673 - accuracy: 0.8990 - val_loss: 0.3957 - val_accuracy: 0.8312\n",
      "Epoch 540/1000\n",
      "20/20 - 0s - loss: 0.2653 - accuracy: 0.8958 - val_loss: 0.3888 - val_accuracy: 0.8377\n",
      "Epoch 541/1000\n",
      "20/20 - 0s - loss: 0.2743 - accuracy: 0.8844 - val_loss: 0.3908 - val_accuracy: 0.8117\n",
      "Epoch 542/1000\n",
      "20/20 - 0s - loss: 0.2729 - accuracy: 0.8893 - val_loss: 0.3792 - val_accuracy: 0.8312\n",
      "Epoch 543/1000\n",
      "20/20 - 0s - loss: 0.2700 - accuracy: 0.8958 - val_loss: 0.3721 - val_accuracy: 0.8506\n",
      "Epoch 544/1000\n",
      "20/20 - 0s - loss: 0.2730 - accuracy: 0.8990 - val_loss: 0.3763 - val_accuracy: 0.8571\n",
      "Epoch 545/1000\n",
      "20/20 - 0s - loss: 0.2623 - accuracy: 0.8974 - val_loss: 0.3882 - val_accuracy: 0.8312\n",
      "Epoch 546/1000\n",
      "20/20 - 0s - loss: 0.2709 - accuracy: 0.8958 - val_loss: 0.3681 - val_accuracy: 0.8571\n",
      "Epoch 547/1000\n",
      "20/20 - 0s - loss: 0.2710 - accuracy: 0.8909 - val_loss: 0.4580 - val_accuracy: 0.7987\n",
      "Epoch 548/1000\n",
      "20/20 - 0s - loss: 0.2802 - accuracy: 0.8811 - val_loss: 0.4550 - val_accuracy: 0.7987\n",
      "Epoch 549/1000\n",
      "20/20 - 0s - loss: 0.2755 - accuracy: 0.8893 - val_loss: 0.3606 - val_accuracy: 0.8442\n",
      "Epoch 550/1000\n",
      "20/20 - 0s - loss: 0.2640 - accuracy: 0.8974 - val_loss: 0.4325 - val_accuracy: 0.8377\n",
      "Epoch 551/1000\n",
      "20/20 - 0s - loss: 0.2703 - accuracy: 0.8909 - val_loss: 0.3956 - val_accuracy: 0.8117\n",
      "Epoch 552/1000\n",
      "20/20 - 0s - loss: 0.2697 - accuracy: 0.8909 - val_loss: 0.4341 - val_accuracy: 0.7987\n",
      "Epoch 553/1000\n",
      "20/20 - 0s - loss: 0.2672 - accuracy: 0.8925 - val_loss: 0.3872 - val_accuracy: 0.8247\n",
      "Epoch 554/1000\n",
      "20/20 - 0s - loss: 0.2764 - accuracy: 0.8925 - val_loss: 0.3672 - val_accuracy: 0.8442\n",
      "Epoch 555/1000\n",
      "20/20 - 0s - loss: 0.2663 - accuracy: 0.8990 - val_loss: 0.4153 - val_accuracy: 0.8182\n",
      "Epoch 556/1000\n",
      "20/20 - 0s - loss: 0.2777 - accuracy: 0.8860 - val_loss: 0.4147 - val_accuracy: 0.8312\n",
      "Epoch 557/1000\n",
      "20/20 - 0s - loss: 0.2744 - accuracy: 0.8876 - val_loss: 0.4039 - val_accuracy: 0.8377\n",
      "Epoch 558/1000\n",
      "20/20 - 0s - loss: 0.2677 - accuracy: 0.8909 - val_loss: 0.3981 - val_accuracy: 0.8377\n",
      "Epoch 559/1000\n",
      "20/20 - 1s - loss: 0.2659 - accuracy: 0.8974 - val_loss: 0.3850 - val_accuracy: 0.8377\n",
      "Epoch 560/1000\n",
      "20/20 - 0s - loss: 0.2700 - accuracy: 0.8844 - val_loss: 0.3965 - val_accuracy: 0.8377\n",
      "Epoch 561/1000\n",
      "20/20 - 0s - loss: 0.2642 - accuracy: 0.9007 - val_loss: 0.3767 - val_accuracy: 0.8571\n",
      "Epoch 562/1000\n",
      "20/20 - 0s - loss: 0.2731 - accuracy: 0.8893 - val_loss: 0.3958 - val_accuracy: 0.8442\n",
      "Epoch 563/1000\n",
      "20/20 - 0s - loss: 0.2732 - accuracy: 0.8941 - val_loss: 0.3816 - val_accuracy: 0.8636\n",
      "Epoch 564/1000\n",
      "20/20 - 0s - loss: 0.2641 - accuracy: 0.8909 - val_loss: 0.4028 - val_accuracy: 0.8312\n",
      "Epoch 565/1000\n",
      "20/20 - 0s - loss: 0.2711 - accuracy: 0.8909 - val_loss: 0.3667 - val_accuracy: 0.8442\n",
      "Epoch 566/1000\n",
      "20/20 - 0s - loss: 0.2636 - accuracy: 0.9007 - val_loss: 0.3591 - val_accuracy: 0.8506\n",
      "Epoch 567/1000\n",
      "20/20 - 0s - loss: 0.2630 - accuracy: 0.9007 - val_loss: 0.3604 - val_accuracy: 0.8377\n",
      "Epoch 568/1000\n",
      "20/20 - 0s - loss: 0.2648 - accuracy: 0.8941 - val_loss: 0.3886 - val_accuracy: 0.8442\n"
     ]
    },
    {
     "name": "stdout",
     "output_type": "stream",
     "text": [
      "Epoch 569/1000\n",
      "20/20 - 0s - loss: 0.2658 - accuracy: 0.8925 - val_loss: 0.3985 - val_accuracy: 0.8442\n",
      "Epoch 570/1000\n",
      "20/20 - 0s - loss: 0.2704 - accuracy: 0.8909 - val_loss: 0.3811 - val_accuracy: 0.8506\n",
      "Epoch 571/1000\n",
      "20/20 - 0s - loss: 0.2706 - accuracy: 0.8941 - val_loss: 0.3940 - val_accuracy: 0.8506\n",
      "Epoch 572/1000\n",
      "20/20 - 0s - loss: 0.2685 - accuracy: 0.8974 - val_loss: 0.3974 - val_accuracy: 0.8442\n",
      "Epoch 573/1000\n",
      "20/20 - 0s - loss: 0.2765 - accuracy: 0.8925 - val_loss: 0.3808 - val_accuracy: 0.8506\n",
      "Epoch 574/1000\n",
      "20/20 - 0s - loss: 0.2643 - accuracy: 0.8990 - val_loss: 0.4618 - val_accuracy: 0.8377\n",
      "Epoch 575/1000\n",
      "20/20 - 0s - loss: 0.2694 - accuracy: 0.8941 - val_loss: 0.3742 - val_accuracy: 0.8442\n",
      "Epoch 576/1000\n",
      "20/20 - 0s - loss: 0.2737 - accuracy: 0.8909 - val_loss: 0.4089 - val_accuracy: 0.8247\n",
      "Epoch 577/1000\n",
      "20/20 - 0s - loss: 0.2638 - accuracy: 0.8974 - val_loss: 0.4182 - val_accuracy: 0.8117\n",
      "Epoch 578/1000\n",
      "20/20 - 0s - loss: 0.2814 - accuracy: 0.8893 - val_loss: 0.4274 - val_accuracy: 0.8312\n",
      "Epoch 579/1000\n",
      "20/20 - 0s - loss: 0.2837 - accuracy: 0.8893 - val_loss: 0.4085 - val_accuracy: 0.8052\n",
      "Epoch 580/1000\n",
      "20/20 - 0s - loss: 0.2678 - accuracy: 0.8941 - val_loss: 0.4321 - val_accuracy: 0.8052\n",
      "Epoch 581/1000\n",
      "20/20 - 0s - loss: 0.2695 - accuracy: 0.8990 - val_loss: 0.3775 - val_accuracy: 0.8571\n",
      "Epoch 582/1000\n",
      "20/20 - 0s - loss: 0.2700 - accuracy: 0.8909 - val_loss: 0.4172 - val_accuracy: 0.8247\n",
      "Epoch 583/1000\n",
      "20/20 - 0s - loss: 0.2738 - accuracy: 0.8925 - val_loss: 0.3793 - val_accuracy: 0.8506\n",
      "Epoch 584/1000\n",
      "20/20 - 0s - loss: 0.2684 - accuracy: 0.8893 - val_loss: 0.3767 - val_accuracy: 0.8377\n",
      "Epoch 585/1000\n",
      "20/20 - 0s - loss: 0.2671 - accuracy: 0.8909 - val_loss: 0.3985 - val_accuracy: 0.8377\n",
      "Epoch 586/1000\n",
      "20/20 - 0s - loss: 0.2673 - accuracy: 0.8925 - val_loss: 0.4025 - val_accuracy: 0.8377\n",
      "Epoch 587/1000\n",
      "20/20 - 0s - loss: 0.2722 - accuracy: 0.8893 - val_loss: 0.3941 - val_accuracy: 0.8506\n",
      "Epoch 588/1000\n",
      "20/20 - 0s - loss: 0.2675 - accuracy: 0.9007 - val_loss: 0.4194 - val_accuracy: 0.8247\n",
      "Epoch 589/1000\n",
      "20/20 - 0s - loss: 0.2685 - accuracy: 0.8860 - val_loss: 0.4157 - val_accuracy: 0.8312\n",
      "Epoch 590/1000\n",
      "20/20 - 0s - loss: 0.2669 - accuracy: 0.8941 - val_loss: 0.3749 - val_accuracy: 0.8377\n",
      "Epoch 591/1000\n",
      "20/20 - 0s - loss: 0.2692 - accuracy: 0.8925 - val_loss: 0.4096 - val_accuracy: 0.8182\n",
      "Epoch 592/1000\n",
      "20/20 - 0s - loss: 0.2695 - accuracy: 0.8958 - val_loss: 0.3878 - val_accuracy: 0.8377\n",
      "Epoch 593/1000\n",
      "20/20 - 0s - loss: 0.2682 - accuracy: 0.8893 - val_loss: 0.4750 - val_accuracy: 0.8312\n",
      "Epoch 594/1000\n",
      "20/20 - 0s - loss: 0.2760 - accuracy: 0.8909 - val_loss: 0.3855 - val_accuracy: 0.8571\n",
      "Epoch 595/1000\n",
      "20/20 - 0s - loss: 0.2742 - accuracy: 0.8860 - val_loss: 0.3922 - val_accuracy: 0.8312\n",
      "Epoch 596/1000\n",
      "20/20 - 0s - loss: 0.2697 - accuracy: 0.8958 - val_loss: 0.4039 - val_accuracy: 0.8182\n",
      "Epoch 597/1000\n",
      "20/20 - 0s - loss: 0.2766 - accuracy: 0.8909 - val_loss: 0.3837 - val_accuracy: 0.8571\n",
      "Epoch 598/1000\n",
      "20/20 - 0s - loss: 0.2666 - accuracy: 0.8958 - val_loss: 0.3741 - val_accuracy: 0.8442\n",
      "Epoch 599/1000\n",
      "20/20 - 0s - loss: 0.2695 - accuracy: 0.8909 - val_loss: 0.3954 - val_accuracy: 0.8636\n",
      "Epoch 600/1000\n",
      "20/20 - 0s - loss: 0.2641 - accuracy: 0.8941 - val_loss: 0.3946 - val_accuracy: 0.8182\n",
      "Epoch 601/1000\n",
      "20/20 - 0s - loss: 0.2697 - accuracy: 0.8925 - val_loss: 0.3972 - val_accuracy: 0.8247\n",
      "Epoch 602/1000\n",
      "20/20 - 0s - loss: 0.2682 - accuracy: 0.8941 - val_loss: 0.3981 - val_accuracy: 0.8182\n",
      "Epoch 603/1000\n",
      "20/20 - 0s - loss: 0.2658 - accuracy: 0.8941 - val_loss: 0.3783 - val_accuracy: 0.8571\n",
      "Epoch 604/1000\n",
      "20/20 - 0s - loss: 0.2720 - accuracy: 0.8909 - val_loss: 0.4141 - val_accuracy: 0.8182\n",
      "Epoch 605/1000\n",
      "20/20 - 0s - loss: 0.2675 - accuracy: 0.8876 - val_loss: 0.3752 - val_accuracy: 0.8506\n",
      "Epoch 606/1000\n",
      "20/20 - 0s - loss: 0.2680 - accuracy: 0.8958 - val_loss: 0.3945 - val_accuracy: 0.8442\n",
      "Epoch 607/1000\n",
      "20/20 - 0s - loss: 0.2699 - accuracy: 0.8893 - val_loss: 0.4643 - val_accuracy: 0.8117\n",
      "Epoch 608/1000\n",
      "20/20 - 0s - loss: 0.2703 - accuracy: 0.8876 - val_loss: 0.4009 - val_accuracy: 0.8442\n",
      "Epoch 609/1000\n",
      "20/20 - 0s - loss: 0.2698 - accuracy: 0.8925 - val_loss: 0.3709 - val_accuracy: 0.8377\n",
      "Epoch 610/1000\n",
      "20/20 - 0s - loss: 0.2688 - accuracy: 0.8941 - val_loss: 0.3706 - val_accuracy: 0.8571\n",
      "Epoch 611/1000\n",
      "20/20 - 0s - loss: 0.2686 - accuracy: 0.8958 - val_loss: 0.3621 - val_accuracy: 0.8571\n",
      "Epoch 612/1000\n",
      "20/20 - 0s - loss: 0.2752 - accuracy: 0.8860 - val_loss: 0.3737 - val_accuracy: 0.8247\n",
      "Epoch 613/1000\n",
      "20/20 - 0s - loss: 0.2593 - accuracy: 0.8990 - val_loss: 0.4109 - val_accuracy: 0.8052\n",
      "Epoch 614/1000\n",
      "20/20 - 0s - loss: 0.2711 - accuracy: 0.8909 - val_loss: 0.3958 - val_accuracy: 0.8377\n",
      "Epoch 615/1000\n",
      "20/20 - 0s - loss: 0.2675 - accuracy: 0.8990 - val_loss: 0.3902 - val_accuracy: 0.8312\n",
      "Epoch 616/1000\n",
      "20/20 - 0s - loss: 0.2653 - accuracy: 0.8974 - val_loss: 0.3952 - val_accuracy: 0.8377\n",
      "Epoch 617/1000\n",
      "20/20 - 0s - loss: 0.2755 - accuracy: 0.8974 - val_loss: 0.3656 - val_accuracy: 0.8506\n",
      "Epoch 618/1000\n",
      "20/20 - 0s - loss: 0.2665 - accuracy: 0.8974 - val_loss: 0.3787 - val_accuracy: 0.8701\n",
      "Epoch 619/1000\n",
      "20/20 - 0s - loss: 0.2661 - accuracy: 0.8909 - val_loss: 0.3796 - val_accuracy: 0.8506\n",
      "Epoch 620/1000\n",
      "20/20 - 0s - loss: 0.2664 - accuracy: 0.8876 - val_loss: 0.4008 - val_accuracy: 0.8377\n",
      "Epoch 621/1000\n",
      "20/20 - 0s - loss: 0.2658 - accuracy: 0.9023 - val_loss: 0.3789 - val_accuracy: 0.8182\n",
      "Epoch 622/1000\n",
      "20/20 - 0s - loss: 0.2663 - accuracy: 0.8941 - val_loss: 0.4269 - val_accuracy: 0.8377\n",
      "Epoch 623/1000\n",
      "20/20 - 0s - loss: 0.2786 - accuracy: 0.8795 - val_loss: 0.3950 - val_accuracy: 0.8766\n",
      "Epoch 624/1000\n",
      "20/20 - 0s - loss: 0.2707 - accuracy: 0.8909 - val_loss: 0.3657 - val_accuracy: 0.8312\n",
      "Epoch 625/1000\n",
      "20/20 - 0s - loss: 0.2583 - accuracy: 0.8958 - val_loss: 0.4085 - val_accuracy: 0.8247\n",
      "Epoch 626/1000\n",
      "20/20 - 0s - loss: 0.2744 - accuracy: 0.8925 - val_loss: 0.3900 - val_accuracy: 0.8312\n",
      "Epoch 627/1000\n",
      "20/20 - 0s - loss: 0.2693 - accuracy: 0.8909 - val_loss: 0.3946 - val_accuracy: 0.8506\n",
      "Epoch 628/1000\n",
      "20/20 - 0s - loss: 0.2682 - accuracy: 0.8909 - val_loss: 0.4363 - val_accuracy: 0.8377\n",
      "Epoch 629/1000\n",
      "20/20 - 0s - loss: 0.2701 - accuracy: 0.8876 - val_loss: 0.4169 - val_accuracy: 0.8377\n",
      "Epoch 630/1000\n",
      "20/20 - 0s - loss: 0.2694 - accuracy: 0.8941 - val_loss: 0.3736 - val_accuracy: 0.8442\n",
      "Epoch 631/1000\n",
      "20/20 - 0s - loss: 0.2610 - accuracy: 0.8876 - val_loss: 0.4316 - val_accuracy: 0.8247\n",
      "Epoch 632/1000\n",
      "20/20 - 0s - loss: 0.2615 - accuracy: 0.8990 - val_loss: 0.4825 - val_accuracy: 0.8247\n",
      "Epoch 633/1000\n",
      "20/20 - 0s - loss: 0.2744 - accuracy: 0.8925 - val_loss: 0.4254 - val_accuracy: 0.8182\n",
      "Epoch 634/1000\n",
      "20/20 - 0s - loss: 0.2693 - accuracy: 0.8925 - val_loss: 0.4048 - val_accuracy: 0.8117\n",
      "Epoch 635/1000\n",
      "20/20 - 0s - loss: 0.2688 - accuracy: 0.8941 - val_loss: 0.3910 - val_accuracy: 0.8377\n",
      "Epoch 636/1000\n",
      "20/20 - 0s - loss: 0.2719 - accuracy: 0.8909 - val_loss: 0.4247 - val_accuracy: 0.8247\n",
      "Epoch 637/1000\n",
      "20/20 - 0s - loss: 0.2657 - accuracy: 0.9007 - val_loss: 0.4195 - val_accuracy: 0.8377\n",
      "Epoch 638/1000\n",
      "20/20 - 0s - loss: 0.2670 - accuracy: 0.8860 - val_loss: 0.4654 - val_accuracy: 0.8377\n",
      "Epoch 639/1000\n",
      "20/20 - 0s - loss: 0.2690 - accuracy: 0.8941 - val_loss: 0.3865 - val_accuracy: 0.8312\n",
      "Epoch 640/1000\n",
      "20/20 - 0s - loss: 0.2663 - accuracy: 0.8909 - val_loss: 0.4681 - val_accuracy: 0.8182\n",
      "Epoch 641/1000\n",
      "20/20 - 0s - loss: 0.2709 - accuracy: 0.8909 - val_loss: 0.3821 - val_accuracy: 0.8247\n",
      "Epoch 642/1000\n",
      "20/20 - 0s - loss: 0.2731 - accuracy: 0.8958 - val_loss: 0.4495 - val_accuracy: 0.8312\n",
      "Epoch 643/1000\n",
      "20/20 - 0s - loss: 0.2705 - accuracy: 0.8893 - val_loss: 0.3990 - val_accuracy: 0.8182\n",
      "Epoch 644/1000\n",
      "20/20 - 0s - loss: 0.2641 - accuracy: 0.9023 - val_loss: 0.4003 - val_accuracy: 0.8117\n",
      "Epoch 645/1000\n",
      "20/20 - 0s - loss: 0.2702 - accuracy: 0.8876 - val_loss: 0.3987 - val_accuracy: 0.8312\n",
      "Epoch 646/1000\n",
      "20/20 - 0s - loss: 0.2685 - accuracy: 0.8909 - val_loss: 0.3805 - val_accuracy: 0.8247\n",
      "Epoch 647/1000\n",
      "20/20 - 0s - loss: 0.2677 - accuracy: 0.8974 - val_loss: 0.3773 - val_accuracy: 0.8571\n",
      "Epoch 648/1000\n",
      "20/20 - 0s - loss: 0.2697 - accuracy: 0.8893 - val_loss: 0.3609 - val_accuracy: 0.8506\n",
      "Epoch 649/1000\n",
      "20/20 - 0s - loss: 0.2659 - accuracy: 0.8958 - val_loss: 0.3761 - val_accuracy: 0.8506\n"
     ]
    },
    {
     "name": "stdout",
     "output_type": "stream",
     "text": [
      "Epoch 650/1000\n",
      "20/20 - 0s - loss: 0.2678 - accuracy: 0.8909 - val_loss: 0.3981 - val_accuracy: 0.8377\n",
      "Epoch 651/1000\n",
      "20/20 - 0s - loss: 0.2676 - accuracy: 0.8844 - val_loss: 0.3671 - val_accuracy: 0.8442\n",
      "Epoch 652/1000\n",
      "20/20 - 0s - loss: 0.2697 - accuracy: 0.9007 - val_loss: 0.4145 - val_accuracy: 0.8377\n",
      "Epoch 653/1000\n",
      "20/20 - 0s - loss: 0.2687 - accuracy: 0.8860 - val_loss: 0.3745 - val_accuracy: 0.8442\n",
      "Epoch 654/1000\n",
      "20/20 - 0s - loss: 0.2694 - accuracy: 0.8909 - val_loss: 0.3846 - val_accuracy: 0.8442\n",
      "Epoch 655/1000\n",
      "20/20 - 0s - loss: 0.2733 - accuracy: 0.8876 - val_loss: 0.3723 - val_accuracy: 0.8377\n",
      "Epoch 656/1000\n",
      "20/20 - 0s - loss: 0.2708 - accuracy: 0.8893 - val_loss: 0.3636 - val_accuracy: 0.8506\n",
      "Epoch 657/1000\n",
      "20/20 - 0s - loss: 0.2606 - accuracy: 0.9023 - val_loss: 0.3983 - val_accuracy: 0.8636\n",
      "Epoch 658/1000\n",
      "20/20 - 0s - loss: 0.2671 - accuracy: 0.8958 - val_loss: 0.3936 - val_accuracy: 0.8182\n",
      "Epoch 659/1000\n",
      "20/20 - 0s - loss: 0.2648 - accuracy: 0.8941 - val_loss: 0.3972 - val_accuracy: 0.8377\n",
      "Epoch 660/1000\n",
      "20/20 - 0s - loss: 0.2718 - accuracy: 0.8876 - val_loss: 0.3933 - val_accuracy: 0.8182\n",
      "Epoch 661/1000\n",
      "20/20 - 0s - loss: 0.2704 - accuracy: 0.8941 - val_loss: 0.4024 - val_accuracy: 0.8182\n",
      "Epoch 662/1000\n",
      "20/20 - 0s - loss: 0.2684 - accuracy: 0.8893 - val_loss: 0.4174 - val_accuracy: 0.8247\n",
      "Epoch 663/1000\n",
      "20/20 - 0s - loss: 0.2660 - accuracy: 0.8941 - val_loss: 0.3874 - val_accuracy: 0.8312\n",
      "Epoch 664/1000\n",
      "20/20 - 0s - loss: 0.2720 - accuracy: 0.8925 - val_loss: 0.3756 - val_accuracy: 0.8506\n",
      "Epoch 665/1000\n",
      "20/20 - 0s - loss: 0.2699 - accuracy: 0.8860 - val_loss: 0.3815 - val_accuracy: 0.8571\n",
      "Epoch 666/1000\n",
      "20/20 - 0s - loss: 0.2536 - accuracy: 0.9088 - val_loss: 0.4159 - val_accuracy: 0.8247\n",
      "Epoch 667/1000\n",
      "20/20 - 0s - loss: 0.2697 - accuracy: 0.8893 - val_loss: 0.3993 - val_accuracy: 0.8377\n",
      "Epoch 668/1000\n",
      "20/20 - 0s - loss: 0.2646 - accuracy: 0.8974 - val_loss: 0.3870 - val_accuracy: 0.8312\n",
      "Epoch 669/1000\n",
      "20/20 - 0s - loss: 0.2706 - accuracy: 0.8827 - val_loss: 0.4210 - val_accuracy: 0.8506\n",
      "Epoch 670/1000\n",
      "20/20 - 0s - loss: 0.2647 - accuracy: 0.9039 - val_loss: 0.3928 - val_accuracy: 0.8701\n",
      "Epoch 671/1000\n",
      "20/20 - 0s - loss: 0.2691 - accuracy: 0.8958 - val_loss: 0.3756 - val_accuracy: 0.8442\n",
      "Epoch 672/1000\n",
      "20/20 - 0s - loss: 0.2624 - accuracy: 0.8990 - val_loss: 0.3743 - val_accuracy: 0.8571\n",
      "Epoch 673/1000\n",
      "20/20 - 0s - loss: 0.2687 - accuracy: 0.8974 - val_loss: 0.4014 - val_accuracy: 0.8377\n",
      "Epoch 674/1000\n",
      "20/20 - 0s - loss: 0.2698 - accuracy: 0.8860 - val_loss: 0.3827 - val_accuracy: 0.8312\n",
      "Epoch 675/1000\n",
      "20/20 - 0s - loss: 0.2606 - accuracy: 0.8893 - val_loss: 0.3820 - val_accuracy: 0.8247\n",
      "Epoch 676/1000\n",
      "20/20 - 0s - loss: 0.2606 - accuracy: 0.8974 - val_loss: 0.3999 - val_accuracy: 0.8312\n",
      "Epoch 677/1000\n",
      "20/20 - 0s - loss: 0.2672 - accuracy: 0.8974 - val_loss: 0.3781 - val_accuracy: 0.8442\n",
      "Epoch 678/1000\n",
      "20/20 - 0s - loss: 0.2606 - accuracy: 0.8909 - val_loss: 0.4069 - val_accuracy: 0.8636\n",
      "Epoch 679/1000\n",
      "20/20 - 0s - loss: 0.2623 - accuracy: 0.8925 - val_loss: 0.4197 - val_accuracy: 0.8312\n",
      "Epoch 680/1000\n",
      "20/20 - 0s - loss: 0.2683 - accuracy: 0.8876 - val_loss: 0.3873 - val_accuracy: 0.8506\n",
      "Epoch 681/1000\n",
      "20/20 - 0s - loss: 0.2647 - accuracy: 0.8958 - val_loss: 0.3970 - val_accuracy: 0.8117\n",
      "Epoch 682/1000\n",
      "20/20 - 0s - loss: 0.2711 - accuracy: 0.8909 - val_loss: 0.3839 - val_accuracy: 0.8312\n",
      "Epoch 683/1000\n",
      "20/20 - 0s - loss: 0.2689 - accuracy: 0.8941 - val_loss: 0.3889 - val_accuracy: 0.8377\n",
      "Epoch 684/1000\n",
      "20/20 - 0s - loss: 0.2676 - accuracy: 0.8893 - val_loss: 0.4387 - val_accuracy: 0.8377\n",
      "Epoch 685/1000\n",
      "20/20 - 0s - loss: 0.2769 - accuracy: 0.8876 - val_loss: 0.3828 - val_accuracy: 0.8247\n",
      "Epoch 686/1000\n",
      "20/20 - 0s - loss: 0.2636 - accuracy: 0.8925 - val_loss: 0.4046 - val_accuracy: 0.8247\n",
      "Epoch 687/1000\n",
      "20/20 - 0s - loss: 0.2719 - accuracy: 0.8893 - val_loss: 0.3789 - val_accuracy: 0.8247\n",
      "Epoch 688/1000\n",
      "20/20 - 0s - loss: 0.2618 - accuracy: 0.8958 - val_loss: 0.3891 - val_accuracy: 0.8377\n",
      "Epoch 689/1000\n",
      "20/20 - 0s - loss: 0.2693 - accuracy: 0.8893 - val_loss: 0.3746 - val_accuracy: 0.8312\n",
      "Epoch 690/1000\n",
      "20/20 - 0s - loss: 0.2588 - accuracy: 0.8893 - val_loss: 0.4189 - val_accuracy: 0.8247\n",
      "Epoch 691/1000\n",
      "20/20 - 0s - loss: 0.2675 - accuracy: 0.8958 - val_loss: 0.3871 - val_accuracy: 0.8506\n",
      "Epoch 692/1000\n",
      "20/20 - 0s - loss: 0.2673 - accuracy: 0.8893 - val_loss: 0.3853 - val_accuracy: 0.8312\n",
      "Epoch 693/1000\n",
      "20/20 - 0s - loss: 0.2606 - accuracy: 0.8958 - val_loss: 0.4518 - val_accuracy: 0.8506\n",
      "Epoch 694/1000\n",
      "20/20 - 0s - loss: 0.2677 - accuracy: 0.8958 - val_loss: 0.3869 - val_accuracy: 0.8506\n",
      "Epoch 695/1000\n",
      "20/20 - 0s - loss: 0.2722 - accuracy: 0.8844 - val_loss: 0.4037 - val_accuracy: 0.8312\n",
      "Epoch 696/1000\n",
      "20/20 - 0s - loss: 0.2601 - accuracy: 0.8990 - val_loss: 0.4337 - val_accuracy: 0.8377\n",
      "Epoch 697/1000\n",
      "20/20 - 0s - loss: 0.2670 - accuracy: 0.8941 - val_loss: 0.3651 - val_accuracy: 0.8571\n",
      "Epoch 698/1000\n",
      "20/20 - 0s - loss: 0.2667 - accuracy: 0.8909 - val_loss: 0.3833 - val_accuracy: 0.8377\n",
      "Epoch 699/1000\n",
      "20/20 - 0s - loss: 0.2675 - accuracy: 0.8925 - val_loss: 0.4043 - val_accuracy: 0.8377\n",
      "Epoch 700/1000\n",
      "20/20 - 0s - loss: 0.2610 - accuracy: 0.8974 - val_loss: 0.3760 - val_accuracy: 0.8377\n",
      "Epoch 701/1000\n",
      "20/20 - 0s - loss: 0.2596 - accuracy: 0.8974 - val_loss: 0.3873 - val_accuracy: 0.8506\n",
      "Epoch 702/1000\n",
      "20/20 - 0s - loss: 0.2654 - accuracy: 0.8974 - val_loss: 0.3890 - val_accuracy: 0.8377\n",
      "Epoch 703/1000\n",
      "20/20 - 0s - loss: 0.2658 - accuracy: 0.8893 - val_loss: 0.3777 - val_accuracy: 0.8636\n",
      "Epoch 704/1000\n",
      "20/20 - 0s - loss: 0.2703 - accuracy: 0.8909 - val_loss: 0.3740 - val_accuracy: 0.8377\n",
      "Epoch 705/1000\n",
      "20/20 - 2s - loss: 0.2646 - accuracy: 0.8893 - val_loss: 0.3827 - val_accuracy: 0.8377\n",
      "Epoch 706/1000\n",
      "20/20 - 0s - loss: 0.2677 - accuracy: 0.8925 - val_loss: 0.4236 - val_accuracy: 0.8182\n",
      "Epoch 707/1000\n",
      "20/20 - 0s - loss: 0.2677 - accuracy: 0.8925 - val_loss: 0.3868 - val_accuracy: 0.8506\n",
      "Epoch 708/1000\n",
      "20/20 - 0s - loss: 0.2631 - accuracy: 0.9007 - val_loss: 0.4042 - val_accuracy: 0.8247\n",
      "Epoch 709/1000\n",
      "20/20 - 0s - loss: 0.2639 - accuracy: 0.8893 - val_loss: 0.4625 - val_accuracy: 0.8377\n",
      "Epoch 710/1000\n",
      "20/20 - 0s - loss: 0.2673 - accuracy: 0.8941 - val_loss: 0.3789 - val_accuracy: 0.8247\n",
      "Epoch 711/1000\n",
      "20/20 - 0s - loss: 0.2634 - accuracy: 0.8990 - val_loss: 0.3936 - val_accuracy: 0.8312\n",
      "Epoch 712/1000\n",
      "20/20 - 0s - loss: 0.2652 - accuracy: 0.8925 - val_loss: 0.4215 - val_accuracy: 0.8442\n",
      "Epoch 713/1000\n",
      "20/20 - 0s - loss: 0.2582 - accuracy: 0.8974 - val_loss: 0.3848 - val_accuracy: 0.8312\n",
      "Epoch 714/1000\n",
      "20/20 - 0s - loss: 0.2675 - accuracy: 0.8925 - val_loss: 0.4216 - val_accuracy: 0.8442\n",
      "Epoch 715/1000\n",
      "20/20 - 0s - loss: 0.2732 - accuracy: 0.8958 - val_loss: 0.3849 - val_accuracy: 0.8377\n",
      "Epoch 716/1000\n",
      "20/20 - 0s - loss: 0.2665 - accuracy: 0.8941 - val_loss: 0.4113 - val_accuracy: 0.8247\n",
      "Epoch 717/1000\n",
      "20/20 - 0s - loss: 0.2607 - accuracy: 0.8958 - val_loss: 0.4146 - val_accuracy: 0.8312\n",
      "Epoch 718/1000\n",
      "20/20 - 0s - loss: 0.2691 - accuracy: 0.8958 - val_loss: 0.3918 - val_accuracy: 0.8442\n",
      "Epoch 719/1000\n",
      "20/20 - 0s - loss: 0.2755 - accuracy: 0.8876 - val_loss: 0.3799 - val_accuracy: 0.8377\n",
      "Epoch 720/1000\n",
      "20/20 - 0s - loss: 0.2649 - accuracy: 0.9007 - val_loss: 0.3965 - val_accuracy: 0.8377\n",
      "Epoch 721/1000\n",
      "20/20 - 0s - loss: 0.2665 - accuracy: 0.8974 - val_loss: 0.5592 - val_accuracy: 0.7987\n",
      "Epoch 722/1000\n",
      "20/20 - 0s - loss: 0.2696 - accuracy: 0.8958 - val_loss: 0.4183 - val_accuracy: 0.8312\n",
      "Epoch 723/1000\n",
      "20/20 - 0s - loss: 0.2657 - accuracy: 0.8827 - val_loss: 0.4227 - val_accuracy: 0.8312\n",
      "Epoch 724/1000\n",
      "20/20 - 0s - loss: 0.2611 - accuracy: 0.8941 - val_loss: 0.3795 - val_accuracy: 0.8571\n",
      "Epoch 725/1000\n",
      "20/20 - 0s - loss: 0.2661 - accuracy: 0.8974 - val_loss: 0.3732 - val_accuracy: 0.8247\n",
      "Epoch 726/1000\n",
      "20/20 - 0s - loss: 0.2603 - accuracy: 0.8990 - val_loss: 0.4419 - val_accuracy: 0.7922\n",
      "Epoch 727/1000\n",
      "20/20 - 0s - loss: 0.2707 - accuracy: 0.8909 - val_loss: 0.3900 - val_accuracy: 0.8247\n",
      "Epoch 728/1000\n",
      "20/20 - 0s - loss: 0.2688 - accuracy: 0.8876 - val_loss: 0.4562 - val_accuracy: 0.7987\n",
      "Epoch 729/1000\n",
      "20/20 - 0s - loss: 0.2727 - accuracy: 0.8941 - val_loss: 0.4209 - val_accuracy: 0.8052\n",
      "Epoch 730/1000\n",
      "20/20 - 0s - loss: 0.2680 - accuracy: 0.8941 - val_loss: 0.3974 - val_accuracy: 0.8247\n"
     ]
    },
    {
     "name": "stdout",
     "output_type": "stream",
     "text": [
      "Epoch 731/1000\n",
      "20/20 - 0s - loss: 0.2674 - accuracy: 0.8958 - val_loss: 0.3842 - val_accuracy: 0.8377\n",
      "Epoch 732/1000\n",
      "20/20 - 0s - loss: 0.2633 - accuracy: 0.8941 - val_loss: 0.4448 - val_accuracy: 0.7922\n",
      "Epoch 733/1000\n",
      "20/20 - 0s - loss: 0.2641 - accuracy: 0.8941 - val_loss: 0.4103 - val_accuracy: 0.8442\n",
      "Epoch 734/1000\n",
      "20/20 - 0s - loss: 0.2668 - accuracy: 0.8941 - val_loss: 0.3661 - val_accuracy: 0.8442\n",
      "Epoch 735/1000\n",
      "20/20 - 0s - loss: 0.2734 - accuracy: 0.8909 - val_loss: 0.3917 - val_accuracy: 0.8312\n",
      "Epoch 736/1000\n",
      "20/20 - 0s - loss: 0.2603 - accuracy: 0.8990 - val_loss: 0.4235 - val_accuracy: 0.8052\n",
      "Epoch 737/1000\n",
      "20/20 - 0s - loss: 0.2677 - accuracy: 0.8990 - val_loss: 0.4125 - val_accuracy: 0.8182\n",
      "Epoch 738/1000\n",
      "20/20 - 0s - loss: 0.2654 - accuracy: 0.8876 - val_loss: 0.4305 - val_accuracy: 0.8312\n",
      "Epoch 739/1000\n",
      "20/20 - 0s - loss: 0.2645 - accuracy: 0.8958 - val_loss: 0.3786 - val_accuracy: 0.8442\n",
      "Epoch 740/1000\n",
      "20/20 - 0s - loss: 0.2588 - accuracy: 0.8974 - val_loss: 0.4338 - val_accuracy: 0.7857\n",
      "Epoch 741/1000\n",
      "20/20 - 0s - loss: 0.2619 - accuracy: 0.8844 - val_loss: 0.4034 - val_accuracy: 0.8247\n",
      "Epoch 742/1000\n",
      "20/20 - 0s - loss: 0.2654 - accuracy: 0.8990 - val_loss: 0.4210 - val_accuracy: 0.8247\n",
      "Epoch 743/1000\n",
      "20/20 - 0s - loss: 0.2649 - accuracy: 0.8958 - val_loss: 0.4011 - val_accuracy: 0.8377\n",
      "Epoch 744/1000\n",
      "20/20 - 0s - loss: 0.2645 - accuracy: 0.8909 - val_loss: 0.4063 - val_accuracy: 0.8247\n",
      "Epoch 745/1000\n",
      "20/20 - 0s - loss: 0.2640 - accuracy: 0.8990 - val_loss: 0.4325 - val_accuracy: 0.8117\n",
      "Epoch 746/1000\n",
      "20/20 - 0s - loss: 0.2714 - accuracy: 0.8909 - val_loss: 0.3905 - val_accuracy: 0.8377\n",
      "Epoch 747/1000\n",
      "20/20 - 0s - loss: 0.2660 - accuracy: 0.8974 - val_loss: 0.3727 - val_accuracy: 0.8182\n",
      "Epoch 748/1000\n",
      "20/20 - 0s - loss: 0.2640 - accuracy: 0.8958 - val_loss: 0.4367 - val_accuracy: 0.8377\n",
      "Epoch 749/1000\n",
      "20/20 - 0s - loss: 0.2664 - accuracy: 0.8941 - val_loss: 0.4161 - val_accuracy: 0.8442\n",
      "Epoch 750/1000\n",
      "20/20 - 0s - loss: 0.2806 - accuracy: 0.8941 - val_loss: 0.3827 - val_accuracy: 0.8377\n",
      "Epoch 751/1000\n",
      "20/20 - 0s - loss: 0.2651 - accuracy: 0.8893 - val_loss: 0.3981 - val_accuracy: 0.8571\n",
      "Epoch 752/1000\n",
      "20/20 - 0s - loss: 0.2621 - accuracy: 0.8990 - val_loss: 0.4093 - val_accuracy: 0.8247\n",
      "Epoch 753/1000\n",
      "20/20 - 0s - loss: 0.2606 - accuracy: 0.9007 - val_loss: 0.4209 - val_accuracy: 0.8312\n",
      "Epoch 754/1000\n",
      "20/20 - 0s - loss: 0.2750 - accuracy: 0.8909 - val_loss: 0.3931 - val_accuracy: 0.8312\n",
      "Epoch 755/1000\n",
      "20/20 - 0s - loss: 0.2633 - accuracy: 0.8958 - val_loss: 0.3879 - val_accuracy: 0.8312\n",
      "Epoch 756/1000\n",
      "20/20 - 0s - loss: 0.2637 - accuracy: 0.8941 - val_loss: 0.4010 - val_accuracy: 0.8442\n",
      "Epoch 757/1000\n",
      "20/20 - 0s - loss: 0.2713 - accuracy: 0.8876 - val_loss: 0.4058 - val_accuracy: 0.8182\n",
      "Epoch 758/1000\n",
      "20/20 - 0s - loss: 0.2655 - accuracy: 0.8941 - val_loss: 0.3801 - val_accuracy: 0.8312\n",
      "Epoch 759/1000\n",
      "20/20 - 0s - loss: 0.2586 - accuracy: 0.9023 - val_loss: 0.3842 - val_accuracy: 0.8377\n",
      "Epoch 760/1000\n",
      "20/20 - 0s - loss: 0.2740 - accuracy: 0.8925 - val_loss: 0.3946 - val_accuracy: 0.8312\n",
      "Epoch 761/1000\n",
      "20/20 - 0s - loss: 0.2706 - accuracy: 0.8876 - val_loss: 0.3763 - val_accuracy: 0.8442\n",
      "Epoch 762/1000\n",
      "20/20 - 0s - loss: 0.2673 - accuracy: 0.9007 - val_loss: 0.4028 - val_accuracy: 0.8377\n",
      "Epoch 763/1000\n",
      "20/20 - 0s - loss: 0.2691 - accuracy: 0.8860 - val_loss: 0.3896 - val_accuracy: 0.8506\n",
      "Epoch 764/1000\n",
      "20/20 - 0s - loss: 0.2721 - accuracy: 0.8941 - val_loss: 0.3938 - val_accuracy: 0.8571\n",
      "Epoch 765/1000\n",
      "20/20 - 0s - loss: 0.2560 - accuracy: 0.8990 - val_loss: 0.4154 - val_accuracy: 0.8247\n",
      "Epoch 766/1000\n",
      "20/20 - 0s - loss: 0.2673 - accuracy: 0.8990 - val_loss: 0.3863 - val_accuracy: 0.8312\n",
      "Epoch 767/1000\n",
      "20/20 - 0s - loss: 0.2647 - accuracy: 0.8925 - val_loss: 0.4346 - val_accuracy: 0.8312\n",
      "Epoch 768/1000\n",
      "20/20 - 0s - loss: 0.2636 - accuracy: 0.8958 - val_loss: 0.4386 - val_accuracy: 0.8182\n",
      "Epoch 769/1000\n",
      "20/20 - 0s - loss: 0.2674 - accuracy: 0.8941 - val_loss: 0.3941 - val_accuracy: 0.8182\n",
      "Epoch 770/1000\n",
      "20/20 - 0s - loss: 0.2670 - accuracy: 0.8941 - val_loss: 0.4312 - val_accuracy: 0.8182\n",
      "Epoch 771/1000\n",
      "20/20 - 0s - loss: 0.2676 - accuracy: 0.8925 - val_loss: 0.4432 - val_accuracy: 0.8312\n",
      "Epoch 772/1000\n",
      "20/20 - 0s - loss: 0.2590 - accuracy: 0.8974 - val_loss: 0.3846 - val_accuracy: 0.8247\n",
      "Epoch 773/1000\n",
      "20/20 - 0s - loss: 0.2635 - accuracy: 0.8941 - val_loss: 0.3698 - val_accuracy: 0.8506\n",
      "Epoch 774/1000\n",
      "20/20 - 0s - loss: 0.2656 - accuracy: 0.8974 - val_loss: 0.3812 - val_accuracy: 0.8571\n",
      "Epoch 775/1000\n",
      "20/20 - 0s - loss: 0.2680 - accuracy: 0.8925 - val_loss: 0.4155 - val_accuracy: 0.8312\n",
      "Epoch 776/1000\n",
      "20/20 - 0s - loss: 0.2657 - accuracy: 0.8974 - val_loss: 0.4130 - val_accuracy: 0.8312\n",
      "Epoch 777/1000\n",
      "20/20 - 0s - loss: 0.2691 - accuracy: 0.8974 - val_loss: 0.3905 - val_accuracy: 0.8506\n",
      "Epoch 778/1000\n",
      "20/20 - 0s - loss: 0.2675 - accuracy: 0.8827 - val_loss: 0.4532 - val_accuracy: 0.8312\n",
      "Epoch 779/1000\n",
      "20/20 - 0s - loss: 0.2664 - accuracy: 0.8941 - val_loss: 0.3997 - val_accuracy: 0.7987\n",
      "Epoch 780/1000\n",
      "20/20 - 0s - loss: 0.2679 - accuracy: 0.8827 - val_loss: 0.4314 - val_accuracy: 0.8182\n",
      "Epoch 781/1000\n",
      "20/20 - 0s - loss: 0.2656 - accuracy: 0.8990 - val_loss: 0.3869 - val_accuracy: 0.8442\n",
      "Epoch 782/1000\n",
      "20/20 - 0s - loss: 0.2661 - accuracy: 0.8844 - val_loss: 0.4074 - val_accuracy: 0.8377\n",
      "Epoch 783/1000\n",
      "20/20 - 0s - loss: 0.2654 - accuracy: 0.8958 - val_loss: 0.4142 - val_accuracy: 0.8182\n",
      "Epoch 784/1000\n",
      "20/20 - 0s - loss: 0.2640 - accuracy: 0.8925 - val_loss: 0.5013 - val_accuracy: 0.7922\n",
      "Epoch 785/1000\n",
      "20/20 - 0s - loss: 0.2625 - accuracy: 0.8909 - val_loss: 0.3855 - val_accuracy: 0.8377\n",
      "Epoch 786/1000\n",
      "20/20 - 0s - loss: 0.2675 - accuracy: 0.8990 - val_loss: 0.4372 - val_accuracy: 0.8506\n",
      "Epoch 787/1000\n",
      "20/20 - 0s - loss: 0.2753 - accuracy: 0.8876 - val_loss: 0.3783 - val_accuracy: 0.8506\n",
      "Epoch 788/1000\n",
      "20/20 - 0s - loss: 0.2627 - accuracy: 0.9007 - val_loss: 0.4340 - val_accuracy: 0.8377\n",
      "Epoch 789/1000\n",
      "20/20 - 0s - loss: 0.2680 - accuracy: 0.8876 - val_loss: 0.3748 - val_accuracy: 0.8636\n",
      "Epoch 790/1000\n",
      "20/20 - 0s - loss: 0.2680 - accuracy: 0.8974 - val_loss: 0.3886 - val_accuracy: 0.8312\n",
      "Epoch 791/1000\n",
      "20/20 - 0s - loss: 0.2622 - accuracy: 0.8958 - val_loss: 0.3964 - val_accuracy: 0.8312\n",
      "Epoch 792/1000\n",
      "20/20 - 0s - loss: 0.2575 - accuracy: 0.8990 - val_loss: 0.3888 - val_accuracy: 0.8247\n",
      "Epoch 793/1000\n",
      "20/20 - 0s - loss: 0.2726 - accuracy: 0.8909 - val_loss: 0.4128 - val_accuracy: 0.8377\n",
      "Epoch 794/1000\n",
      "20/20 - 0s - loss: 0.2634 - accuracy: 0.9055 - val_loss: 0.4359 - val_accuracy: 0.7987\n",
      "Epoch 795/1000\n",
      "20/20 - 0s - loss: 0.2787 - accuracy: 0.8811 - val_loss: 0.4209 - val_accuracy: 0.8182\n",
      "Epoch 796/1000\n",
      "20/20 - 0s - loss: 0.2679 - accuracy: 0.8941 - val_loss: 0.4381 - val_accuracy: 0.8442\n",
      "Epoch 797/1000\n",
      "20/20 - 0s - loss: 0.2669 - accuracy: 0.9007 - val_loss: 0.4241 - val_accuracy: 0.8117\n",
      "Epoch 798/1000\n",
      "20/20 - 0s - loss: 0.2660 - accuracy: 0.8909 - val_loss: 0.4048 - val_accuracy: 0.8377\n",
      "Epoch 799/1000\n",
      "20/20 - 0s - loss: 0.2588 - accuracy: 0.8990 - val_loss: 0.3928 - val_accuracy: 0.8312\n",
      "Epoch 800/1000\n",
      "20/20 - 0s - loss: 0.2699 - accuracy: 0.8958 - val_loss: 0.3971 - val_accuracy: 0.8506\n",
      "Epoch 801/1000\n",
      "20/20 - 0s - loss: 0.2636 - accuracy: 0.8958 - val_loss: 0.3973 - val_accuracy: 0.8442\n",
      "Epoch 802/1000\n",
      "20/20 - 0s - loss: 0.2618 - accuracy: 0.8941 - val_loss: 0.4228 - val_accuracy: 0.8247\n",
      "Epoch 803/1000\n",
      "20/20 - 0s - loss: 0.2677 - accuracy: 0.8958 - val_loss: 0.4395 - val_accuracy: 0.8052\n",
      "Epoch 804/1000\n",
      "20/20 - 0s - loss: 0.2707 - accuracy: 0.8860 - val_loss: 0.4605 - val_accuracy: 0.8247\n",
      "Epoch 805/1000\n",
      "20/20 - 0s - loss: 0.2674 - accuracy: 0.8941 - val_loss: 0.4107 - val_accuracy: 0.8312\n",
      "Epoch 806/1000\n",
      "20/20 - 0s - loss: 0.2621 - accuracy: 0.9055 - val_loss: 0.4163 - val_accuracy: 0.8182\n",
      "Epoch 807/1000\n",
      "20/20 - 0s - loss: 0.2669 - accuracy: 0.8941 - val_loss: 0.4605 - val_accuracy: 0.8442\n",
      "Epoch 808/1000\n",
      "20/20 - 0s - loss: 0.2604 - accuracy: 0.8958 - val_loss: 0.4445 - val_accuracy: 0.8117\n",
      "Epoch 809/1000\n",
      "20/20 - 0s - loss: 0.2749 - accuracy: 0.8925 - val_loss: 0.3947 - val_accuracy: 0.8506\n",
      "Epoch 810/1000\n",
      "20/20 - 0s - loss: 0.2635 - accuracy: 0.8990 - val_loss: 0.4084 - val_accuracy: 0.8247\n",
      "Epoch 811/1000\n",
      "20/20 - 0s - loss: 0.2683 - accuracy: 0.8941 - val_loss: 0.3875 - val_accuracy: 0.8312\n"
     ]
    },
    {
     "name": "stdout",
     "output_type": "stream",
     "text": [
      "Epoch 812/1000\n",
      "20/20 - 0s - loss: 0.2658 - accuracy: 0.8941 - val_loss: 0.4108 - val_accuracy: 0.8182\n",
      "Epoch 813/1000\n",
      "20/20 - 0s - loss: 0.2640 - accuracy: 0.8941 - val_loss: 0.4703 - val_accuracy: 0.8247\n",
      "Epoch 814/1000\n",
      "20/20 - 0s - loss: 0.2647 - accuracy: 0.8909 - val_loss: 0.4352 - val_accuracy: 0.8052\n",
      "Epoch 815/1000\n",
      "20/20 - 0s - loss: 0.2675 - accuracy: 0.8958 - val_loss: 0.4445 - val_accuracy: 0.7922\n",
      "Epoch 816/1000\n",
      "20/20 - 0s - loss: 0.2649 - accuracy: 0.8958 - val_loss: 0.4001 - val_accuracy: 0.8377\n",
      "Epoch 817/1000\n",
      "20/20 - 0s - loss: 0.2717 - accuracy: 0.8925 - val_loss: 0.4940 - val_accuracy: 0.8247\n",
      "Epoch 818/1000\n",
      "20/20 - 0s - loss: 0.2615 - accuracy: 0.9007 - val_loss: 0.4060 - val_accuracy: 0.8312\n",
      "Epoch 819/1000\n",
      "20/20 - 0s - loss: 0.2599 - accuracy: 0.8925 - val_loss: 0.4321 - val_accuracy: 0.8312\n",
      "Epoch 820/1000\n",
      "20/20 - 0s - loss: 0.2700 - accuracy: 0.8876 - val_loss: 0.3835 - val_accuracy: 0.8442\n",
      "Epoch 821/1000\n",
      "20/20 - 0s - loss: 0.2622 - accuracy: 0.9007 - val_loss: 0.3869 - val_accuracy: 0.8377\n",
      "Epoch 822/1000\n",
      "20/20 - 0s - loss: 0.2676 - accuracy: 0.8941 - val_loss: 0.4111 - val_accuracy: 0.8117\n",
      "Epoch 823/1000\n",
      "20/20 - 0s - loss: 0.2731 - accuracy: 0.8941 - val_loss: 0.3933 - val_accuracy: 0.8247\n",
      "Epoch 824/1000\n",
      "20/20 - 0s - loss: 0.2667 - accuracy: 0.8958 - val_loss: 0.4341 - val_accuracy: 0.8247\n",
      "Epoch 825/1000\n",
      "20/20 - 0s - loss: 0.2690 - accuracy: 0.8876 - val_loss: 0.3976 - val_accuracy: 0.8247\n",
      "Epoch 826/1000\n",
      "20/20 - 0s - loss: 0.2625 - accuracy: 0.8974 - val_loss: 0.4317 - val_accuracy: 0.8247\n",
      "Epoch 827/1000\n",
      "20/20 - 0s - loss: 0.2743 - accuracy: 0.8827 - val_loss: 0.4144 - val_accuracy: 0.8182\n",
      "Epoch 828/1000\n",
      "20/20 - 0s - loss: 0.2716 - accuracy: 0.8941 - val_loss: 0.4174 - val_accuracy: 0.8312\n",
      "Epoch 829/1000\n",
      "20/20 - 0s - loss: 0.2667 - accuracy: 0.8974 - val_loss: 0.3982 - val_accuracy: 0.8312\n",
      "Epoch 830/1000\n",
      "20/20 - 0s - loss: 0.2567 - accuracy: 0.8974 - val_loss: 0.4584 - val_accuracy: 0.7987\n",
      "Epoch 831/1000\n",
      "20/20 - 0s - loss: 0.2648 - accuracy: 0.8958 - val_loss: 0.4592 - val_accuracy: 0.8117\n",
      "Epoch 832/1000\n",
      "20/20 - 0s - loss: 0.2674 - accuracy: 0.8860 - val_loss: 0.3982 - val_accuracy: 0.8442\n",
      "Epoch 833/1000\n",
      "20/20 - 0s - loss: 0.2652 - accuracy: 0.8974 - val_loss: 0.4092 - val_accuracy: 0.8312\n",
      "Epoch 834/1000\n",
      "20/20 - 0s - loss: 0.2620 - accuracy: 0.9007 - val_loss: 0.3916 - val_accuracy: 0.8377\n",
      "Epoch 835/1000\n",
      "20/20 - 0s - loss: 0.2733 - accuracy: 0.8893 - val_loss: 0.4101 - val_accuracy: 0.8312\n",
      "Epoch 836/1000\n",
      "20/20 - 0s - loss: 0.2628 - accuracy: 0.8958 - val_loss: 0.3921 - val_accuracy: 0.8442\n",
      "Epoch 837/1000\n",
      "20/20 - 0s - loss: 0.2658 - accuracy: 0.8941 - val_loss: 0.4069 - val_accuracy: 0.8247\n",
      "Epoch 838/1000\n",
      "20/20 - 0s - loss: 0.2668 - accuracy: 0.8925 - val_loss: 0.4432 - val_accuracy: 0.8182\n",
      "Epoch 839/1000\n",
      "20/20 - 0s - loss: 0.2593 - accuracy: 0.9055 - val_loss: 0.4038 - val_accuracy: 0.8117\n",
      "Epoch 840/1000\n",
      "20/20 - 0s - loss: 0.2646 - accuracy: 0.8909 - val_loss: 0.4283 - val_accuracy: 0.8182\n",
      "Epoch 841/1000\n",
      "20/20 - 0s - loss: 0.2593 - accuracy: 0.8990 - val_loss: 0.4162 - val_accuracy: 0.8312\n",
      "Epoch 842/1000\n",
      "20/20 - 0s - loss: 0.2767 - accuracy: 0.8795 - val_loss: 0.3859 - val_accuracy: 0.8377\n",
      "Epoch 843/1000\n",
      "20/20 - 0s - loss: 0.2587 - accuracy: 0.8941 - val_loss: 0.3940 - val_accuracy: 0.8182\n",
      "Epoch 844/1000\n",
      "20/20 - 0s - loss: 0.2659 - accuracy: 0.8909 - val_loss: 0.4221 - val_accuracy: 0.8377\n",
      "Epoch 845/1000\n",
      "20/20 - 1s - loss: 0.2702 - accuracy: 0.8876 - val_loss: 0.3853 - val_accuracy: 0.8506\n",
      "Epoch 846/1000\n",
      "20/20 - 0s - loss: 0.2615 - accuracy: 0.8974 - val_loss: 0.4563 - val_accuracy: 0.8117\n",
      "Epoch 847/1000\n",
      "20/20 - 0s - loss: 0.2639 - accuracy: 0.9039 - val_loss: 0.4039 - val_accuracy: 0.8247\n",
      "Epoch 848/1000\n",
      "20/20 - 0s - loss: 0.2621 - accuracy: 0.8974 - val_loss: 0.3892 - val_accuracy: 0.8442\n",
      "Epoch 849/1000\n",
      "20/20 - 0s - loss: 0.2648 - accuracy: 0.8941 - val_loss: 0.4263 - val_accuracy: 0.8247\n",
      "Epoch 850/1000\n",
      "20/20 - 0s - loss: 0.2611 - accuracy: 0.8909 - val_loss: 0.4460 - val_accuracy: 0.8247\n",
      "Epoch 851/1000\n",
      "20/20 - 0s - loss: 0.2614 - accuracy: 0.9007 - val_loss: 0.4385 - val_accuracy: 0.8442\n",
      "Epoch 852/1000\n",
      "20/20 - 2s - loss: 0.2728 - accuracy: 0.8876 - val_loss: 0.4207 - val_accuracy: 0.8247\n",
      "Epoch 853/1000\n",
      "20/20 - 0s - loss: 0.2634 - accuracy: 0.8958 - val_loss: 0.3902 - val_accuracy: 0.8377\n",
      "Epoch 854/1000\n",
      "20/20 - 0s - loss: 0.2617 - accuracy: 0.8990 - val_loss: 0.3922 - val_accuracy: 0.8506\n",
      "Epoch 855/1000\n",
      "20/20 - 0s - loss: 0.2708 - accuracy: 0.8925 - val_loss: 0.3816 - val_accuracy: 0.8377\n",
      "Epoch 856/1000\n",
      "20/20 - 0s - loss: 0.2676 - accuracy: 0.8974 - val_loss: 0.4036 - val_accuracy: 0.8247\n",
      "Epoch 857/1000\n",
      "20/20 - 0s - loss: 0.2666 - accuracy: 0.8925 - val_loss: 0.4213 - val_accuracy: 0.8312\n",
      "Epoch 858/1000\n",
      "20/20 - 0s - loss: 0.2618 - accuracy: 0.8941 - val_loss: 0.4146 - val_accuracy: 0.8247\n",
      "Epoch 859/1000\n",
      "20/20 - 0s - loss: 0.2643 - accuracy: 0.8925 - val_loss: 0.4258 - val_accuracy: 0.8182\n",
      "Epoch 860/1000\n",
      "20/20 - 0s - loss: 0.2611 - accuracy: 0.8958 - val_loss: 0.3920 - val_accuracy: 0.8182\n",
      "Epoch 861/1000\n",
      "20/20 - 0s - loss: 0.2682 - accuracy: 0.8876 - val_loss: 0.3860 - val_accuracy: 0.8442\n",
      "Epoch 862/1000\n",
      "20/20 - 0s - loss: 0.2654 - accuracy: 0.8941 - val_loss: 0.4228 - val_accuracy: 0.8312\n",
      "Epoch 863/1000\n",
      "20/20 - 0s - loss: 0.2620 - accuracy: 0.9007 - val_loss: 0.4001 - val_accuracy: 0.8442\n",
      "Epoch 864/1000\n",
      "20/20 - 0s - loss: 0.2627 - accuracy: 0.8974 - val_loss: 0.4430 - val_accuracy: 0.7987\n",
      "Epoch 865/1000\n",
      "20/20 - 0s - loss: 0.2687 - accuracy: 0.8941 - val_loss: 0.4168 - val_accuracy: 0.8182\n",
      "Epoch 866/1000\n",
      "20/20 - 0s - loss: 0.2653 - accuracy: 0.8990 - val_loss: 0.4413 - val_accuracy: 0.8247\n",
      "Epoch 867/1000\n",
      "20/20 - 0s - loss: 0.2612 - accuracy: 0.8990 - val_loss: 0.4120 - val_accuracy: 0.8247\n",
      "Epoch 868/1000\n",
      "20/20 - 0s - loss: 0.2663 - accuracy: 0.8876 - val_loss: 0.4063 - val_accuracy: 0.8442\n",
      "Epoch 869/1000\n",
      "20/20 - 0s - loss: 0.2676 - accuracy: 0.8925 - val_loss: 0.3764 - val_accuracy: 0.8506\n",
      "Epoch 870/1000\n",
      "20/20 - 0s - loss: 0.2637 - accuracy: 0.8925 - val_loss: 0.4013 - val_accuracy: 0.8571\n",
      "Epoch 871/1000\n",
      "20/20 - 0s - loss: 0.2619 - accuracy: 0.8974 - val_loss: 0.4897 - val_accuracy: 0.8312\n",
      "Epoch 872/1000\n",
      "20/20 - 0s - loss: 0.2595 - accuracy: 0.8958 - val_loss: 0.3844 - val_accuracy: 0.8442\n",
      "Epoch 873/1000\n",
      "20/20 - 0s - loss: 0.2633 - accuracy: 0.8909 - val_loss: 0.4211 - val_accuracy: 0.8247\n",
      "Epoch 874/1000\n",
      "20/20 - 0s - loss: 0.2661 - accuracy: 0.8893 - val_loss: 0.4452 - val_accuracy: 0.8377\n",
      "Epoch 875/1000\n",
      "20/20 - 0s - loss: 0.2625 - accuracy: 0.9007 - val_loss: 0.4489 - val_accuracy: 0.8312\n",
      "Epoch 876/1000\n",
      "20/20 - 0s - loss: 0.2650 - accuracy: 0.8941 - val_loss: 0.4235 - val_accuracy: 0.8117\n",
      "Epoch 877/1000\n",
      "20/20 - 0s - loss: 0.2681 - accuracy: 0.8941 - val_loss: 0.4187 - val_accuracy: 0.8377\n",
      "Epoch 878/1000\n",
      "20/20 - 0s - loss: 0.2633 - accuracy: 0.8941 - val_loss: 0.3957 - val_accuracy: 0.8571\n",
      "Epoch 879/1000\n",
      "20/20 - 0s - loss: 0.2681 - accuracy: 0.9039 - val_loss: 0.4497 - val_accuracy: 0.8247\n",
      "Epoch 880/1000\n",
      "20/20 - 0s - loss: 0.2602 - accuracy: 0.8958 - val_loss: 0.4189 - val_accuracy: 0.8182\n",
      "Epoch 881/1000\n",
      "20/20 - 0s - loss: 0.2642 - accuracy: 0.8958 - val_loss: 0.4335 - val_accuracy: 0.8312\n",
      "Epoch 882/1000\n",
      "20/20 - 0s - loss: 0.2625 - accuracy: 0.8941 - val_loss: 0.4503 - val_accuracy: 0.8377\n",
      "Epoch 883/1000\n",
      "20/20 - 0s - loss: 0.2687 - accuracy: 0.8941 - val_loss: 0.4069 - val_accuracy: 0.8377\n",
      "Epoch 884/1000\n",
      "20/20 - 0s - loss: 0.2608 - accuracy: 0.8974 - val_loss: 0.4142 - val_accuracy: 0.8117\n",
      "Epoch 885/1000\n",
      "20/20 - 0s - loss: 0.2698 - accuracy: 0.9039 - val_loss: 0.4377 - val_accuracy: 0.8182\n",
      "Epoch 886/1000\n",
      "20/20 - 0s - loss: 0.2662 - accuracy: 0.8974 - val_loss: 0.4000 - val_accuracy: 0.8571\n",
      "Epoch 887/1000\n",
      "20/20 - 0s - loss: 0.2653 - accuracy: 0.8909 - val_loss: 0.4566 - val_accuracy: 0.8247\n",
      "Epoch 888/1000\n",
      "20/20 - 0s - loss: 0.2603 - accuracy: 0.8925 - val_loss: 0.4342 - val_accuracy: 0.8182\n",
      "Epoch 889/1000\n",
      "20/20 - 0s - loss: 0.2609 - accuracy: 0.8974 - val_loss: 0.4008 - val_accuracy: 0.8701\n",
      "Epoch 890/1000\n",
      "20/20 - 0s - loss: 0.2637 - accuracy: 0.9023 - val_loss: 0.4224 - val_accuracy: 0.8506\n",
      "Epoch 891/1000\n",
      "20/20 - 0s - loss: 0.2653 - accuracy: 0.9007 - val_loss: 0.4120 - val_accuracy: 0.8312\n",
      "Epoch 892/1000\n",
      "20/20 - 0s - loss: 0.2669 - accuracy: 0.8958 - val_loss: 0.4418 - val_accuracy: 0.8312\n"
     ]
    },
    {
     "name": "stdout",
     "output_type": "stream",
     "text": [
      "Epoch 893/1000\n",
      "20/20 - 0s - loss: 0.2678 - accuracy: 0.8941 - val_loss: 0.3902 - val_accuracy: 0.8377\n",
      "Epoch 894/1000\n",
      "20/20 - 0s - loss: 0.2614 - accuracy: 0.8958 - val_loss: 0.4189 - val_accuracy: 0.8182\n",
      "Epoch 895/1000\n",
      "20/20 - 0s - loss: 0.2819 - accuracy: 0.8941 - val_loss: 0.3907 - val_accuracy: 0.8571\n",
      "Epoch 896/1000\n",
      "20/20 - 0s - loss: 0.2646 - accuracy: 0.8958 - val_loss: 0.3819 - val_accuracy: 0.8442\n",
      "Epoch 897/1000\n",
      "20/20 - 0s - loss: 0.2640 - accuracy: 0.9007 - val_loss: 0.3803 - val_accuracy: 0.8442\n",
      "Epoch 898/1000\n",
      "20/20 - 0s - loss: 0.2614 - accuracy: 0.8941 - val_loss: 0.3900 - val_accuracy: 0.8377\n",
      "Epoch 899/1000\n",
      "20/20 - 0s - loss: 0.2625 - accuracy: 0.8941 - val_loss: 0.3948 - val_accuracy: 0.8312\n",
      "Epoch 900/1000\n",
      "20/20 - 0s - loss: 0.2674 - accuracy: 0.8941 - val_loss: 0.3950 - val_accuracy: 0.8312\n",
      "Epoch 901/1000\n",
      "20/20 - 0s - loss: 0.2707 - accuracy: 0.8844 - val_loss: 0.4113 - val_accuracy: 0.8247\n",
      "Epoch 902/1000\n",
      "20/20 - 0s - loss: 0.2636 - accuracy: 0.8876 - val_loss: 0.4255 - val_accuracy: 0.8182\n",
      "Epoch 903/1000\n",
      "20/20 - 0s - loss: 0.2627 - accuracy: 0.8925 - val_loss: 0.4108 - val_accuracy: 0.8312\n",
      "Epoch 904/1000\n",
      "20/20 - 0s - loss: 0.2613 - accuracy: 0.8974 - val_loss: 0.4242 - val_accuracy: 0.8247\n",
      "Epoch 905/1000\n",
      "20/20 - 0s - loss: 0.2678 - accuracy: 0.8893 - val_loss: 0.4008 - val_accuracy: 0.8182\n",
      "Epoch 906/1000\n",
      "20/20 - 0s - loss: 0.2618 - accuracy: 0.8941 - val_loss: 0.4795 - val_accuracy: 0.8312\n",
      "Epoch 907/1000\n",
      "20/20 - 0s - loss: 0.2630 - accuracy: 0.8909 - val_loss: 0.4225 - val_accuracy: 0.8312\n",
      "Epoch 908/1000\n",
      "20/20 - 0s - loss: 0.2641 - accuracy: 0.8941 - val_loss: 0.4078 - val_accuracy: 0.8247\n",
      "Epoch 909/1000\n",
      "20/20 - 0s - loss: 0.2692 - accuracy: 0.8893 - val_loss: 0.4048 - val_accuracy: 0.8571\n",
      "Epoch 910/1000\n",
      "20/20 - 0s - loss: 0.2683 - accuracy: 0.8909 - val_loss: 0.4763 - val_accuracy: 0.8247\n",
      "Epoch 911/1000\n",
      "20/20 - 0s - loss: 0.2687 - accuracy: 0.8941 - val_loss: 0.4122 - val_accuracy: 0.8442\n",
      "Epoch 912/1000\n",
      "20/20 - 0s - loss: 0.2694 - accuracy: 0.8941 - val_loss: 0.3999 - val_accuracy: 0.8571\n",
      "Epoch 913/1000\n",
      "20/20 - 0s - loss: 0.2693 - accuracy: 0.8990 - val_loss: 0.4115 - val_accuracy: 0.8312\n",
      "Epoch 914/1000\n",
      "20/20 - 0s - loss: 0.2623 - accuracy: 0.8990 - val_loss: 0.4796 - val_accuracy: 0.8247\n",
      "Epoch 915/1000\n",
      "20/20 - 0s - loss: 0.2681 - accuracy: 0.8925 - val_loss: 0.4183 - val_accuracy: 0.8377\n",
      "Epoch 916/1000\n",
      "20/20 - 0s - loss: 0.2589 - accuracy: 0.8941 - val_loss: 0.3871 - val_accuracy: 0.8377\n",
      "Epoch 917/1000\n",
      "20/20 - 0s - loss: 0.2644 - accuracy: 0.8925 - val_loss: 0.4402 - val_accuracy: 0.8247\n",
      "Epoch 918/1000\n",
      "20/20 - 0s - loss: 0.2700 - accuracy: 0.8958 - val_loss: 0.3907 - val_accuracy: 0.8312\n",
      "Epoch 919/1000\n",
      "20/20 - 0s - loss: 0.2599 - accuracy: 0.8990 - val_loss: 0.3882 - val_accuracy: 0.8377\n",
      "Epoch 920/1000\n",
      "20/20 - 0s - loss: 0.2616 - accuracy: 0.8990 - val_loss: 0.4142 - val_accuracy: 0.8182\n",
      "Epoch 921/1000\n",
      "20/20 - 0s - loss: 0.2754 - accuracy: 0.8860 - val_loss: 0.4200 - val_accuracy: 0.8312\n",
      "Epoch 922/1000\n",
      "20/20 - 0s - loss: 0.2637 - accuracy: 0.8893 - val_loss: 0.4339 - val_accuracy: 0.8247\n",
      "Epoch 923/1000\n",
      "20/20 - 0s - loss: 0.2605 - accuracy: 0.8941 - val_loss: 0.4235 - val_accuracy: 0.8312\n",
      "Epoch 924/1000\n",
      "20/20 - 0s - loss: 0.2621 - accuracy: 0.8974 - val_loss: 0.5164 - val_accuracy: 0.8117\n",
      "Epoch 925/1000\n",
      "20/20 - 0s - loss: 0.2584 - accuracy: 0.9055 - val_loss: 0.3989 - val_accuracy: 0.8312\n",
      "Epoch 926/1000\n",
      "20/20 - 0s - loss: 0.2619 - accuracy: 0.8974 - val_loss: 0.4052 - val_accuracy: 0.8571\n",
      "Epoch 927/1000\n",
      "20/20 - 0s - loss: 0.2606 - accuracy: 0.8925 - val_loss: 0.3774 - val_accuracy: 0.8442\n",
      "Epoch 928/1000\n",
      "20/20 - 0s - loss: 0.2659 - accuracy: 0.8876 - val_loss: 0.3767 - val_accuracy: 0.8506\n",
      "Epoch 929/1000\n",
      "20/20 - 0s - loss: 0.2638 - accuracy: 0.8974 - val_loss: 0.4000 - val_accuracy: 0.8506\n",
      "Epoch 930/1000\n",
      "20/20 - 0s - loss: 0.2626 - accuracy: 0.8941 - val_loss: 0.4228 - val_accuracy: 0.8312\n",
      "Epoch 931/1000\n",
      "20/20 - 0s - loss: 0.2650 - accuracy: 0.8893 - val_loss: 0.4513 - val_accuracy: 0.8117\n",
      "Epoch 932/1000\n",
      "20/20 - 0s - loss: 0.2721 - accuracy: 0.8893 - val_loss: 0.3753 - val_accuracy: 0.8442\n",
      "Epoch 933/1000\n",
      "20/20 - 0s - loss: 0.2690 - accuracy: 0.8941 - val_loss: 0.4732 - val_accuracy: 0.8117\n",
      "Epoch 934/1000\n",
      "20/20 - 0s - loss: 0.2721 - accuracy: 0.8941 - val_loss: 0.3940 - val_accuracy: 0.8247\n",
      "Epoch 935/1000\n",
      "20/20 - 0s - loss: 0.2619 - accuracy: 0.8941 - val_loss: 0.3974 - val_accuracy: 0.8377\n",
      "Epoch 936/1000\n",
      "20/20 - 0s - loss: 0.2665 - accuracy: 0.8941 - val_loss: 0.4342 - val_accuracy: 0.8312\n",
      "Epoch 937/1000\n",
      "20/20 - 0s - loss: 0.2689 - accuracy: 0.8909 - val_loss: 0.4075 - val_accuracy: 0.8377\n",
      "Epoch 938/1000\n",
      "20/20 - 0s - loss: 0.2619 - accuracy: 0.8974 - val_loss: 0.4331 - val_accuracy: 0.8312\n",
      "Epoch 939/1000\n",
      "20/20 - 0s - loss: 0.2668 - accuracy: 0.8893 - val_loss: 0.3785 - val_accuracy: 0.8312\n",
      "Epoch 940/1000\n",
      "20/20 - 0s - loss: 0.2614 - accuracy: 0.9055 - val_loss: 0.4476 - val_accuracy: 0.8377\n",
      "Epoch 941/1000\n",
      "20/20 - 0s - loss: 0.2654 - accuracy: 0.8974 - val_loss: 0.4059 - val_accuracy: 0.8571\n",
      "Epoch 942/1000\n",
      "20/20 - 0s - loss: 0.2637 - accuracy: 0.8876 - val_loss: 0.4217 - val_accuracy: 0.8442\n",
      "Epoch 943/1000\n",
      "20/20 - 0s - loss: 0.2602 - accuracy: 0.8974 - val_loss: 0.4620 - val_accuracy: 0.8442\n",
      "Epoch 944/1000\n",
      "20/20 - 0s - loss: 0.2594 - accuracy: 0.8909 - val_loss: 0.4564 - val_accuracy: 0.8117\n",
      "Epoch 945/1000\n",
      "20/20 - 0s - loss: 0.2628 - accuracy: 0.8876 - val_loss: 0.4275 - val_accuracy: 0.8377\n",
      "Epoch 946/1000\n",
      "20/20 - 0s - loss: 0.2627 - accuracy: 0.8925 - val_loss: 0.4503 - val_accuracy: 0.8182\n",
      "Epoch 947/1000\n",
      "20/20 - 0s - loss: 0.2682 - accuracy: 0.8974 - val_loss: 0.3947 - val_accuracy: 0.8377\n",
      "Epoch 948/1000\n",
      "20/20 - 0s - loss: 0.2565 - accuracy: 0.9055 - val_loss: 0.5053 - val_accuracy: 0.7987\n",
      "Epoch 949/1000\n",
      "20/20 - 0s - loss: 0.2720 - accuracy: 0.8844 - val_loss: 0.4104 - val_accuracy: 0.8506\n",
      "Epoch 950/1000\n",
      "20/20 - 0s - loss: 0.2701 - accuracy: 0.8941 - val_loss: 0.4156 - val_accuracy: 0.8182\n",
      "Epoch 951/1000\n",
      "20/20 - 0s - loss: 0.2625 - accuracy: 0.8990 - val_loss: 0.4278 - val_accuracy: 0.8442\n",
      "Epoch 952/1000\n",
      "20/20 - 0s - loss: 0.2711 - accuracy: 0.8876 - val_loss: 0.4046 - val_accuracy: 0.8506\n",
      "Epoch 953/1000\n",
      "20/20 - 0s - loss: 0.2662 - accuracy: 0.8974 - val_loss: 0.4076 - val_accuracy: 0.8442\n",
      "Epoch 954/1000\n",
      "20/20 - 0s - loss: 0.2599 - accuracy: 0.8941 - val_loss: 0.4481 - val_accuracy: 0.8506\n",
      "Epoch 955/1000\n",
      "20/20 - 0s - loss: 0.2686 - accuracy: 0.8909 - val_loss: 0.3855 - val_accuracy: 0.8312\n",
      "Epoch 956/1000\n",
      "20/20 - 0s - loss: 0.2630 - accuracy: 0.8958 - val_loss: 0.4224 - val_accuracy: 0.8117\n",
      "Epoch 957/1000\n",
      "20/20 - 0s - loss: 0.2726 - accuracy: 0.8958 - val_loss: 0.4557 - val_accuracy: 0.8312\n",
      "Epoch 958/1000\n",
      "20/20 - 0s - loss: 0.2610 - accuracy: 0.9007 - val_loss: 0.4099 - val_accuracy: 0.8182\n",
      "Epoch 959/1000\n",
      "20/20 - 0s - loss: 0.2664 - accuracy: 0.8974 - val_loss: 0.3908 - val_accuracy: 0.8377\n",
      "Epoch 960/1000\n",
      "20/20 - 0s - loss: 0.2611 - accuracy: 0.8925 - val_loss: 0.4102 - val_accuracy: 0.8377\n",
      "Epoch 961/1000\n",
      "20/20 - 0s - loss: 0.2636 - accuracy: 0.8958 - val_loss: 0.3903 - val_accuracy: 0.8182\n",
      "Epoch 962/1000\n",
      "20/20 - 0s - loss: 0.2604 - accuracy: 0.8974 - val_loss: 0.4880 - val_accuracy: 0.8052\n",
      "Epoch 963/1000\n",
      "20/20 - 0s - loss: 0.2721 - accuracy: 0.8876 - val_loss: 0.4236 - val_accuracy: 0.8247\n",
      "Epoch 964/1000\n",
      "20/20 - 0s - loss: 0.2666 - accuracy: 0.8974 - val_loss: 0.4707 - val_accuracy: 0.8052\n",
      "Epoch 965/1000\n",
      "20/20 - 0s - loss: 0.2629 - accuracy: 0.8941 - val_loss: 0.4648 - val_accuracy: 0.7857\n",
      "Epoch 966/1000\n",
      "20/20 - 0s - loss: 0.2667 - accuracy: 0.8925 - val_loss: 0.3967 - val_accuracy: 0.8247\n",
      "Epoch 967/1000\n",
      "20/20 - 0s - loss: 0.2676 - accuracy: 0.9023 - val_loss: 0.4013 - val_accuracy: 0.8247\n",
      "Epoch 968/1000\n",
      "20/20 - 0s - loss: 0.2587 - accuracy: 0.8958 - val_loss: 0.4070 - val_accuracy: 0.8442\n",
      "Epoch 969/1000\n",
      "20/20 - 0s - loss: 0.2638 - accuracy: 0.9007 - val_loss: 0.4070 - val_accuracy: 0.8571\n",
      "Epoch 970/1000\n",
      "20/20 - 0s - loss: 0.2627 - accuracy: 0.8958 - val_loss: 0.4478 - val_accuracy: 0.8182\n",
      "Epoch 971/1000\n",
      "20/20 - 0s - loss: 0.2717 - accuracy: 0.8893 - val_loss: 0.4498 - val_accuracy: 0.8182\n",
      "Epoch 972/1000\n",
      "20/20 - 0s - loss: 0.2640 - accuracy: 0.9023 - val_loss: 0.4237 - val_accuracy: 0.8182\n",
      "Epoch 973/1000\n",
      "20/20 - 0s - loss: 0.2660 - accuracy: 0.9023 - val_loss: 0.4387 - val_accuracy: 0.8117\n"
     ]
    },
    {
     "name": "stdout",
     "output_type": "stream",
     "text": [
      "Epoch 974/1000\n",
      "20/20 - 0s - loss: 0.2635 - accuracy: 0.8974 - val_loss: 0.3815 - val_accuracy: 0.8377\n",
      "Epoch 975/1000\n",
      "20/20 - 0s - loss: 0.2672 - accuracy: 0.8893 - val_loss: 0.4445 - val_accuracy: 0.8182\n",
      "Epoch 976/1000\n",
      "20/20 - 0s - loss: 0.2632 - accuracy: 0.8941 - val_loss: 0.4370 - val_accuracy: 0.8182\n",
      "Epoch 977/1000\n",
      "20/20 - 0s - loss: 0.2646 - accuracy: 0.9007 - val_loss: 0.4211 - val_accuracy: 0.8442\n",
      "Epoch 978/1000\n",
      "20/20 - 0s - loss: 0.2604 - accuracy: 0.8974 - val_loss: 0.4373 - val_accuracy: 0.8117\n",
      "Epoch 979/1000\n",
      "20/20 - 0s - loss: 0.2679 - accuracy: 0.8958 - val_loss: 0.4053 - val_accuracy: 0.8377\n",
      "Epoch 980/1000\n",
      "20/20 - 0s - loss: 0.2667 - accuracy: 0.8958 - val_loss: 0.4491 - val_accuracy: 0.8247\n",
      "Epoch 981/1000\n",
      "20/20 - 0s - loss: 0.2639 - accuracy: 0.8925 - val_loss: 0.3945 - val_accuracy: 0.8247\n",
      "Epoch 982/1000\n",
      "20/20 - 0s - loss: 0.2641 - accuracy: 0.8909 - val_loss: 0.4240 - val_accuracy: 0.8182\n",
      "Epoch 983/1000\n",
      "20/20 - 0s - loss: 0.2636 - accuracy: 0.8958 - val_loss: 0.3831 - val_accuracy: 0.8377\n",
      "Epoch 984/1000\n",
      "20/20 - 0s - loss: 0.2687 - accuracy: 0.8941 - val_loss: 0.3964 - val_accuracy: 0.8182\n",
      "Epoch 985/1000\n",
      "20/20 - 0s - loss: 0.2658 - accuracy: 0.8958 - val_loss: 0.3896 - val_accuracy: 0.8182\n",
      "Epoch 986/1000\n",
      "20/20 - 0s - loss: 0.2667 - accuracy: 0.8893 - val_loss: 0.3911 - val_accuracy: 0.8377\n",
      "Epoch 987/1000\n",
      "20/20 - 0s - loss: 0.2734 - accuracy: 0.8876 - val_loss: 0.3915 - val_accuracy: 0.8377\n",
      "Epoch 988/1000\n",
      "20/20 - 0s - loss: 0.2585 - accuracy: 0.8941 - val_loss: 0.3997 - val_accuracy: 0.8312\n",
      "Epoch 989/1000\n",
      "20/20 - 0s - loss: 0.2622 - accuracy: 0.8909 - val_loss: 0.4327 - val_accuracy: 0.8312\n",
      "Epoch 990/1000\n",
      "20/20 - 0s - loss: 0.2644 - accuracy: 0.8941 - val_loss: 0.4051 - val_accuracy: 0.8442\n",
      "Epoch 991/1000\n",
      "20/20 - 0s - loss: 0.2610 - accuracy: 0.9023 - val_loss: 0.4283 - val_accuracy: 0.8377\n",
      "Epoch 992/1000\n",
      "20/20 - 0s - loss: 0.2664 - accuracy: 0.8974 - val_loss: 0.4245 - val_accuracy: 0.8182\n",
      "Epoch 993/1000\n",
      "20/20 - 0s - loss: 0.2557 - accuracy: 0.8958 - val_loss: 0.4206 - val_accuracy: 0.8442\n",
      "Epoch 994/1000\n",
      "20/20 - 0s - loss: 0.2688 - accuracy: 0.8909 - val_loss: 0.4165 - val_accuracy: 0.8182\n",
      "Epoch 995/1000\n",
      "20/20 - 0s - loss: 0.2633 - accuracy: 0.8974 - val_loss: 0.4054 - val_accuracy: 0.8506\n",
      "Epoch 996/1000\n",
      "20/20 - 0s - loss: 0.2640 - accuracy: 0.8925 - val_loss: 0.4042 - val_accuracy: 0.8312\n",
      "Epoch 997/1000\n",
      "20/20 - 0s - loss: 0.2685 - accuracy: 0.8909 - val_loss: 0.4088 - val_accuracy: 0.8247\n",
      "Epoch 998/1000\n",
      "20/20 - 2s - loss: 0.2632 - accuracy: 0.8941 - val_loss: 0.4138 - val_accuracy: 0.8312\n",
      "Epoch 999/1000\n",
      "20/20 - 0s - loss: 0.2681 - accuracy: 0.8958 - val_loss: 0.4297 - val_accuracy: 0.8442\n",
      "Epoch 1000/1000\n",
      "20/20 - 0s - loss: 0.2641 - accuracy: 0.8941 - val_loss: 0.4040 - val_accuracy: 0.8312\n"
     ]
    }
   ],
   "source": [
    "EPOCHS = 1000\n",
    "\n",
    "history = model.fit(scaled_data, data['Outcome'],epochs=EPOCHS, validation_split=0.2, verbose=2)"
   ]
  },
  {
   "cell_type": "code",
   "execution_count": 42,
   "metadata": {},
   "outputs": [
    {
     "data": {
      "text/html": [
       "<div>\n",
       "<style scoped>\n",
       "    .dataframe tbody tr th:only-of-type {\n",
       "        vertical-align: middle;\n",
       "    }\n",
       "\n",
       "    .dataframe tbody tr th {\n",
       "        vertical-align: top;\n",
       "    }\n",
       "\n",
       "    .dataframe thead th {\n",
       "        text-align: right;\n",
       "    }\n",
       "</style>\n",
       "<table border=\"1\" class=\"dataframe\">\n",
       "  <thead>\n",
       "    <tr style=\"text-align: right;\">\n",
       "      <th></th>\n",
       "      <th>loss</th>\n",
       "      <th>accuracy</th>\n",
       "      <th>val_loss</th>\n",
       "      <th>val_accuracy</th>\n",
       "      <th>epoch</th>\n",
       "    </tr>\n",
       "  </thead>\n",
       "  <tbody>\n",
       "    <tr>\n",
       "      <th>995</th>\n",
       "      <td>0.263962</td>\n",
       "      <td>0.892508</td>\n",
       "      <td>0.404225</td>\n",
       "      <td>0.831169</td>\n",
       "      <td>995</td>\n",
       "    </tr>\n",
       "    <tr>\n",
       "      <th>996</th>\n",
       "      <td>0.268534</td>\n",
       "      <td>0.890879</td>\n",
       "      <td>0.408825</td>\n",
       "      <td>0.824675</td>\n",
       "      <td>996</td>\n",
       "    </tr>\n",
       "    <tr>\n",
       "      <th>997</th>\n",
       "      <td>0.263245</td>\n",
       "      <td>0.894137</td>\n",
       "      <td>0.413756</td>\n",
       "      <td>0.831169</td>\n",
       "      <td>997</td>\n",
       "    </tr>\n",
       "    <tr>\n",
       "      <th>998</th>\n",
       "      <td>0.268077</td>\n",
       "      <td>0.895765</td>\n",
       "      <td>0.429661</td>\n",
       "      <td>0.844156</td>\n",
       "      <td>998</td>\n",
       "    </tr>\n",
       "    <tr>\n",
       "      <th>999</th>\n",
       "      <td>0.264094</td>\n",
       "      <td>0.894137</td>\n",
       "      <td>0.404038</td>\n",
       "      <td>0.831169</td>\n",
       "      <td>999</td>\n",
       "    </tr>\n",
       "  </tbody>\n",
       "</table>\n",
       "</div>"
      ],
      "text/plain": [
       "         loss  accuracy  val_loss  val_accuracy  epoch\n",
       "995  0.263962  0.892508  0.404225      0.831169    995\n",
       "996  0.268534  0.890879  0.408825      0.824675    996\n",
       "997  0.263245  0.894137  0.413756      0.831169    997\n",
       "998  0.268077  0.895765  0.429661      0.844156    998\n",
       "999  0.264094  0.894137  0.404038      0.831169    999"
      ]
     },
     "execution_count": 42,
     "metadata": {},
     "output_type": "execute_result"
    }
   ],
   "source": [
    "hist = pd.DataFrame(history.history)\n",
    "hist['epoch'] = history.epoch\n",
    "hist.tail()"
   ]
  },
  {
   "cell_type": "code",
   "execution_count": 43,
   "metadata": {},
   "outputs": [
    {
     "name": "stdout",
     "output_type": "stream",
     "text": [
      "Training Accuracy = 89.34853315353394% and Validation Accuracy= 83.2467532157898%\n"
     ]
    }
   ],
   "source": [
    "acc = (hist['accuracy'].tail().sum())*100/5 \n",
    "val_acc = (hist['val_accuracy'].tail().sum())*100/5 \n",
    "\n",
    "print(\"Training Accuracy = {}% and Validation Accuracy= {}%\".format(acc,val_acc))"
   ]
  },
  {
   "cell_type": "code",
   "execution_count": null,
   "metadata": {},
   "outputs": [],
   "source": []
  }
 ],
 "metadata": {
  "kernelspec": {
   "display_name": "Python 3",
   "language": "python",
   "name": "python3"
  },
  "language_info": {
   "codemirror_mode": {
    "name": "ipython",
    "version": 3
   },
   "file_extension": ".py",
   "mimetype": "text/x-python",
   "name": "python",
   "nbconvert_exporter": "python",
   "pygments_lexer": "ipython3",
   "version": "3.8.3"
  }
 },
 "nbformat": 4,
 "nbformat_minor": 4
}
